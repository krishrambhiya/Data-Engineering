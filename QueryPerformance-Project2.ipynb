{
 "cells": [
  {
   "cell_type": "code",
   "execution_count": 1,
   "metadata": {
    "deletable": false,
    "editable": false
   },
   "outputs": [],
   "source": [
    "# Initialize Otter\n",
    "import otter\n",
    "grader = otter.Notebook(\"proj2.ipynb\")"
   ]
  },
  {
   "cell_type": "markdown",
   "metadata": {},
   "source": [
    "# Project 2: Query Performance\n",
    "## Due Date: Thursday, October 5th, 5:00 PM\n",
    "\n",
    "## Assignment Details\n",
    "In this project, we will explore how the database system optimizes query execution and how users can futher tune the performance of their queries.\n",
    "\n",
    "This project works with the Lahman's Baseball Database, an open source collection of baseball statistics from 1871 to 2020. It contains a variety of data, like batting statistics, team stats, managerial records, Hall of Fame records, and much more.\n",
    "\n",
    "You may find this project's queries to be simpler than in Project 1. However, although the queries may not be as complex, we still expect you to spend ample time thinking through the effects of each of the methods, as reasoning about the tradeoff between different approaches is the goal of this assignment.\n",
    "\n",
    "**Note:** If at any point during the project, the internal state of the database or its tables have been modified in an undesirable way (i.e. a modification not resulting from the instructions of a question), restart your kernel and clear output and simply re-run the notebook as normal. This will shutdown you current connection to the database, which will prevent the issue of multiple connections to the database at any given point, and when re-running the notebook you will create a fresh database based on the provided Postgres dump.\n",
    "\n",
    "## Logistics & Scoring Breakdown\n",
    "\n",
    "- Each coding question has **both public tests and hidden tests**. Roughly 50% of your coding grade will be made up of your score on the public tests released to you, while the remaining 50% will be made up of unreleased hidden tests.\n",
    "- Public tests for multiple choice questions are for sanity check only (e.g. you are answering in the correct format). Partial credit will be awarded.\n",
    "- Free-response questions will be manually graded. Please answer thoughtfully and concisely in complete sentences, drawing from knowledge in lectures and from your inspection of query plans.\n",
    "\n",
    "This is an **individual project**. However, you’re welcome to collaborate with any other student in the class as long as it’s within the academic honesty guidelines.\n",
    "\n",
    "\n",
    "| Question    | 0 | 1 | 2              | 3    | 4    | 5              | 6              | 7    | 8              | 9        | 10        |\n",
    "| ----------- | - | - | -------------- | ---- | ---- | -------------- | -------------- | ---- | -------------- | -------- | --------- |\n",
    "| No Subparts | 1 |   |                |      |      |                |                |      |                |          | 6         |\n",
    "| a           |   | 1 | 1              | 1    | 1    | 2              | 2              | 2    | 1              | 1        |           |\n",
    "| b           |   | 3 | 3              | 1    | 1    | 1              | 2              | 1    | 1              | 1        |           |\n",
    "| c           |   |   | 1              | m: 2 | 1    | 1              | 1              | m: 3 | 1              | 2 (m: 2) |           |\n",
    "| d           |   |   | 4 (m: 2, a: 2) | m: 2 | m: 3 | 4 (m: 2, a: 2) | 1              |      | 4 (m: 2, a: 2) |          |           |\n",
    "| e           |   |   |                |      |      |                | 4 (m: 2, a: 2) |      |                |          |           |\n",
    "| **Total**       | 1 | 4 | 9              | 6    | 6    | 8              | 10             | 6    | 7              | 4        | manual: 6 |\n",
    "\n",
    "\n",
    "**Grand Total:** 67 points (manual: 26, autograded: 41)"
   ]
  },
  {
   "cell_type": "code",
   "execution_count": 2,
   "metadata": {},
   "outputs": [],
   "source": [
    "# Run this cell to set up imports\n",
    "import numpy as np\n",
    "import pandas as pd"
   ]
  },
  {
   "cell_type": "markdown",
   "metadata": {},
   "source": [
    "## Getting Connected\n",
    "Similar to Project 1, we will be using the `JupySQL` library to connect this notebook to a PostgreSQL database server on your JupyterHub account. Run the following cell to initiate the connection."
   ]
  },
  {
   "cell_type": "code",
   "execution_count": 3,
   "metadata": {},
   "outputs": [],
   "source": [
    "%reload_ext sql\n",
    "%sql postgresql://jovyan@127.0.0.1:5432/postgres"
   ]
  },
  {
   "cell_type": "code",
   "execution_count": 4,
   "metadata": {},
   "outputs": [
    {
     "data": {
      "text/html": [
       "<span style=\"None\">displaylimit: Value None will be treated as 0 (no limit)</span>"
      ],
      "text/plain": [
       "displaylimit: Value None will be treated as 0 (no limit)"
      ]
     },
     "metadata": {},
     "output_type": "display_data"
    }
   ],
   "source": [
    "# See full display\n",
    "%config SqlMagic.displaylimit = None"
   ]
  },
  {
   "cell_type": "markdown",
   "metadata": {},
   "source": [
    "## Setting up the Database\n",
    "The following cell will create the `baseball` database (if needed), unzip the Postgres dump of the Lahman's Baseball Database, populate the `baseball` database with the desired tables and data, and finally display all databases associated with the Postgres instance. After running the cell, you should see the `baseball` database in the generated list of databases outputted by `%sql \\l`.\n",
    "\n",
    "**Note:** If you run into the **role does not exist**/**database does not exist** error the first time you run this cell, feel free to ignore it. It does not affect data import."
   ]
  },
  {
   "cell_type": "code",
   "execution_count": 5,
   "metadata": {},
   "outputs": [
    {
     "name": "stdout",
     "output_type": "stream",
     "text": [
      "Archive:  data/baseball.zip\n"
     ]
    }
   ],
   "source": [
    "!unzip -u data/baseball.zip -d data/"
   ]
  },
  {
   "cell_type": "code",
   "execution_count": 6,
   "metadata": {
    "scrolled": true
   },
   "outputs": [
    {
     "name": "stdout",
     "output_type": "stream",
     "text": [
      " pg_terminate_backend \n",
      "----------------------\n",
      "(0 rows)\n",
      "\n",
      "DROP DATABASE\n",
      "CREATE DATABASE\n",
      "SET\n",
      "SET\n",
      "SET\n",
      "SET\n",
      "SET\n",
      " set_config \n",
      "------------\n",
      " \n",
      "(1 row)\n",
      "\n",
      "SET\n",
      "SET\n",
      "SET\n",
      "SET\n",
      "SET\n",
      "SET\n",
      "CREATE TABLE\n",
      "ALTER TABLE\n",
      "CREATE TABLE\n",
      "ALTER TABLE\n",
      "CREATE TABLE\n",
      "ALTER TABLE\n",
      "CREATE TABLE\n",
      "ALTER TABLE\n",
      "CREATE TABLE\n",
      "ALTER TABLE\n",
      "CREATE TABLE\n",
      "ALTER TABLE\n",
      "CREATE TABLE\n",
      "ALTER TABLE\n",
      "CREATE TABLE\n",
      "ALTER TABLE\n",
      "CREATE TABLE\n",
      "ALTER TABLE\n",
      "CREATE TABLE\n",
      "ALTER TABLE\n",
      "CREATE TABLE\n",
      "ALTER TABLE\n",
      "CREATE TABLE\n",
      "ALTER TABLE\n",
      "CREATE TABLE\n",
      "ALTER TABLE\n",
      "CREATE TABLE\n",
      "ALTER TABLE\n",
      "CREATE TABLE\n",
      "ALTER TABLE\n",
      "CREATE TABLE\n",
      "ALTER TABLE\n",
      "CREATE TABLE\n",
      "ALTER TABLE\n",
      "CREATE TABLE\n",
      "ALTER TABLE\n",
      "CREATE TABLE\n",
      "ALTER TABLE\n",
      "CREATE TABLE\n",
      "ALTER TABLE\n",
      "CREATE TABLE\n",
      "ALTER TABLE\n",
      "CREATE TABLE\n",
      "ALTER TABLE\n",
      "CREATE TABLE\n",
      "ALTER TABLE\n",
      "CREATE TABLE\n",
      "ALTER TABLE\n",
      "CREATE TABLE\n",
      "ALTER TABLE\n",
      "CREATE TABLE\n",
      "ALTER TABLE\n",
      "CREATE TABLE\n",
      "ALTER TABLE\n",
      "COPY 5219\n",
      "COPY 104256\n",
      "COPY 179\n",
      "COPY 6236\n",
      "COPY 425\n",
      "COPY 6879\n",
      "COPY 104324\n",
      "COPY 13943\n",
      "COPY 17350\n",
      "COPY 138838\n",
      "COPY 12028\n",
      "COPY 31955\n",
      "COPY 13110\n",
      "COPY 4191\n",
      "COPY 3040\n",
      "COPY 3469\n",
      "COPY 93\n",
      "COPY 252\n",
      "COPY 19370\n",
      "COPY 45806\n",
      "COPY 5445\n",
      "COPY 26428\n",
      "COPY 1207\n",
      "COPY 325\n",
      "COPY 2865\n",
      "COPY 120\n",
      "COPY 52\n",
      "ALTER TABLE\n",
      "ALTER TABLE\n",
      "ALTER TABLE\n",
      "ALTER TABLE\n",
      "ALTER TABLE\n",
      "ALTER TABLE\n",
      "ALTER TABLE\n",
      "ALTER TABLE\n",
      "ALTER TABLE\n",
      "ALTER TABLE\n",
      "ALTER TABLE\n",
      "ALTER TABLE\n",
      "ALTER TABLE\n",
      "ALTER TABLE\n",
      "ALTER TABLE\n",
      "ALTER TABLE\n",
      "ALTER TABLE\n",
      "ALTER TABLE\n",
      "ALTER TABLE\n",
      "ALTER TABLE\n",
      "ALTER TABLE\n",
      "ALTER TABLE\n",
      "ALTER TABLE\n",
      "ALTER TABLE\n",
      "ALTER TABLE\n",
      "ALTER TABLE\n",
      "SET\n"
     ]
    },
    {
     "data": {
      "text/html": [
       "<span style=\"None\">Running query in &#x27;postgresql://jovyan@127.0.0.1:5432/postgres&#x27;</span>"
      ],
      "text/plain": [
       "Running query in 'postgresql://jovyan@127.0.0.1:5432/postgres'"
      ]
     },
     "metadata": {},
     "output_type": "display_data"
    },
    {
     "data": {
      "text/html": [
       "<table>\n",
       "    <thead>\n",
       "        <tr>\n",
       "            <th>Name</th>\n",
       "            <th>Owner</th>\n",
       "            <th>Encoding</th>\n",
       "            <th>Collate</th>\n",
       "            <th>Ctype</th>\n",
       "            <th>Access privileges</th>\n",
       "        </tr>\n",
       "    </thead>\n",
       "    <tbody>\n",
       "        <tr>\n",
       "            <td>baseball</td>\n",
       "            <td>jovyan</td>\n",
       "            <td>UTF8</td>\n",
       "            <td>en_US.utf8</td>\n",
       "            <td>en_US.utf8</td>\n",
       "            <td>None</td>\n",
       "        </tr>\n",
       "        <tr>\n",
       "            <td>imdb</td>\n",
       "            <td>jovyan</td>\n",
       "            <td>UTF8</td>\n",
       "            <td>en_US.utf8</td>\n",
       "            <td>en_US.utf8</td>\n",
       "            <td>None</td>\n",
       "        </tr>\n",
       "        <tr>\n",
       "            <td>jovyan</td>\n",
       "            <td>jovyan</td>\n",
       "            <td>UTF8</td>\n",
       "            <td>en_US.utf8</td>\n",
       "            <td>en_US.utf8</td>\n",
       "            <td>None</td>\n",
       "        </tr>\n",
       "        <tr>\n",
       "            <td>postgres</td>\n",
       "            <td>jovyan</td>\n",
       "            <td>UTF8</td>\n",
       "            <td>en_US.utf8</td>\n",
       "            <td>en_US.utf8</td>\n",
       "            <td>None</td>\n",
       "        </tr>\n",
       "        <tr>\n",
       "            <td>template0</td>\n",
       "            <td>jovyan</td>\n",
       "            <td>UTF8</td>\n",
       "            <td>en_US.utf8</td>\n",
       "            <td>en_US.utf8</td>\n",
       "            <td>=c/jovyan<br>jovyan=CTc/jovyan</td>\n",
       "        </tr>\n",
       "        <tr>\n",
       "            <td>template1</td>\n",
       "            <td>jovyan</td>\n",
       "            <td>UTF8</td>\n",
       "            <td>en_US.utf8</td>\n",
       "            <td>en_US.utf8</td>\n",
       "            <td>=c/jovyan<br>jovyan=CTc/jovyan</td>\n",
       "        </tr>\n",
       "    </tbody>\n",
       "</table>"
      ],
      "text/plain": [
       "+-----------+--------+----------+------------+------------+-------------------+\n",
       "|    Name   | Owner  | Encoding |  Collate   |   Ctype    | Access privileges |\n",
       "+-----------+--------+----------+------------+------------+-------------------+\n",
       "|  baseball | jovyan |   UTF8   | en_US.utf8 | en_US.utf8 |        None       |\n",
       "|    imdb   | jovyan |   UTF8   | en_US.utf8 | en_US.utf8 |        None       |\n",
       "|   jovyan  | jovyan |   UTF8   | en_US.utf8 | en_US.utf8 |        None       |\n",
       "|  postgres | jovyan |   UTF8   | en_US.utf8 | en_US.utf8 |        None       |\n",
       "| template0 | jovyan |   UTF8   | en_US.utf8 | en_US.utf8 |     =c/jovyan     |\n",
       "|           |        |          |            |            | jovyan=CTc/jovyan |\n",
       "| template1 | jovyan |   UTF8   | en_US.utf8 | en_US.utf8 |     =c/jovyan     |\n",
       "|           |        |          |            |            | jovyan=CTc/jovyan |\n",
       "+-----------+--------+----------+------------+------------+-------------------+"
      ]
     },
     "execution_count": 6,
     "metadata": {},
     "output_type": "execute_result"
    }
   ],
   "source": [
    "!psql postgresql://jovyan@127.0.0.1:5432/baseball -c 'SELECT pg_terminate_backend(pg_stat_activity.pid) FROM pg_stat_activity WHERE datname = current_database()  AND pid <> pg_backend_pid();'\n",
    "!psql -h localhost -c 'DROP DATABASE IF EXISTS baseball'\n",
    "!psql -h localhost -c 'CREATE DATABASE baseball'\n",
    "!psql -h localhost -d baseball -f data/baseball.sql\n",
    "!psql -h localhost -c 'SET max_parallel_workers_per_gather = 0;'\n",
    "%sql \\l"
   ]
  },
  {
   "cell_type": "markdown",
   "metadata": {},
   "source": [
    "Now, run the following cell to connect to the `baseball` database. There should be no errors after running the following cell."
   ]
  },
  {
   "cell_type": "code",
   "execution_count": 7,
   "metadata": {},
   "outputs": [
    {
     "data": {
      "text/html": [
       "<span style=\"None\">Connecting and switching to connection postgresql://jovyan@127.0.0.1:5432/baseball</span>"
      ],
      "text/plain": [
       "Connecting and switching to connection postgresql://jovyan@127.0.0.1:5432/baseball"
      ]
     },
     "metadata": {},
     "output_type": "display_data"
    }
   ],
   "source": [
    "%sql postgresql://jovyan@127.0.0.1:5432/baseball"
   ]
  },
  {
   "cell_type": "markdown",
   "metadata": {},
   "source": [
    "To ensure that the connection to the database has been established, let's try grabbing the first 5 rows from the `halloffame` table."
   ]
  },
  {
   "cell_type": "code",
   "execution_count": 8,
   "metadata": {},
   "outputs": [
    {
     "data": {
      "text/html": [
       "<span style=\"None\">Running query in &#x27;postgresql://jovyan@127.0.0.1:5432/baseball&#x27;</span>"
      ],
      "text/plain": [
       "Running query in 'postgresql://jovyan@127.0.0.1:5432/baseball'"
      ]
     },
     "metadata": {},
     "output_type": "display_data"
    },
    {
     "data": {
      "text/html": [
       "<span style=\"color: green\">5 rows affected.</span>"
      ],
      "text/plain": [
       "5 rows affected."
      ]
     },
     "metadata": {},
     "output_type": "display_data"
    },
    {
     "data": {
      "text/html": [
       "<table>\n",
       "    <thead>\n",
       "        <tr>\n",
       "            <th>playerid</th>\n",
       "            <th>yearid</th>\n",
       "            <th>votedby</th>\n",
       "            <th>ballots</th>\n",
       "            <th>needed</th>\n",
       "            <th>votes</th>\n",
       "            <th>inducted</th>\n",
       "            <th>category</th>\n",
       "            <th>needed_note</th>\n",
       "        </tr>\n",
       "    </thead>\n",
       "    <tbody>\n",
       "        <tr>\n",
       "            <td>cobbty01</td>\n",
       "            <td>1936</td>\n",
       "            <td>BBWAA</td>\n",
       "            <td>226</td>\n",
       "            <td>170</td>\n",
       "            <td>222</td>\n",
       "            <td>Y</td>\n",
       "            <td>Player</td>\n",
       "            <td>None</td>\n",
       "        </tr>\n",
       "        <tr>\n",
       "            <td>ruthba01</td>\n",
       "            <td>1936</td>\n",
       "            <td>BBWAA</td>\n",
       "            <td>226</td>\n",
       "            <td>170</td>\n",
       "            <td>215</td>\n",
       "            <td>Y</td>\n",
       "            <td>Player</td>\n",
       "            <td>None</td>\n",
       "        </tr>\n",
       "        <tr>\n",
       "            <td>wagneho01</td>\n",
       "            <td>1936</td>\n",
       "            <td>BBWAA</td>\n",
       "            <td>226</td>\n",
       "            <td>170</td>\n",
       "            <td>215</td>\n",
       "            <td>Y</td>\n",
       "            <td>Player</td>\n",
       "            <td>None</td>\n",
       "        </tr>\n",
       "        <tr>\n",
       "            <td>mathech01</td>\n",
       "            <td>1936</td>\n",
       "            <td>BBWAA</td>\n",
       "            <td>226</td>\n",
       "            <td>170</td>\n",
       "            <td>205</td>\n",
       "            <td>Y</td>\n",
       "            <td>Player</td>\n",
       "            <td>None</td>\n",
       "        </tr>\n",
       "        <tr>\n",
       "            <td>johnswa01</td>\n",
       "            <td>1936</td>\n",
       "            <td>BBWAA</td>\n",
       "            <td>226</td>\n",
       "            <td>170</td>\n",
       "            <td>189</td>\n",
       "            <td>Y</td>\n",
       "            <td>Player</td>\n",
       "            <td>None</td>\n",
       "        </tr>\n",
       "    </tbody>\n",
       "</table>"
      ],
      "text/plain": [
       "+-----------+--------+---------+---------+--------+-------+----------+----------+-------------+\n",
       "|  playerid | yearid | votedby | ballots | needed | votes | inducted | category | needed_note |\n",
       "+-----------+--------+---------+---------+--------+-------+----------+----------+-------------+\n",
       "|  cobbty01 |  1936  |  BBWAA  |   226   |  170   |  222  |    Y     |  Player  |     None    |\n",
       "|  ruthba01 |  1936  |  BBWAA  |   226   |  170   |  215  |    Y     |  Player  |     None    |\n",
       "| wagneho01 |  1936  |  BBWAA  |   226   |  170   |  215  |    Y     |  Player  |     None    |\n",
       "| mathech01 |  1936  |  BBWAA  |   226   |  170   |  205  |    Y     |  Player  |     None    |\n",
       "| johnswa01 |  1936  |  BBWAA  |   226   |  170   |  189  |    Y     |  Player  |     None    |\n",
       "+-----------+--------+---------+---------+--------+-------+----------+----------+-------------+"
      ]
     },
     "execution_count": 8,
     "metadata": {},
     "output_type": "execute_result"
    }
   ],
   "source": [
    "%%sql\n",
    "SELECT * FROM halloffame LIMIT 5"
   ]
  },
  {
   "cell_type": "markdown",
   "metadata": {},
   "source": [
    "## Connect to the grader"
   ]
  },
  {
   "cell_type": "markdown",
   "metadata": {},
   "source": [
    "Run the following cell for grading purposes."
   ]
  },
  {
   "cell_type": "code",
   "execution_count": 9,
   "metadata": {},
   "outputs": [],
   "source": [
    "# Just run the following cell, no further action is needed.\n",
    "from data101_utils import GradingUtil\n",
    "grading_util = GradingUtil(\"proj2\")\n",
    "grading_util.prepare_autograder()"
   ]
  },
  {
   "cell_type": "markdown",
   "metadata": {},
   "source": [
    "<hr style=\"border: 5px solid #003262;\" />\n",
    "<hr style=\"border: 1px solid #fdb515;\" />\n"
   ]
  },
  {
   "cell_type": "markdown",
   "metadata": {},
   "source": [
    "## Table Descriptions\n",
    "In its entirety the Lahman's Baseball Database contains 27 tables containing a variety of statistics for players, teams, games, schools, etc. For simplicity, this project will focus on a subset of the tables:\n",
    "* `appearances`: details on the positions each player appeared at\n",
    "* `batting`: batting statistics for each player\n",
    "* `collegeplaying`: list of players and the colleges they attended\n",
    "* `halloffame`: Hall of Fame voting data\n",
    "* `people`: player information (name, date of birth, and biographical info)\n",
    "* `salaries`: player salary data\n",
    "* `schools`: list of colleges that players attended\n",
    "\n",
    "As a reminder from Project 1, `%sql \\d <table_name>` is helpful for identifying the columns in a table."
   ]
  },
  {
   "cell_type": "markdown",
   "metadata": {},
   "source": [
    "<br><br>\n",
    "<hr style=\"border: 5px solid #003262;\" />\n",
    "<hr style=\"border: 1px solid #fdb515;\" />"
   ]
  },
  {
   "cell_type": "markdown",
   "metadata": {
    "deletable": false,
    "editable": false
   },
   "source": [
    "## Question 0: PostgreSQL Explain Analyze\n",
    "**Please read through this section carefully, as a vast majority of the project will require you to inspect query plans via interpreting the output of the explain analyze command.**\n",
    "\n",
    "To inspect the query plan for a given query, create a variable storing the query as a string and invoke a `psql` shell command to `explain analyze` the query: \n",
    "\n",
    "`your_query_str = \"__REPLACE_ME_WITH_QUERY__\"`\n",
    "\n",
    "`!psql -h localhost -d baseball -c \"explain analyze $your_query_str\"`\n",
    "\n",
    "Take a look at the following sample query plan.\n",
    "\n",
    "![title](data/sample_query.png)\n",
    "\n",
    "It is highly recommended to read through [this article](https://www.cybertec-postgresql.com/en/how-to-interpret-postgresql-explain-analyze-output/) and the postgreSQL [documentation 14.1.2](https://www.postgresql.org/docs/current/using-explain.html#USING-EXPLAIN-ANALYZE) to see how you can interpret the output above. Everything before \"Tools to interpret Explain Analyze output\" is useful.\n",
    "\n",
    "\n",
    "<div class=\"alert alert-block alert-info\">\n",
    "Here are some key things to note for all question parts:\n",
    "<ul>\n",
    "<li>When we ask you to identify the <b>query cost</b>, we are looking for the <b>total cost</b>.</li>\n",
    "    <ul>\n",
    "    <li>There are two cost values: the first is the <b>startup cost</b> (cost to return the first row) and the second is the <b>total cost</b> (cost to return all rows).</li>\n",
    "    <li>The unit for the estimated query cost is an arbitrary estimation of disk I/O (1 is the cost for reading an 8kB page during a sequential scan).</li>\n",
    "        <li>Feel free to round the query cost / time to the nearest integer, but we'll accept anything more exact.</li>\n",
    "    </ul>\n",
    "<li>When we ask you to identify the <b>query time</b>, we are looking for the <b>execution time</b> (in ms).</li>\n",
    "    <ul>\n",
    "        <li>We recognize that the execution time may vary between different cell executions, so the autograder will tolerate a reasonable range.</li>\n",
    "    </ul>\n",
    "</ul>\n",
    "</div>\n",
    "\n",
    "Now, inspect the query plan above by following the below steps:\n",
    "\n",
    "1. Manually copy the entire query command (i.e., `SELECT ... `) from the screenshot into the cell below."
   ]
  },
  {
   "cell_type": "markdown",
   "metadata": {},
   "source": [
    "SELECT * FROM people AS p INNER JOIN collegeplaying AS cp ON p.playerid = cp.playerid"
   ]
  },
  {
   "cell_type": "code",
   "execution_count": 10,
   "metadata": {
    "tags": []
   },
   "outputs": [
    {
     "data": {
      "text/html": [
       "<span style=\"None\">Running query in &#x27;postgresql://jovyan@127.0.0.1:5432/baseball&#x27;</span>"
      ],
      "text/plain": [
       "Running query in 'postgresql://jovyan@127.0.0.1:5432/baseball'"
      ]
     },
     "metadata": {},
     "output_type": "display_data"
    },
    {
     "data": {
      "text/html": [
       "<span style=\"color: green\">17350 rows affected.</span>"
      ],
      "text/plain": [
       "17350 rows affected."
      ]
     },
     "metadata": {},
     "output_type": "display_data"
    }
   ],
   "source": [
    "%%sql --save query_0 result_0 <<\n",
    "SELECT * FROM people AS p INNER JOIN collegeplaying AS cp ON p.playerid = cp.playerid"
   ]
  },
  {
   "cell_type": "code",
   "execution_count": 11,
   "metadata": {
    "tags": []
   },
   "outputs": [
    {
     "data": {
      "text/html": [
       "<div>\n",
       "<style scoped>\n",
       "    .dataframe tbody tr th:only-of-type {\n",
       "        vertical-align: middle;\n",
       "    }\n",
       "\n",
       "    .dataframe tbody tr th {\n",
       "        vertical-align: top;\n",
       "    }\n",
       "\n",
       "    .dataframe thead th {\n",
       "        text-align: right;\n",
       "    }\n",
       "</style>\n",
       "<table border=\"1\" class=\"dataframe\">\n",
       "  <thead>\n",
       "    <tr style=\"text-align: right;\">\n",
       "      <th></th>\n",
       "      <th>playerid</th>\n",
       "      <th>birthyear</th>\n",
       "      <th>birthmonth</th>\n",
       "      <th>birthday</th>\n",
       "      <th>birthcountry</th>\n",
       "      <th>birthstate</th>\n",
       "      <th>birthcity</th>\n",
       "      <th>deathyear</th>\n",
       "      <th>deathmonth</th>\n",
       "      <th>deathday</th>\n",
       "      <th>...</th>\n",
       "      <th>height</th>\n",
       "      <th>bats</th>\n",
       "      <th>throws</th>\n",
       "      <th>debut</th>\n",
       "      <th>finalgame</th>\n",
       "      <th>retroid</th>\n",
       "      <th>bbrefid</th>\n",
       "      <th>playerid</th>\n",
       "      <th>schoolid</th>\n",
       "      <th>yearid</th>\n",
       "    </tr>\n",
       "  </thead>\n",
       "  <tbody>\n",
       "    <tr>\n",
       "      <th>0</th>\n",
       "      <td>aardsda01</td>\n",
       "      <td>1981</td>\n",
       "      <td>12.0</td>\n",
       "      <td>27.0</td>\n",
       "      <td>USA</td>\n",
       "      <td>CO</td>\n",
       "      <td>Denver</td>\n",
       "      <td>NaN</td>\n",
       "      <td>NaN</td>\n",
       "      <td>NaN</td>\n",
       "      <td>...</td>\n",
       "      <td>75.0</td>\n",
       "      <td>R</td>\n",
       "      <td>R</td>\n",
       "      <td>2004-04-06</td>\n",
       "      <td>2015-08-23</td>\n",
       "      <td>aardd001</td>\n",
       "      <td>aardsda01</td>\n",
       "      <td>aardsda01</td>\n",
       "      <td>pennst</td>\n",
       "      <td>2001</td>\n",
       "    </tr>\n",
       "    <tr>\n",
       "      <th>1</th>\n",
       "      <td>aardsda01</td>\n",
       "      <td>1981</td>\n",
       "      <td>12.0</td>\n",
       "      <td>27.0</td>\n",
       "      <td>USA</td>\n",
       "      <td>CO</td>\n",
       "      <td>Denver</td>\n",
       "      <td>NaN</td>\n",
       "      <td>NaN</td>\n",
       "      <td>NaN</td>\n",
       "      <td>...</td>\n",
       "      <td>75.0</td>\n",
       "      <td>R</td>\n",
       "      <td>R</td>\n",
       "      <td>2004-04-06</td>\n",
       "      <td>2015-08-23</td>\n",
       "      <td>aardd001</td>\n",
       "      <td>aardsda01</td>\n",
       "      <td>aardsda01</td>\n",
       "      <td>rice</td>\n",
       "      <td>2002</td>\n",
       "    </tr>\n",
       "    <tr>\n",
       "      <th>2</th>\n",
       "      <td>aardsda01</td>\n",
       "      <td>1981</td>\n",
       "      <td>12.0</td>\n",
       "      <td>27.0</td>\n",
       "      <td>USA</td>\n",
       "      <td>CO</td>\n",
       "      <td>Denver</td>\n",
       "      <td>NaN</td>\n",
       "      <td>NaN</td>\n",
       "      <td>NaN</td>\n",
       "      <td>...</td>\n",
       "      <td>75.0</td>\n",
       "      <td>R</td>\n",
       "      <td>R</td>\n",
       "      <td>2004-04-06</td>\n",
       "      <td>2015-08-23</td>\n",
       "      <td>aardd001</td>\n",
       "      <td>aardsda01</td>\n",
       "      <td>aardsda01</td>\n",
       "      <td>rice</td>\n",
       "      <td>2003</td>\n",
       "    </tr>\n",
       "  </tbody>\n",
       "</table>\n",
       "<p>3 rows × 27 columns</p>\n",
       "</div>"
      ],
      "text/plain": [
       "    playerid  birthyear  birthmonth  birthday birthcountry birthstate  \\\n",
       "0  aardsda01       1981        12.0      27.0          USA         CO   \n",
       "1  aardsda01       1981        12.0      27.0          USA         CO   \n",
       "2  aardsda01       1981        12.0      27.0          USA         CO   \n",
       "\n",
       "  birthcity  deathyear  deathmonth  deathday  ... height bats throws  \\\n",
       "0    Denver        NaN         NaN       NaN  ...   75.0    R      R   \n",
       "1    Denver        NaN         NaN       NaN  ...   75.0    R      R   \n",
       "2    Denver        NaN         NaN       NaN  ...   75.0    R      R   \n",
       "\n",
       "        debut   finalgame   retroid    bbrefid   playerid schoolid yearid  \n",
       "0  2004-04-06  2015-08-23  aardd001  aardsda01  aardsda01   pennst   2001  \n",
       "1  2004-04-06  2015-08-23  aardd001  aardsda01  aardsda01     rice   2002  \n",
       "2  2004-04-06  2015-08-23  aardd001  aardsda01  aardsda01     rice   2003  \n",
       "\n",
       "[3 rows x 27 columns]"
      ]
     },
     "execution_count": 11,
     "metadata": {},
     "output_type": "execute_result"
    }
   ],
   "source": [
    "# Do not delete/edit this cell!\n",
    "# You must run this cell before running the autograder.\n",
    "query_0 = %sqlcmd snippets query_0\n",
    "grading_util.save_results(\"result_0\", query_0, result_0);\n",
    "result_0.DataFrame().head(3)"
   ]
  },
  {
   "cell_type": "code",
   "execution_count": 12,
   "metadata": {
    "tags": []
   },
   "outputs": [
    {
     "data": {
      "text/html": [
       "<span style=\"None\">Running query in &#x27;postgresql://jovyan@127.0.0.1:5432/baseball&#x27;</span>"
      ],
      "text/plain": [
       "Running query in 'postgresql://jovyan@127.0.0.1:5432/baseball'"
      ]
     },
     "metadata": {},
     "output_type": "display_data"
    },
    {
     "data": {
      "text/html": [
       "<span style=\"color: green\">7 rows affected.</span>"
      ],
      "text/plain": [
       "7 rows affected."
      ]
     },
     "metadata": {},
     "output_type": "display_data"
    },
    {
     "data": {
      "text/html": [
       "<table>\n",
       "    <thead>\n",
       "        <tr>\n",
       "            <th>QUERY PLAN</th>\n",
       "        </tr>\n",
       "    </thead>\n",
       "    <tbody>\n",
       "        <tr>\n",
       "            <td>Merge Join  (cost=0.57..3636.67 rows=17350 width=1788) (actual time=0.059..33.718 rows=17350 loops=1)</td>\n",
       "        </tr>\n",
       "        <tr>\n",
       "            <td>&nbsp;&nbsp;Merge Cond: ((p.playerid)::text = (cp.playerid)::text)</td>\n",
       "        </tr>\n",
       "        <tr>\n",
       "            <td>&nbsp;&nbsp;->  Index Scan using master_pkey on people p  (cost=0.29..2298.84 rows=19370 width=1698) (actual time=0.028..6.143 rows=19368 loops=1)</td>\n",
       "        </tr>\n",
       "        <tr>\n",
       "            <td>&nbsp;&nbsp;->  Index Only Scan using collegeplaying_pkey on collegeplaying cp  (cost=0.29..1072.54 rows=17350 width=90) (actual time=0.024..7.527 rows=17350 loops=1)</td>\n",
       "        </tr>\n",
       "        <tr>\n",
       "            <td>&nbsp;&nbsp;&nbsp;&nbsp;&nbsp;&nbsp;&nbsp;&nbsp;Heap Fetches: 17350</td>\n",
       "        </tr>\n",
       "        <tr>\n",
       "            <td>Planning Time: 0.179 ms</td>\n",
       "        </tr>\n",
       "        <tr>\n",
       "            <td>Execution Time: 34.643 ms</td>\n",
       "        </tr>\n",
       "    </tbody>\n",
       "</table>"
      ],
      "text/plain": [
       "+--------------------------------------------------------------------------------------------------------------------------------------------------------------+\n",
       "|                                                                          QUERY PLAN                                                                          |\n",
       "+--------------------------------------------------------------------------------------------------------------------------------------------------------------+\n",
       "|                            Merge Join  (cost=0.57..3636.67 rows=17350 width=1788) (actual time=0.059..33.718 rows=17350 loops=1)                             |\n",
       "|                                                     Merge Cond: ((p.playerid)::text = (cp.playerid)::text)                                                   |\n",
       "|             ->  Index Scan using master_pkey on people p  (cost=0.29..2298.84 rows=19370 width=1698) (actual time=0.028..6.143 rows=19368 loops=1)           |\n",
       "|   ->  Index Only Scan using collegeplaying_pkey on collegeplaying cp  (cost=0.29..1072.54 rows=17350 width=90) (actual time=0.024..7.527 rows=17350 loops=1) |\n",
       "|                                                                         Heap Fetches: 17350                                                                  |\n",
       "|                                                                   Planning Time: 0.179 ms                                                                    |\n",
       "|                                                                  Execution Time: 34.643 ms                                                                   |\n",
       "+--------------------------------------------------------------------------------------------------------------------------------------------------------------+"
      ]
     },
     "execution_count": 12,
     "metadata": {},
     "output_type": "execute_result"
    }
   ],
   "source": [
    "%sql EXPLAIN ANALYZE {{query_0}}"
   ]
  },
  {
   "cell_type": "code",
   "execution_count": 13,
   "metadata": {
    "tags": []
   },
   "outputs": [],
   "source": [
    "sample_query_cost = 1193.88\n",
    "sample_query_timing = 15.279"
   ]
  },
  {
   "cell_type": "code",
   "execution_count": 14,
   "metadata": {
    "deletable": false,
    "editable": false
   },
   "outputs": [
    {
     "data": {
      "text/html": [
       "<p><strong><pre style='display: inline;'>q0</pre></strong> passed! ✨</p>"
      ],
      "text/plain": [
       "q0 results: All test cases passed!"
      ]
     },
     "execution_count": 14,
     "metadata": {},
     "output_type": "execute_result"
    }
   ],
   "source": [
    "grader.check(\"q0\")"
   ]
  },
  {
   "cell_type": "markdown",
   "metadata": {},
   "source": [
    "<br/><br/><br/>\n",
    "\n",
    "<hr style=\"border: 5px solid #003262;\" />\n",
    "<hr style=\"border: 1px solid #fdb515;\" />\n",
    "\n",
    "# Question 1: Queries and Views, Part 1\n",
    "\n",
    "In Questions 1 and 2, you will compare and contrast writing queries with subqueries and views.\n",
    "\n",
    "## Question 1a\n",
    "Write a query that finds `namefirst`, `namelast`, `playerid` and `yearid` of all people who were successfully inducted into the Hall of Fame. **Note**: Your query should **NOT** use any sub-queries."
   ]
  },
  {
   "cell_type": "code",
   "execution_count": 15,
   "metadata": {
    "scrolled": true,
    "tags": []
   },
   "outputs": [
    {
     "data": {
      "text/html": [
       "<span style=\"None\">Running query in &#x27;postgresql://jovyan@127.0.0.1:5432/baseball&#x27;</span>"
      ],
      "text/plain": [
       "Running query in 'postgresql://jovyan@127.0.0.1:5432/baseball'"
      ]
     },
     "metadata": {},
     "output_type": "display_data"
    },
    {
     "data": {
      "text/html": [
       "<span style=\"color: green\">323 rows affected.</span>"
      ],
      "text/plain": [
       "323 rows affected."
      ]
     },
     "metadata": {},
     "output_type": "display_data"
    }
   ],
   "source": [
    "%%sql --save query_1a result_1a <<\n",
    "SELECT namefirst, namelast, hof.playerid, hof.yearid\n",
    "FROM people AS p\n",
    "JOIN halloffame AS hof\n",
    "ON p.playerid = hof.playerid\n",
    "WHERE hof.inducted = 'Y'"
   ]
  },
  {
   "cell_type": "code",
   "execution_count": 16,
   "metadata": {
    "tags": []
   },
   "outputs": [
    {
     "data": {
      "text/html": [
       "<div>\n",
       "<style scoped>\n",
       "    .dataframe tbody tr th:only-of-type {\n",
       "        vertical-align: middle;\n",
       "    }\n",
       "\n",
       "    .dataframe tbody tr th {\n",
       "        vertical-align: top;\n",
       "    }\n",
       "\n",
       "    .dataframe thead th {\n",
       "        text-align: right;\n",
       "    }\n",
       "</style>\n",
       "<table border=\"1\" class=\"dataframe\">\n",
       "  <thead>\n",
       "    <tr style=\"text-align: right;\">\n",
       "      <th></th>\n",
       "      <th>namefirst</th>\n",
       "      <th>namelast</th>\n",
       "      <th>playerid</th>\n",
       "      <th>yearid</th>\n",
       "    </tr>\n",
       "  </thead>\n",
       "  <tbody>\n",
       "    <tr>\n",
       "      <th>0</th>\n",
       "      <td>Ty</td>\n",
       "      <td>Cobb</td>\n",
       "      <td>cobbty01</td>\n",
       "      <td>1936</td>\n",
       "    </tr>\n",
       "    <tr>\n",
       "      <th>1</th>\n",
       "      <td>Babe</td>\n",
       "      <td>Ruth</td>\n",
       "      <td>ruthba01</td>\n",
       "      <td>1936</td>\n",
       "    </tr>\n",
       "    <tr>\n",
       "      <th>2</th>\n",
       "      <td>Honus</td>\n",
       "      <td>Wagner</td>\n",
       "      <td>wagneho01</td>\n",
       "      <td>1936</td>\n",
       "    </tr>\n",
       "  </tbody>\n",
       "</table>\n",
       "</div>"
      ],
      "text/plain": [
       "  namefirst namelast   playerid  yearid\n",
       "0        Ty     Cobb   cobbty01    1936\n",
       "1      Babe     Ruth   ruthba01    1936\n",
       "2     Honus   Wagner  wagneho01    1936"
      ]
     },
     "execution_count": 16,
     "metadata": {},
     "output_type": "execute_result"
    }
   ],
   "source": [
    "# Do not delete/edit this cell!\n",
    "# You must run this cell before running the autograder.\n",
    "query_1a = %sqlcmd snippets query_1a\n",
    "grading_util.save_results(\"result_1a\", query_1a, result_1a)\n",
    "result_1a.DataFrame().head(3)"
   ]
  },
  {
   "cell_type": "code",
   "execution_count": 17,
   "metadata": {
    "deletable": false,
    "editable": false
   },
   "outputs": [
    {
     "data": {
      "text/html": [
       "<p><strong><pre style='display: inline;'>q1a</pre></strong> passed! 🚀</p>"
      ],
      "text/plain": [
       "q1a results: All test cases passed!"
      ]
     },
     "execution_count": 17,
     "metadata": {},
     "output_type": "execute_result"
    }
   ],
   "source": [
    "grader.check(\"q1a\")"
   ]
  },
  {
   "cell_type": "markdown",
   "metadata": {
    "deletable": false,
    "editable": false
   },
   "source": [
    "<br><br>\n",
    "\n",
    "---\n",
    "\n",
    "## Question 1b\n",
    "In this question, we will compare the query you wrote in `Question 1a` against the provided query below in `Question 1bi` by inspecting both query plans.\n",
    "\n",
    "#### Question 1bi: \n",
    "Inspect the query plan for `provided_query` and the query you wrote in `Question 1a` by running the cells below."
   ]
  },
  {
   "cell_type": "code",
   "execution_count": 18,
   "metadata": {
    "deletable": false,
    "editable": false
   },
   "outputs": [
    {
     "data": {
      "text/html": [
       "<span style=\"None\">Running query in &#x27;postgresql://jovyan@127.0.0.1:5432/baseball&#x27;</span>"
      ],
      "text/plain": [
       "Running query in 'postgresql://jovyan@127.0.0.1:5432/baseball'"
      ]
     },
     "metadata": {},
     "output_type": "display_data"
    },
    {
     "data": {
      "text/html": [
       "<span style=\"color: green\">323 rows affected.</span>"
      ],
      "text/plain": [
       "323 rows affected."
      ]
     },
     "metadata": {},
     "output_type": "display_data"
    }
   ],
   "source": [
    "%%sql --save provided_query result_provided <<\n",
    "-- just run this cell\n",
    "SELECT namefirst, namelast, p.playerid, yearid\n",
    "FROM people AS p, (SELECT * FROM halloffame WHERE inducted = 'Y') AS hof \n",
    "WHERE p.playerid = hof.playerid;"
   ]
  },
  {
   "cell_type": "code",
   "execution_count": 19,
   "metadata": {
    "deletable": false,
    "editable": false,
    "scrolled": true
   },
   "outputs": [
    {
     "data": {
      "text/html": [
       "<span style=\"None\">Running query in &#x27;postgresql://jovyan@127.0.0.1:5432/baseball&#x27;</span>"
      ],
      "text/plain": [
       "Running query in 'postgresql://jovyan@127.0.0.1:5432/baseball'"
      ]
     },
     "metadata": {},
     "output_type": "display_data"
    },
    {
     "data": {
      "text/html": [
       "<span style=\"color: green\">10 rows affected.</span>"
      ],
      "text/plain": [
       "10 rows affected."
      ]
     },
     "metadata": {},
     "output_type": "display_data"
    },
    {
     "data": {
      "text/html": [
       "<table>\n",
       "    <thead>\n",
       "        <tr>\n",
       "            <th>QUERY PLAN</th>\n",
       "        </tr>\n",
       "    </thead>\n",
       "    <tbody>\n",
       "        <tr>\n",
       "            <td>Hash Join  (cost=861.83..959.06 rows=323 width=25) (actual time=13.898..14.990 rows=323 loops=1)</td>\n",
       "        </tr>\n",
       "        <tr>\n",
       "            <td>&nbsp;&nbsp;Hash Cond: ((halloffame.playerid)::text = (p.playerid)::text)</td>\n",
       "        </tr>\n",
       "        <tr>\n",
       "            <td>&nbsp;&nbsp;->  Seq Scan on halloffame  (cost=0.00..96.39 rows=323 width=13) (actual time=0.011..0.933 rows=323 loops=1)</td>\n",
       "        </tr>\n",
       "        <tr>\n",
       "            <td>&nbsp;&nbsp;&nbsp;&nbsp;&nbsp;&nbsp;&nbsp;&nbsp;Filter: ((inducted)::text = 'Y'::text)</td>\n",
       "        </tr>\n",
       "        <tr>\n",
       "            <td>&nbsp;&nbsp;&nbsp;&nbsp;&nbsp;&nbsp;&nbsp;&nbsp;Rows Removed by Filter: 3868</td>\n",
       "        </tr>\n",
       "        <tr>\n",
       "            <td>&nbsp;&nbsp;->  Hash  (cost=619.70..619.70 rows=19370 width=21) (actual time=13.746..13.747 rows=19370 loops=1)</td>\n",
       "        </tr>\n",
       "        <tr>\n",
       "            <td>&nbsp;&nbsp;&nbsp;&nbsp;&nbsp;&nbsp;&nbsp;&nbsp;Buckets: 32768  Batches: 1  Memory Usage: 1293kB</td>\n",
       "        </tr>\n",
       "        <tr>\n",
       "            <td>&nbsp;&nbsp;&nbsp;&nbsp;&nbsp;&nbsp;&nbsp;&nbsp;->  Seq Scan on people p  (cost=0.00..619.70 rows=19370 width=21) (actual time=0.005..6.643 rows=19370 loops=1)</td>\n",
       "        </tr>\n",
       "        <tr>\n",
       "            <td>Planning Time: 0.366 ms</td>\n",
       "        </tr>\n",
       "        <tr>\n",
       "            <td>Execution Time: 15.042 ms</td>\n",
       "        </tr>\n",
       "    </tbody>\n",
       "</table>"
      ],
      "text/plain": [
       "+-------------------------------------------------------------------------------------------------------------------------+\n",
       "|                                                        QUERY PLAN                                                       |\n",
       "+-------------------------------------------------------------------------------------------------------------------------+\n",
       "|             Hash Join  (cost=861.83..959.06 rows=323 width=25) (actual time=13.898..14.990 rows=323 loops=1)            |\n",
       "|                               Hash Cond: ((halloffame.playerid)::text = (p.playerid)::text)                             |\n",
       "|        ->  Seq Scan on halloffame  (cost=0.00..96.39 rows=323 width=13) (actual time=0.011..0.933 rows=323 loops=1)     |\n",
       "|                                              Filter: ((inducted)::text = 'Y'::text)                                     |\n",
       "|                                                   Rows Removed by Filter: 3868                                          |\n",
       "|            ->  Hash  (cost=619.70..619.70 rows=19370 width=21) (actual time=13.746..13.747 rows=19370 loops=1)          |\n",
       "|                                         Buckets: 32768  Batches: 1  Memory Usage: 1293kB                                |\n",
       "|         ->  Seq Scan on people p  (cost=0.00..619.70 rows=19370 width=21) (actual time=0.005..6.643 rows=19370 loops=1) |\n",
       "|                                                 Planning Time: 0.366 ms                                                 |\n",
       "|                                                Execution Time: 15.042 ms                                                |\n",
       "+-------------------------------------------------------------------------------------------------------------------------+"
      ]
     },
     "execution_count": 19,
     "metadata": {},
     "output_type": "execute_result"
    }
   ],
   "source": [
    "# just run this cell \n",
    "provided_query = %sqlcmd snippets provided_query\n",
    "%sql EXPLAIN ANALYZE {{provided_query.strip(';')}}"
   ]
  },
  {
   "cell_type": "code",
   "execution_count": 20,
   "metadata": {
    "deletable": false,
    "editable": false
   },
   "outputs": [
    {
     "data": {
      "text/html": [
       "<span style=\"None\">Running query in &#x27;postgresql://jovyan@127.0.0.1:5432/baseball&#x27;</span>"
      ],
      "text/plain": [
       "Running query in 'postgresql://jovyan@127.0.0.1:5432/baseball'"
      ]
     },
     "metadata": {},
     "output_type": "display_data"
    },
    {
     "data": {
      "text/html": [
       "<span style=\"color: green\">10 rows affected.</span>"
      ],
      "text/plain": [
       "10 rows affected."
      ]
     },
     "metadata": {},
     "output_type": "display_data"
    },
    {
     "data": {
      "text/html": [
       "<table>\n",
       "    <thead>\n",
       "        <tr>\n",
       "            <th>QUERY PLAN</th>\n",
       "        </tr>\n",
       "    </thead>\n",
       "    <tbody>\n",
       "        <tr>\n",
       "            <td>Hash Join  (cost=861.83..959.06 rows=323 width=25) (actual time=14.038..15.245 rows=323 loops=1)</td>\n",
       "        </tr>\n",
       "        <tr>\n",
       "            <td>&nbsp;&nbsp;Hash Cond: ((hof.playerid)::text = (p.playerid)::text)</td>\n",
       "        </tr>\n",
       "        <tr>\n",
       "            <td>&nbsp;&nbsp;->  Seq Scan on halloffame hof  (cost=0.00..96.39 rows=323 width=13) (actual time=0.010..1.048 rows=323 loops=1)</td>\n",
       "        </tr>\n",
       "        <tr>\n",
       "            <td>&nbsp;&nbsp;&nbsp;&nbsp;&nbsp;&nbsp;&nbsp;&nbsp;Filter: ((inducted)::text = 'Y'::text)</td>\n",
       "        </tr>\n",
       "        <tr>\n",
       "            <td>&nbsp;&nbsp;&nbsp;&nbsp;&nbsp;&nbsp;&nbsp;&nbsp;Rows Removed by Filter: 3868</td>\n",
       "        </tr>\n",
       "        <tr>\n",
       "            <td>&nbsp;&nbsp;->  Hash  (cost=619.70..619.70 rows=19370 width=21) (actual time=13.851..13.852 rows=19370 loops=1)</td>\n",
       "        </tr>\n",
       "        <tr>\n",
       "            <td>&nbsp;&nbsp;&nbsp;&nbsp;&nbsp;&nbsp;&nbsp;&nbsp;Buckets: 32768  Batches: 1  Memory Usage: 1293kB</td>\n",
       "        </tr>\n",
       "        <tr>\n",
       "            <td>&nbsp;&nbsp;&nbsp;&nbsp;&nbsp;&nbsp;&nbsp;&nbsp;->  Seq Scan on people p  (cost=0.00..619.70 rows=19370 width=21) (actual time=0.017..6.896 rows=19370 loops=1)</td>\n",
       "        </tr>\n",
       "        <tr>\n",
       "            <td>Planning Time: 0.349 ms</td>\n",
       "        </tr>\n",
       "        <tr>\n",
       "            <td>Execution Time: 15.292 ms</td>\n",
       "        </tr>\n",
       "    </tbody>\n",
       "</table>"
      ],
      "text/plain": [
       "+-------------------------------------------------------------------------------------------------------------------------+\n",
       "|                                                        QUERY PLAN                                                       |\n",
       "+-------------------------------------------------------------------------------------------------------------------------+\n",
       "|             Hash Join  (cost=861.83..959.06 rows=323 width=25) (actual time=14.038..15.245 rows=323 loops=1)            |\n",
       "|                                   Hash Cond: ((hof.playerid)::text = (p.playerid)::text)                                |\n",
       "|      ->  Seq Scan on halloffame hof  (cost=0.00..96.39 rows=323 width=13) (actual time=0.010..1.048 rows=323 loops=1)   |\n",
       "|                                              Filter: ((inducted)::text = 'Y'::text)                                     |\n",
       "|                                                   Rows Removed by Filter: 3868                                          |\n",
       "|            ->  Hash  (cost=619.70..619.70 rows=19370 width=21) (actual time=13.851..13.852 rows=19370 loops=1)          |\n",
       "|                                         Buckets: 32768  Batches: 1  Memory Usage: 1293kB                                |\n",
       "|         ->  Seq Scan on people p  (cost=0.00..619.70 rows=19370 width=21) (actual time=0.017..6.896 rows=19370 loops=1) |\n",
       "|                                                 Planning Time: 0.349 ms                                                 |\n",
       "|                                                Execution Time: 15.292 ms                                                |\n",
       "+-------------------------------------------------------------------------------------------------------------------------+"
      ]
     },
     "execution_count": 20,
     "metadata": {},
     "output_type": "execute_result"
    }
   ],
   "source": [
    "# just run this cell\n",
    "%sql EXPLAIN ANALYZE {{query_1a}}"
   ]
  },
  {
   "cell_type": "markdown",
   "metadata": {
    "deletable": false,
    "editable": false
   },
   "source": [
    "Record the **execution time** and **cost** for each query."
   ]
  },
  {
   "cell_type": "code",
   "execution_count": 21,
   "metadata": {
    "tags": []
   },
   "outputs": [],
   "source": [
    "provided_query_cost = 959.06\n",
    "provided_query_timing = 14.541\n",
    "your_query_cost = 959.06\n",
    "your_query_timing = 14.571 "
   ]
  },
  {
   "cell_type": "code",
   "execution_count": 22,
   "metadata": {
    "deletable": false,
    "editable": false
   },
   "outputs": [
    {
     "data": {
      "text/html": [
       "<p><strong><pre style='display: inline;'>q1bi</pre></strong> passed! 🙌</p>"
      ],
      "text/plain": [
       "q1bi results: All test cases passed!"
      ]
     },
     "execution_count": 22,
     "metadata": {},
     "output_type": "execute_result"
    }
   ],
   "source": [
    "grader.check(\"q1bi\")"
   ]
  },
  {
   "cell_type": "markdown",
   "metadata": {
    "deletable": false,
    "editable": false
   },
   "source": [
    "\n",
    "#### Question 1bii:\n",
    "Given your findings from inspecting the query plans of the two queries, answer the following question. Assign the variable `q1b_part2` to a list of all of the below statements that are true.\n",
    "\n",
    "\n",
    "Consider the following statements:\n",
    "<br>\n",
    "A. Both the queries have the same cost\n",
    "<br>\n",
    "B. The provided query has a faster execution time because it makes use of a subquery.\n",
    "<br>\n",
    "C. The query you wrote has a faster execution time because it does not make use a subquery.\n",
    "<br>\n",
    "D. The provided query has less cost because it makes use of a subquery.\n",
    "<br>\n",
    "E. The query you wrote has less cost because it does not make use a subquery.\n",
    "<br>\n",
    "F. The queries have the same output.\n",
    "<br>\n",
    "G. The queries do not have the same output.\n",
    "    \n",
    "**Note:** Your answer should look like `q1b_part2 = ['A', 'B']`"
   ]
  },
  {
   "cell_type": "code",
   "execution_count": 23,
   "metadata": {
    "tags": []
   },
   "outputs": [],
   "source": [
    "q1b_part2 = ['A', 'F']"
   ]
  },
  {
   "cell_type": "code",
   "execution_count": 24,
   "metadata": {
    "deletable": false,
    "editable": false
   },
   "outputs": [
    {
     "data": {
      "text/html": [
       "<p><strong><pre style='display: inline;'>q1bii</pre></strong> passed! 🚀</p>"
      ],
      "text/plain": [
       "q1bii results: All test cases passed!"
      ]
     },
     "execution_count": 24,
     "metadata": {},
     "output_type": "execute_result"
    }
   ],
   "source": [
    "grader.check(\"q1bii\")"
   ]
  },
  {
   "cell_type": "markdown",
   "metadata": {},
   "source": [
    "<br/><br/><br/>\n",
    "\n",
    "<hr style=\"border: 5px solid #003262;\" />\n",
    "<hr style=\"border: 1px solid #fdb515;\" />\n",
    "\n",
    "\n",
    "# Question 2: Queries and Views, Part 2\n",
    "\n",
    "In this question, you will continue analyzing queries with/without views and materialized views.\n",
    "* Question 2a: Write a query that computes people in a Hall of Fame.\n",
    "* Question 2 Tutorial: Use this query to create a view called `inducted_hof_ca` and a materialized view, `inducted_hof_ca_mat`.\n",
    "* Question 2b: Write three queries that achieve the same result:\n",
    "  * Question 2bi: One that uses no views.\n",
    "  * Question 2bii: One that uses the `inducted_hof_ca` view.\n",
    "  * Question 2ciii: One that uses the `inducted_hof_ca_mat` materialized view.\n",
    "* Question 2c: Record the performance of these three queries.\n",
    "* Question 2d: Analyze and discuss using queries with different types of views."
   ]
  },
  {
   "cell_type": "markdown",
   "metadata": {
    "deletable": false,
    "editable": false
   },
   "source": [
    "<br/><br/>\n",
    "\n",
    "---\n",
    "\n",
    "## Question 2a\n",
    "\n",
    "Write a query that returns the people who were successfully inducted into the Hall of Fame and played in college at a school located in California. For each player, return their `namefirst`, `namelast`, `playerid`, `schoolid`, and `yearid` ordered by the `yearid` and then the `playerid`. \n",
    "\n",
    "**Note**: For this query, `yearid` refers to player's year of induction into the Hall of Fame."
   ]
  },
  {
   "cell_type": "code",
   "execution_count": 25,
   "metadata": {
    "tags": []
   },
   "outputs": [
    {
     "data": {
      "text/html": [
       "<span style=\"None\">Running query in &#x27;postgresql://jovyan@127.0.0.1:5432/baseball&#x27;</span>"
      ],
      "text/plain": [
       "Running query in 'postgresql://jovyan@127.0.0.1:5432/baseball'"
      ]
     },
     "metadata": {},
     "output_type": "display_data"
    },
    {
     "data": {
      "text/html": [
       "<span style=\"color: green\">23 rows affected.</span>"
      ],
      "text/plain": [
       "23 rows affected."
      ]
     },
     "metadata": {},
     "output_type": "display_data"
    }
   ],
   "source": [
    "%%sql --save query_2a result_2a <<\n",
    "SELECT p.namefirst, p.namelast, p.playerid, s.schoolid, hof.yearid\n",
    "FROM people AS p, halloffame AS hof, schools AS s, collegeplaying AS cp\n",
    "WHERE p.playerid = hof.playerid AND cp.schoolid = s.schoolid AND cp.playerid = p.playerid AND hof.inducted = 'Y' AND schoolstate = 'CA'\n",
    ";"
   ]
  },
  {
   "cell_type": "code",
   "execution_count": 26,
   "metadata": {
    "tags": []
   },
   "outputs": [
    {
     "data": {
      "text/html": [
       "<table>\n",
       "    <thead>\n",
       "        <tr>\n",
       "            <th>namefirst</th>\n",
       "            <th>namelast</th>\n",
       "            <th>playerid</th>\n",
       "            <th>schoolid</th>\n",
       "            <th>yearid</th>\n",
       "        </tr>\n",
       "    </thead>\n",
       "    <tbody>\n",
       "        <tr>\n",
       "            <td>Jackie</td>\n",
       "            <td>Robinson</td>\n",
       "            <td>robinja02</td>\n",
       "            <td>ucla</td>\n",
       "            <td>1962</td>\n",
       "        </tr>\n",
       "        <tr>\n",
       "            <td>Harry</td>\n",
       "            <td>Hooper</td>\n",
       "            <td>hoopeha01</td>\n",
       "            <td>stmarysca</td>\n",
       "            <td>1971</td>\n",
       "        </tr>\n",
       "        <tr>\n",
       "            <td>Joe</td>\n",
       "            <td>Morgan</td>\n",
       "            <td>morgajo02</td>\n",
       "            <td>camerri</td>\n",
       "            <td>1990</td>\n",
       "        </tr>\n",
       "        <tr>\n",
       "            <td>Tom</td>\n",
       "            <td>Seaver</td>\n",
       "            <td>seaveto01</td>\n",
       "            <td>usc</td>\n",
       "            <td>1992</td>\n",
       "        </tr>\n",
       "        <tr>\n",
       "            <td>Tom</td>\n",
       "            <td>Seaver</td>\n",
       "            <td>seaveto01</td>\n",
       "            <td>cafrecc</td>\n",
       "            <td>1992</td>\n",
       "        </tr>\n",
       "        <tr>\n",
       "            <td>Ozzie</td>\n",
       "            <td>Smith</td>\n",
       "            <td>smithoz01</td>\n",
       "            <td>calpoly</td>\n",
       "            <td>2002</td>\n",
       "        </tr>\n",
       "        <tr>\n",
       "            <td>Ozzie</td>\n",
       "            <td>Smith</td>\n",
       "            <td>smithoz01</td>\n",
       "            <td>calpoly</td>\n",
       "            <td>2002</td>\n",
       "        </tr>\n",
       "        <tr>\n",
       "            <td>Ozzie</td>\n",
       "            <td>Smith</td>\n",
       "            <td>smithoz01</td>\n",
       "            <td>calpoly</td>\n",
       "            <td>2002</td>\n",
       "        </tr>\n",
       "        <tr>\n",
       "            <td>Ozzie</td>\n",
       "            <td>Smith</td>\n",
       "            <td>smithoz01</td>\n",
       "            <td>calpoly</td>\n",
       "            <td>2002</td>\n",
       "        </tr>\n",
       "        <tr>\n",
       "            <td>Tony</td>\n",
       "            <td>Gwynn</td>\n",
       "            <td>gwynnto01</td>\n",
       "            <td>sandiegost</td>\n",
       "            <td>2007</td>\n",
       "        </tr>\n",
       "        <tr>\n",
       "            <td>Tony</td>\n",
       "            <td>Gwynn</td>\n",
       "            <td>gwynnto01</td>\n",
       "            <td>sandiegost</td>\n",
       "            <td>2007</td>\n",
       "        </tr>\n",
       "        <tr>\n",
       "            <td>Tony</td>\n",
       "            <td>Gwynn</td>\n",
       "            <td>gwynnto01</td>\n",
       "            <td>sandiegost</td>\n",
       "            <td>2007</td>\n",
       "        </tr>\n",
       "        <tr>\n",
       "            <td>Dick</td>\n",
       "            <td>Williams</td>\n",
       "            <td>willidi02</td>\n",
       "            <td>capasad</td>\n",
       "            <td>2008</td>\n",
       "        </tr>\n",
       "        <tr>\n",
       "            <td>Doug</td>\n",
       "            <td>Harvey</td>\n",
       "            <td>harvedo99</td>\n",
       "            <td>sandiegost</td>\n",
       "            <td>2010</td>\n",
       "        </tr>\n",
       "        <tr>\n",
       "            <td>Doug</td>\n",
       "            <td>Harvey</td>\n",
       "            <td>harvedo99</td>\n",
       "            <td>sandiegost</td>\n",
       "            <td>2010</td>\n",
       "        </tr>\n",
       "        <tr>\n",
       "            <td>Pat</td>\n",
       "            <td>Gillick</td>\n",
       "            <td>gillipa99</td>\n",
       "            <td>usc</td>\n",
       "            <td>2011</td>\n",
       "        </tr>\n",
       "        <tr>\n",
       "            <td>Pat</td>\n",
       "            <td>Gillick</td>\n",
       "            <td>gillipa99</td>\n",
       "            <td>usc</td>\n",
       "            <td>2011</td>\n",
       "        </tr>\n",
       "        <tr>\n",
       "            <td>Pat</td>\n",
       "            <td>Gillick</td>\n",
       "            <td>gillipa99</td>\n",
       "            <td>calavco</td>\n",
       "            <td>2011</td>\n",
       "        </tr>\n",
       "        <tr>\n",
       "            <td>Randy</td>\n",
       "            <td>Johnson</td>\n",
       "            <td>johnsra05</td>\n",
       "            <td>usc</td>\n",
       "            <td>2015</td>\n",
       "        </tr>\n",
       "        <tr>\n",
       "            <td>Randy</td>\n",
       "            <td>Johnson</td>\n",
       "            <td>johnsra05</td>\n",
       "            <td>usc</td>\n",
       "            <td>2015</td>\n",
       "        </tr>\n",
       "        <tr>\n",
       "            <td>Randy</td>\n",
       "            <td>Johnson</td>\n",
       "            <td>johnsra05</td>\n",
       "            <td>usc</td>\n",
       "            <td>2015</td>\n",
       "        </tr>\n",
       "        <tr>\n",
       "            <td>Trevor</td>\n",
       "            <td>Hoffman</td>\n",
       "            <td>hoffmtr01</td>\n",
       "            <td>cacypre</td>\n",
       "            <td>2018</td>\n",
       "        </tr>\n",
       "        <tr>\n",
       "            <td>Trevor</td>\n",
       "            <td>Hoffman</td>\n",
       "            <td>hoffmtr01</td>\n",
       "            <td>cacypre</td>\n",
       "            <td>2018</td>\n",
       "        </tr>\n",
       "    </tbody>\n",
       "</table>"
      ],
      "text/plain": [
       "+-----------+----------+-----------+------------+--------+\n",
       "| namefirst | namelast |  playerid |  schoolid  | yearid |\n",
       "+-----------+----------+-----------+------------+--------+\n",
       "|   Jackie  | Robinson | robinja02 |    ucla    |  1962  |\n",
       "|   Harry   |  Hooper  | hoopeha01 | stmarysca  |  1971  |\n",
       "|    Joe    |  Morgan  | morgajo02 |  camerri   |  1990  |\n",
       "|    Tom    |  Seaver  | seaveto01 |    usc     |  1992  |\n",
       "|    Tom    |  Seaver  | seaveto01 |  cafrecc   |  1992  |\n",
       "|   Ozzie   |  Smith   | smithoz01 |  calpoly   |  2002  |\n",
       "|   Ozzie   |  Smith   | smithoz01 |  calpoly   |  2002  |\n",
       "|   Ozzie   |  Smith   | smithoz01 |  calpoly   |  2002  |\n",
       "|   Ozzie   |  Smith   | smithoz01 |  calpoly   |  2002  |\n",
       "|    Tony   |  Gwynn   | gwynnto01 | sandiegost |  2007  |\n",
       "|    Tony   |  Gwynn   | gwynnto01 | sandiegost |  2007  |\n",
       "|    Tony   |  Gwynn   | gwynnto01 | sandiegost |  2007  |\n",
       "|    Dick   | Williams | willidi02 |  capasad   |  2008  |\n",
       "|    Doug   |  Harvey  | harvedo99 | sandiegost |  2010  |\n",
       "|    Doug   |  Harvey  | harvedo99 | sandiegost |  2010  |\n",
       "|    Pat    | Gillick  | gillipa99 |    usc     |  2011  |\n",
       "|    Pat    | Gillick  | gillipa99 |    usc     |  2011  |\n",
       "|    Pat    | Gillick  | gillipa99 |  calavco   |  2011  |\n",
       "|   Randy   | Johnson  | johnsra05 |    usc     |  2015  |\n",
       "|   Randy   | Johnson  | johnsra05 |    usc     |  2015  |\n",
       "|   Randy   | Johnson  | johnsra05 |    usc     |  2015  |\n",
       "|   Trevor  | Hoffman  | hoffmtr01 |  cacypre   |  2018  |\n",
       "|   Trevor  | Hoffman  | hoffmtr01 |  cacypre   |  2018  |\n",
       "+-----------+----------+-----------+------------+--------+"
      ]
     },
     "execution_count": 26,
     "metadata": {},
     "output_type": "execute_result"
    }
   ],
   "source": [
    "# Do not delete/edit this cell!\n",
    "# You must run this cell before running the autograder.\n",
    "query_2a = %sqlcmd snippets query_2a\n",
    "grading_util.save_results(\"result_2a\", query_2a, result_2a)\n",
    "result_2a"
   ]
  },
  {
   "cell_type": "code",
   "execution_count": 27,
   "metadata": {
    "deletable": false,
    "editable": false
   },
   "outputs": [
    {
     "data": {
      "text/html": [
       "<p><strong><pre style='display: inline;'>q2a</pre></strong> passed! 🍀</p>"
      ],
      "text/plain": [
       "q2a results: All test cases passed!"
      ]
     },
     "execution_count": 27,
     "metadata": {},
     "output_type": "execute_result"
    }
   ],
   "source": [
    "grader.check(\"q2a\")"
   ]
  },
  {
   "cell_type": "markdown",
   "metadata": {},
   "source": [
    "<br/><br/>\n",
    "\n",
    "---\n",
    "\n",
    "## Question 2 Tutorial"
   ]
  },
  {
   "cell_type": "markdown",
   "metadata": {},
   "source": [
    "We are now going to use the query you wrote in the previous part to generate a view, called `inducted_hof_ca`, and a materialized view, `inducted_hof_ca_mat`.\n",
    "\n",
    "Run the below cells. You do not need to do anything more for this part. \n",
    "\n",
    "(Note: the semicolon strip is to avoid executing an empty query with double-semicolons, which causes an error.)"
   ]
  },
  {
   "cell_type": "code",
   "execution_count": 28,
   "metadata": {},
   "outputs": [
    {
     "data": {
      "text/html": [
       "<span style=\"None\">Running query in &#x27;postgresql://jovyan@127.0.0.1:5432/baseball&#x27;</span>"
      ],
      "text/plain": [
       "Running query in 'postgresql://jovyan@127.0.0.1:5432/baseball'"
      ]
     },
     "metadata": {},
     "output_type": "display_data"
    },
    {
     "data": {
      "text/html": [
       "<span style=\"color: green\">23 rows affected.</span>"
      ],
      "text/plain": [
       "23 rows affected."
      ]
     },
     "metadata": {},
     "output_type": "display_data"
    },
    {
     "data": {
      "text/html": [
       "<table>\n",
       "    <thead>\n",
       "        <tr>\n",
       "            <th>namefirst</th>\n",
       "            <th>namelast</th>\n",
       "            <th>playerid</th>\n",
       "            <th>schoolid</th>\n",
       "            <th>yearid</th>\n",
       "        </tr>\n",
       "    </thead>\n",
       "    <tbody>\n",
       "        <tr>\n",
       "            <td>Jackie</td>\n",
       "            <td>Robinson</td>\n",
       "            <td>robinja02</td>\n",
       "            <td>ucla</td>\n",
       "            <td>1962</td>\n",
       "        </tr>\n",
       "        <tr>\n",
       "            <td>Harry</td>\n",
       "            <td>Hooper</td>\n",
       "            <td>hoopeha01</td>\n",
       "            <td>stmarysca</td>\n",
       "            <td>1971</td>\n",
       "        </tr>\n",
       "        <tr>\n",
       "            <td>Joe</td>\n",
       "            <td>Morgan</td>\n",
       "            <td>morgajo02</td>\n",
       "            <td>camerri</td>\n",
       "            <td>1990</td>\n",
       "        </tr>\n",
       "        <tr>\n",
       "            <td>Tom</td>\n",
       "            <td>Seaver</td>\n",
       "            <td>seaveto01</td>\n",
       "            <td>usc</td>\n",
       "            <td>1992</td>\n",
       "        </tr>\n",
       "        <tr>\n",
       "            <td>Tom</td>\n",
       "            <td>Seaver</td>\n",
       "            <td>seaveto01</td>\n",
       "            <td>cafrecc</td>\n",
       "            <td>1992</td>\n",
       "        </tr>\n",
       "        <tr>\n",
       "            <td>Ozzie</td>\n",
       "            <td>Smith</td>\n",
       "            <td>smithoz01</td>\n",
       "            <td>calpoly</td>\n",
       "            <td>2002</td>\n",
       "        </tr>\n",
       "        <tr>\n",
       "            <td>Ozzie</td>\n",
       "            <td>Smith</td>\n",
       "            <td>smithoz01</td>\n",
       "            <td>calpoly</td>\n",
       "            <td>2002</td>\n",
       "        </tr>\n",
       "        <tr>\n",
       "            <td>Ozzie</td>\n",
       "            <td>Smith</td>\n",
       "            <td>smithoz01</td>\n",
       "            <td>calpoly</td>\n",
       "            <td>2002</td>\n",
       "        </tr>\n",
       "        <tr>\n",
       "            <td>Ozzie</td>\n",
       "            <td>Smith</td>\n",
       "            <td>smithoz01</td>\n",
       "            <td>calpoly</td>\n",
       "            <td>2002</td>\n",
       "        </tr>\n",
       "        <tr>\n",
       "            <td>Tony</td>\n",
       "            <td>Gwynn</td>\n",
       "            <td>gwynnto01</td>\n",
       "            <td>sandiegost</td>\n",
       "            <td>2007</td>\n",
       "        </tr>\n",
       "        <tr>\n",
       "            <td>Tony</td>\n",
       "            <td>Gwynn</td>\n",
       "            <td>gwynnto01</td>\n",
       "            <td>sandiegost</td>\n",
       "            <td>2007</td>\n",
       "        </tr>\n",
       "        <tr>\n",
       "            <td>Tony</td>\n",
       "            <td>Gwynn</td>\n",
       "            <td>gwynnto01</td>\n",
       "            <td>sandiegost</td>\n",
       "            <td>2007</td>\n",
       "        </tr>\n",
       "        <tr>\n",
       "            <td>Dick</td>\n",
       "            <td>Williams</td>\n",
       "            <td>willidi02</td>\n",
       "            <td>capasad</td>\n",
       "            <td>2008</td>\n",
       "        </tr>\n",
       "        <tr>\n",
       "            <td>Doug</td>\n",
       "            <td>Harvey</td>\n",
       "            <td>harvedo99</td>\n",
       "            <td>sandiegost</td>\n",
       "            <td>2010</td>\n",
       "        </tr>\n",
       "        <tr>\n",
       "            <td>Doug</td>\n",
       "            <td>Harvey</td>\n",
       "            <td>harvedo99</td>\n",
       "            <td>sandiegost</td>\n",
       "            <td>2010</td>\n",
       "        </tr>\n",
       "        <tr>\n",
       "            <td>Pat</td>\n",
       "            <td>Gillick</td>\n",
       "            <td>gillipa99</td>\n",
       "            <td>usc</td>\n",
       "            <td>2011</td>\n",
       "        </tr>\n",
       "        <tr>\n",
       "            <td>Pat</td>\n",
       "            <td>Gillick</td>\n",
       "            <td>gillipa99</td>\n",
       "            <td>usc</td>\n",
       "            <td>2011</td>\n",
       "        </tr>\n",
       "        <tr>\n",
       "            <td>Pat</td>\n",
       "            <td>Gillick</td>\n",
       "            <td>gillipa99</td>\n",
       "            <td>calavco</td>\n",
       "            <td>2011</td>\n",
       "        </tr>\n",
       "        <tr>\n",
       "            <td>Randy</td>\n",
       "            <td>Johnson</td>\n",
       "            <td>johnsra05</td>\n",
       "            <td>usc</td>\n",
       "            <td>2015</td>\n",
       "        </tr>\n",
       "        <tr>\n",
       "            <td>Randy</td>\n",
       "            <td>Johnson</td>\n",
       "            <td>johnsra05</td>\n",
       "            <td>usc</td>\n",
       "            <td>2015</td>\n",
       "        </tr>\n",
       "        <tr>\n",
       "            <td>Randy</td>\n",
       "            <td>Johnson</td>\n",
       "            <td>johnsra05</td>\n",
       "            <td>usc</td>\n",
       "            <td>2015</td>\n",
       "        </tr>\n",
       "        <tr>\n",
       "            <td>Trevor</td>\n",
       "            <td>Hoffman</td>\n",
       "            <td>hoffmtr01</td>\n",
       "            <td>cacypre</td>\n",
       "            <td>2018</td>\n",
       "        </tr>\n",
       "        <tr>\n",
       "            <td>Trevor</td>\n",
       "            <td>Hoffman</td>\n",
       "            <td>hoffmtr01</td>\n",
       "            <td>cacypre</td>\n",
       "            <td>2018</td>\n",
       "        </tr>\n",
       "    </tbody>\n",
       "</table>"
      ],
      "text/plain": [
       "+-----------+----------+-----------+------------+--------+\n",
       "| namefirst | namelast |  playerid |  schoolid  | yearid |\n",
       "+-----------+----------+-----------+------------+--------+\n",
       "|   Jackie  | Robinson | robinja02 |    ucla    |  1962  |\n",
       "|   Harry   |  Hooper  | hoopeha01 | stmarysca  |  1971  |\n",
       "|    Joe    |  Morgan  | morgajo02 |  camerri   |  1990  |\n",
       "|    Tom    |  Seaver  | seaveto01 |    usc     |  1992  |\n",
       "|    Tom    |  Seaver  | seaveto01 |  cafrecc   |  1992  |\n",
       "|   Ozzie   |  Smith   | smithoz01 |  calpoly   |  2002  |\n",
       "|   Ozzie   |  Smith   | smithoz01 |  calpoly   |  2002  |\n",
       "|   Ozzie   |  Smith   | smithoz01 |  calpoly   |  2002  |\n",
       "|   Ozzie   |  Smith   | smithoz01 |  calpoly   |  2002  |\n",
       "|    Tony   |  Gwynn   | gwynnto01 | sandiegost |  2007  |\n",
       "|    Tony   |  Gwynn   | gwynnto01 | sandiegost |  2007  |\n",
       "|    Tony   |  Gwynn   | gwynnto01 | sandiegost |  2007  |\n",
       "|    Dick   | Williams | willidi02 |  capasad   |  2008  |\n",
       "|    Doug   |  Harvey  | harvedo99 | sandiegost |  2010  |\n",
       "|    Doug   |  Harvey  | harvedo99 | sandiegost |  2010  |\n",
       "|    Pat    | Gillick  | gillipa99 |    usc     |  2011  |\n",
       "|    Pat    | Gillick  | gillipa99 |    usc     |  2011  |\n",
       "|    Pat    | Gillick  | gillipa99 |  calavco   |  2011  |\n",
       "|   Randy   | Johnson  | johnsra05 |    usc     |  2015  |\n",
       "|   Randy   | Johnson  | johnsra05 |    usc     |  2015  |\n",
       "|   Randy   | Johnson  | johnsra05 |    usc     |  2015  |\n",
       "|   Trevor  | Hoffman  | hoffmtr01 |  cacypre   |  2018  |\n",
       "|   Trevor  | Hoffman  | hoffmtr01 |  cacypre   |  2018  |\n",
       "+-----------+----------+-----------+------------+--------+"
      ]
     },
     "execution_count": 28,
     "metadata": {},
     "output_type": "execute_result"
    }
   ],
   "source": [
    "%%sql\n",
    "/* just run this cell */\n",
    "DROP VIEW IF EXISTS inducted_hof_ca;\n",
    "CREATE VIEW inducted_hof_ca AS {{query_2a.strip(';')}};\n",
    "SELECT * FROM inducted_hof_ca;"
   ]
  },
  {
   "cell_type": "code",
   "execution_count": 29,
   "metadata": {},
   "outputs": [
    {
     "data": {
      "text/html": [
       "<span style=\"None\">Running query in &#x27;postgresql://jovyan@127.0.0.1:5432/baseball&#x27;</span>"
      ],
      "text/plain": [
       "Running query in 'postgresql://jovyan@127.0.0.1:5432/baseball'"
      ]
     },
     "metadata": {},
     "output_type": "display_data"
    },
    {
     "data": {
      "text/html": [
       "<span style=\"color: green\">23 rows affected.</span>"
      ],
      "text/plain": [
       "23 rows affected."
      ]
     },
     "metadata": {},
     "output_type": "display_data"
    },
    {
     "data": {
      "text/html": [
       "<span style=\"color: green\">23 rows affected.</span>"
      ],
      "text/plain": [
       "23 rows affected."
      ]
     },
     "metadata": {},
     "output_type": "display_data"
    },
    {
     "data": {
      "text/html": [
       "<table>\n",
       "    <thead>\n",
       "        <tr>\n",
       "            <th>namefirst</th>\n",
       "            <th>namelast</th>\n",
       "            <th>playerid</th>\n",
       "            <th>schoolid</th>\n",
       "            <th>yearid</th>\n",
       "        </tr>\n",
       "    </thead>\n",
       "    <tbody>\n",
       "        <tr>\n",
       "            <td>Jackie</td>\n",
       "            <td>Robinson</td>\n",
       "            <td>robinja02</td>\n",
       "            <td>ucla</td>\n",
       "            <td>1962</td>\n",
       "        </tr>\n",
       "        <tr>\n",
       "            <td>Harry</td>\n",
       "            <td>Hooper</td>\n",
       "            <td>hoopeha01</td>\n",
       "            <td>stmarysca</td>\n",
       "            <td>1971</td>\n",
       "        </tr>\n",
       "        <tr>\n",
       "            <td>Joe</td>\n",
       "            <td>Morgan</td>\n",
       "            <td>morgajo02</td>\n",
       "            <td>camerri</td>\n",
       "            <td>1990</td>\n",
       "        </tr>\n",
       "        <tr>\n",
       "            <td>Tom</td>\n",
       "            <td>Seaver</td>\n",
       "            <td>seaveto01</td>\n",
       "            <td>usc</td>\n",
       "            <td>1992</td>\n",
       "        </tr>\n",
       "        <tr>\n",
       "            <td>Tom</td>\n",
       "            <td>Seaver</td>\n",
       "            <td>seaveto01</td>\n",
       "            <td>cafrecc</td>\n",
       "            <td>1992</td>\n",
       "        </tr>\n",
       "        <tr>\n",
       "            <td>Ozzie</td>\n",
       "            <td>Smith</td>\n",
       "            <td>smithoz01</td>\n",
       "            <td>calpoly</td>\n",
       "            <td>2002</td>\n",
       "        </tr>\n",
       "        <tr>\n",
       "            <td>Ozzie</td>\n",
       "            <td>Smith</td>\n",
       "            <td>smithoz01</td>\n",
       "            <td>calpoly</td>\n",
       "            <td>2002</td>\n",
       "        </tr>\n",
       "        <tr>\n",
       "            <td>Ozzie</td>\n",
       "            <td>Smith</td>\n",
       "            <td>smithoz01</td>\n",
       "            <td>calpoly</td>\n",
       "            <td>2002</td>\n",
       "        </tr>\n",
       "        <tr>\n",
       "            <td>Ozzie</td>\n",
       "            <td>Smith</td>\n",
       "            <td>smithoz01</td>\n",
       "            <td>calpoly</td>\n",
       "            <td>2002</td>\n",
       "        </tr>\n",
       "        <tr>\n",
       "            <td>Tony</td>\n",
       "            <td>Gwynn</td>\n",
       "            <td>gwynnto01</td>\n",
       "            <td>sandiegost</td>\n",
       "            <td>2007</td>\n",
       "        </tr>\n",
       "        <tr>\n",
       "            <td>Tony</td>\n",
       "            <td>Gwynn</td>\n",
       "            <td>gwynnto01</td>\n",
       "            <td>sandiegost</td>\n",
       "            <td>2007</td>\n",
       "        </tr>\n",
       "        <tr>\n",
       "            <td>Tony</td>\n",
       "            <td>Gwynn</td>\n",
       "            <td>gwynnto01</td>\n",
       "            <td>sandiegost</td>\n",
       "            <td>2007</td>\n",
       "        </tr>\n",
       "        <tr>\n",
       "            <td>Dick</td>\n",
       "            <td>Williams</td>\n",
       "            <td>willidi02</td>\n",
       "            <td>capasad</td>\n",
       "            <td>2008</td>\n",
       "        </tr>\n",
       "        <tr>\n",
       "            <td>Doug</td>\n",
       "            <td>Harvey</td>\n",
       "            <td>harvedo99</td>\n",
       "            <td>sandiegost</td>\n",
       "            <td>2010</td>\n",
       "        </tr>\n",
       "        <tr>\n",
       "            <td>Doug</td>\n",
       "            <td>Harvey</td>\n",
       "            <td>harvedo99</td>\n",
       "            <td>sandiegost</td>\n",
       "            <td>2010</td>\n",
       "        </tr>\n",
       "        <tr>\n",
       "            <td>Pat</td>\n",
       "            <td>Gillick</td>\n",
       "            <td>gillipa99</td>\n",
       "            <td>usc</td>\n",
       "            <td>2011</td>\n",
       "        </tr>\n",
       "        <tr>\n",
       "            <td>Pat</td>\n",
       "            <td>Gillick</td>\n",
       "            <td>gillipa99</td>\n",
       "            <td>usc</td>\n",
       "            <td>2011</td>\n",
       "        </tr>\n",
       "        <tr>\n",
       "            <td>Pat</td>\n",
       "            <td>Gillick</td>\n",
       "            <td>gillipa99</td>\n",
       "            <td>calavco</td>\n",
       "            <td>2011</td>\n",
       "        </tr>\n",
       "        <tr>\n",
       "            <td>Randy</td>\n",
       "            <td>Johnson</td>\n",
       "            <td>johnsra05</td>\n",
       "            <td>usc</td>\n",
       "            <td>2015</td>\n",
       "        </tr>\n",
       "        <tr>\n",
       "            <td>Randy</td>\n",
       "            <td>Johnson</td>\n",
       "            <td>johnsra05</td>\n",
       "            <td>usc</td>\n",
       "            <td>2015</td>\n",
       "        </tr>\n",
       "        <tr>\n",
       "            <td>Randy</td>\n",
       "            <td>Johnson</td>\n",
       "            <td>johnsra05</td>\n",
       "            <td>usc</td>\n",
       "            <td>2015</td>\n",
       "        </tr>\n",
       "        <tr>\n",
       "            <td>Trevor</td>\n",
       "            <td>Hoffman</td>\n",
       "            <td>hoffmtr01</td>\n",
       "            <td>cacypre</td>\n",
       "            <td>2018</td>\n",
       "        </tr>\n",
       "        <tr>\n",
       "            <td>Trevor</td>\n",
       "            <td>Hoffman</td>\n",
       "            <td>hoffmtr01</td>\n",
       "            <td>cacypre</td>\n",
       "            <td>2018</td>\n",
       "        </tr>\n",
       "    </tbody>\n",
       "</table>"
      ],
      "text/plain": [
       "+-----------+----------+-----------+------------+--------+\n",
       "| namefirst | namelast |  playerid |  schoolid  | yearid |\n",
       "+-----------+----------+-----------+------------+--------+\n",
       "|   Jackie  | Robinson | robinja02 |    ucla    |  1962  |\n",
       "|   Harry   |  Hooper  | hoopeha01 | stmarysca  |  1971  |\n",
       "|    Joe    |  Morgan  | morgajo02 |  camerri   |  1990  |\n",
       "|    Tom    |  Seaver  | seaveto01 |    usc     |  1992  |\n",
       "|    Tom    |  Seaver  | seaveto01 |  cafrecc   |  1992  |\n",
       "|   Ozzie   |  Smith   | smithoz01 |  calpoly   |  2002  |\n",
       "|   Ozzie   |  Smith   | smithoz01 |  calpoly   |  2002  |\n",
       "|   Ozzie   |  Smith   | smithoz01 |  calpoly   |  2002  |\n",
       "|   Ozzie   |  Smith   | smithoz01 |  calpoly   |  2002  |\n",
       "|    Tony   |  Gwynn   | gwynnto01 | sandiegost |  2007  |\n",
       "|    Tony   |  Gwynn   | gwynnto01 | sandiegost |  2007  |\n",
       "|    Tony   |  Gwynn   | gwynnto01 | sandiegost |  2007  |\n",
       "|    Dick   | Williams | willidi02 |  capasad   |  2008  |\n",
       "|    Doug   |  Harvey  | harvedo99 | sandiegost |  2010  |\n",
       "|    Doug   |  Harvey  | harvedo99 | sandiegost |  2010  |\n",
       "|    Pat    | Gillick  | gillipa99 |    usc     |  2011  |\n",
       "|    Pat    | Gillick  | gillipa99 |    usc     |  2011  |\n",
       "|    Pat    | Gillick  | gillipa99 |  calavco   |  2011  |\n",
       "|   Randy   | Johnson  | johnsra05 |    usc     |  2015  |\n",
       "|   Randy   | Johnson  | johnsra05 |    usc     |  2015  |\n",
       "|   Randy   | Johnson  | johnsra05 |    usc     |  2015  |\n",
       "|   Trevor  | Hoffman  | hoffmtr01 |  cacypre   |  2018  |\n",
       "|   Trevor  | Hoffman  | hoffmtr01 |  cacypre   |  2018  |\n",
       "+-----------+----------+-----------+------------+--------+"
      ]
     },
     "execution_count": 29,
     "metadata": {},
     "output_type": "execute_result"
    }
   ],
   "source": [
    "%%sql\n",
    "/* just run this cell */\n",
    "DROP MATERIALIZED VIEW IF EXISTS inducted_hof_ca_mat;\n",
    "CREATE MATERIALIZED VIEW inducted_hof_ca_mat AS {{query_2a.strip(';')}};\n",
    "SELECT * FROM inducted_hof_ca_mat;"
   ]
  },
  {
   "cell_type": "markdown",
   "metadata": {},
   "source": [
    "<br/><br/>\n",
    "\n",
    "---\n",
    "### Question 2b\n",
    "\n",
    "For this question, we want to compute the count of players who were inducted into the Hall of Fame and played baseball at a college in California for each `schoolid` and `yearid` combination ordered by ascending `yearid`.\n",
    "\n",
    "You should write three queries that accomplish this task, but with different strategies:\n",
    "* Question 2bi: Use the `inducted_hof_ca` view;\n",
    "* Question 2bii Use the `inducted_hof_ca_mat` view; and\n",
    "* Question 2biii: Do not use `inducted_hof_ca` view, `inducted_hof_ca_mat` materialized view, any common table expressions (CTEs), nor any subqueries."
   ]
  },
  {
   "cell_type": "markdown",
   "metadata": {
    "deletable": false,
    "editable": false
   },
   "source": [
    "### Question 2bi\n",
    "\n",
    "Write a query to accomplish the task above using the `inducted_hof_ca` view. Assign your result to `result_2b_view`."
   ]
  },
  {
   "cell_type": "code",
   "execution_count": 30,
   "metadata": {
    "tags": []
   },
   "outputs": [
    {
     "data": {
      "text/html": [
       "<span style=\"None\">Running query in &#x27;postgresql://jovyan@127.0.0.1:5432/baseball&#x27;</span>"
      ],
      "text/plain": [
       "Running query in 'postgresql://jovyan@127.0.0.1:5432/baseball'"
      ]
     },
     "metadata": {},
     "output_type": "display_data"
    },
    {
     "data": {
      "text/html": [
       "<span style=\"color: green\">13 rows affected.</span>"
      ],
      "text/plain": [
       "13 rows affected."
      ]
     },
     "metadata": {},
     "output_type": "display_data"
    }
   ],
   "source": [
    "%%sql --save query_2b_view result_2b_view <<\n",
    "SELECT schoolid, yearid, COUNT(*) \n",
    "FROM inducted_hof_ca\n",
    "GROUP BY schoolid, yearid\n",
    "ORDER BY yearid ASC"
   ]
  },
  {
   "cell_type": "code",
   "execution_count": 31,
   "metadata": {
    "tags": []
   },
   "outputs": [
    {
     "data": {
      "text/html": [
       "<table>\n",
       "    <thead>\n",
       "        <tr>\n",
       "            <th>schoolid</th>\n",
       "            <th>yearid</th>\n",
       "            <th>count</th>\n",
       "        </tr>\n",
       "    </thead>\n",
       "    <tbody>\n",
       "        <tr>\n",
       "            <td>ucla</td>\n",
       "            <td>1962</td>\n",
       "            <td>1</td>\n",
       "        </tr>\n",
       "        <tr>\n",
       "            <td>stmarysca</td>\n",
       "            <td>1971</td>\n",
       "            <td>1</td>\n",
       "        </tr>\n",
       "        <tr>\n",
       "            <td>camerri</td>\n",
       "            <td>1990</td>\n",
       "            <td>1</td>\n",
       "        </tr>\n",
       "        <tr>\n",
       "            <td>cafrecc</td>\n",
       "            <td>1992</td>\n",
       "            <td>1</td>\n",
       "        </tr>\n",
       "        <tr>\n",
       "            <td>usc</td>\n",
       "            <td>1992</td>\n",
       "            <td>1</td>\n",
       "        </tr>\n",
       "        <tr>\n",
       "            <td>calpoly</td>\n",
       "            <td>2002</td>\n",
       "            <td>4</td>\n",
       "        </tr>\n",
       "        <tr>\n",
       "            <td>sandiegost</td>\n",
       "            <td>2007</td>\n",
       "            <td>3</td>\n",
       "        </tr>\n",
       "        <tr>\n",
       "            <td>capasad</td>\n",
       "            <td>2008</td>\n",
       "            <td>1</td>\n",
       "        </tr>\n",
       "        <tr>\n",
       "            <td>sandiegost</td>\n",
       "            <td>2010</td>\n",
       "            <td>2</td>\n",
       "        </tr>\n",
       "        <tr>\n",
       "            <td>calavco</td>\n",
       "            <td>2011</td>\n",
       "            <td>1</td>\n",
       "        </tr>\n",
       "        <tr>\n",
       "            <td>usc</td>\n",
       "            <td>2011</td>\n",
       "            <td>2</td>\n",
       "        </tr>\n",
       "        <tr>\n",
       "            <td>usc</td>\n",
       "            <td>2015</td>\n",
       "            <td>3</td>\n",
       "        </tr>\n",
       "        <tr>\n",
       "            <td>cacypre</td>\n",
       "            <td>2018</td>\n",
       "            <td>2</td>\n",
       "        </tr>\n",
       "    </tbody>\n",
       "</table>"
      ],
      "text/plain": [
       "+------------+--------+-------+\n",
       "|  schoolid  | yearid | count |\n",
       "+------------+--------+-------+\n",
       "|    ucla    |  1962  |   1   |\n",
       "| stmarysca  |  1971  |   1   |\n",
       "|  camerri   |  1990  |   1   |\n",
       "|  cafrecc   |  1992  |   1   |\n",
       "|    usc     |  1992  |   1   |\n",
       "|  calpoly   |  2002  |   4   |\n",
       "| sandiegost |  2007  |   3   |\n",
       "|  capasad   |  2008  |   1   |\n",
       "| sandiegost |  2010  |   2   |\n",
       "|  calavco   |  2011  |   1   |\n",
       "|    usc     |  2011  |   2   |\n",
       "|    usc     |  2015  |   3   |\n",
       "|  cacypre   |  2018  |   2   |\n",
       "+------------+--------+-------+"
      ]
     },
     "execution_count": 31,
     "metadata": {},
     "output_type": "execute_result"
    }
   ],
   "source": [
    "# Do not delete/edit this cell!\n",
    "# You must run this cell before running the autograder.\n",
    "query_2b_view = %sqlcmd snippets query_2b_view\n",
    "grading_util.save_results(\"result_2b_view\", query_2b_view, result_2b_view)\n",
    "result_2b_view"
   ]
  },
  {
   "cell_type": "code",
   "execution_count": 32,
   "metadata": {
    "deletable": false,
    "editable": false
   },
   "outputs": [
    {
     "data": {
      "text/html": [
       "<p><strong><pre style='display: inline;'>q2bi</pre></strong> passed! 🎉</p>"
      ],
      "text/plain": [
       "q2bi results: All test cases passed!"
      ]
     },
     "execution_count": 32,
     "metadata": {},
     "output_type": "execute_result"
    }
   ],
   "source": [
    "grader.check(\"q2bi\")"
   ]
  },
  {
   "cell_type": "markdown",
   "metadata": {
    "deletable": false,
    "editable": false
   },
   "source": [
    "<br/><br/>\n",
    "\n",
    "#### Question 2bii:\n",
    "\n",
    "Now, write the query a second time to use the materialized view `inducted_hof_ca_mat`. Assign your result to `result_2b_mat`."
   ]
  },
  {
   "cell_type": "code",
   "execution_count": 33,
   "metadata": {
    "scrolled": true,
    "tags": []
   },
   "outputs": [
    {
     "data": {
      "text/html": [
       "<span style=\"None\">Running query in &#x27;postgresql://jovyan@127.0.0.1:5432/baseball&#x27;</span>"
      ],
      "text/plain": [
       "Running query in 'postgresql://jovyan@127.0.0.1:5432/baseball'"
      ]
     },
     "metadata": {},
     "output_type": "display_data"
    },
    {
     "data": {
      "text/html": [
       "<span style=\"color: green\">13 rows affected.</span>"
      ],
      "text/plain": [
       "13 rows affected."
      ]
     },
     "metadata": {},
     "output_type": "display_data"
    }
   ],
   "source": [
    "%%sql --save query_2b_mat result_2b_mat <<\n",
    "SELECT schoolid, yearid, COUNT(*) \n",
    "FROM inducted_hof_ca_mat\n",
    "GROUP BY schoolid, yearid\n",
    "ORDER BY yearid ASC"
   ]
  },
  {
   "cell_type": "code",
   "execution_count": 34,
   "metadata": {
    "tags": []
   },
   "outputs": [
    {
     "data": {
      "text/html": [
       "<table>\n",
       "    <thead>\n",
       "        <tr>\n",
       "            <th>schoolid</th>\n",
       "            <th>yearid</th>\n",
       "            <th>count</th>\n",
       "        </tr>\n",
       "    </thead>\n",
       "    <tbody>\n",
       "        <tr>\n",
       "            <td>ucla</td>\n",
       "            <td>1962</td>\n",
       "            <td>1</td>\n",
       "        </tr>\n",
       "        <tr>\n",
       "            <td>stmarysca</td>\n",
       "            <td>1971</td>\n",
       "            <td>1</td>\n",
       "        </tr>\n",
       "        <tr>\n",
       "            <td>camerri</td>\n",
       "            <td>1990</td>\n",
       "            <td>1</td>\n",
       "        </tr>\n",
       "        <tr>\n",
       "            <td>cafrecc</td>\n",
       "            <td>1992</td>\n",
       "            <td>1</td>\n",
       "        </tr>\n",
       "        <tr>\n",
       "            <td>usc</td>\n",
       "            <td>1992</td>\n",
       "            <td>1</td>\n",
       "        </tr>\n",
       "        <tr>\n",
       "            <td>calpoly</td>\n",
       "            <td>2002</td>\n",
       "            <td>4</td>\n",
       "        </tr>\n",
       "        <tr>\n",
       "            <td>sandiegost</td>\n",
       "            <td>2007</td>\n",
       "            <td>3</td>\n",
       "        </tr>\n",
       "        <tr>\n",
       "            <td>capasad</td>\n",
       "            <td>2008</td>\n",
       "            <td>1</td>\n",
       "        </tr>\n",
       "        <tr>\n",
       "            <td>sandiegost</td>\n",
       "            <td>2010</td>\n",
       "            <td>2</td>\n",
       "        </tr>\n",
       "        <tr>\n",
       "            <td>calavco</td>\n",
       "            <td>2011</td>\n",
       "            <td>1</td>\n",
       "        </tr>\n",
       "        <tr>\n",
       "            <td>usc</td>\n",
       "            <td>2011</td>\n",
       "            <td>2</td>\n",
       "        </tr>\n",
       "        <tr>\n",
       "            <td>usc</td>\n",
       "            <td>2015</td>\n",
       "            <td>3</td>\n",
       "        </tr>\n",
       "        <tr>\n",
       "            <td>cacypre</td>\n",
       "            <td>2018</td>\n",
       "            <td>2</td>\n",
       "        </tr>\n",
       "    </tbody>\n",
       "</table>"
      ],
      "text/plain": [
       "+------------+--------+-------+\n",
       "|  schoolid  | yearid | count |\n",
       "+------------+--------+-------+\n",
       "|    ucla    |  1962  |   1   |\n",
       "| stmarysca  |  1971  |   1   |\n",
       "|  camerri   |  1990  |   1   |\n",
       "|  cafrecc   |  1992  |   1   |\n",
       "|    usc     |  1992  |   1   |\n",
       "|  calpoly   |  2002  |   4   |\n",
       "| sandiegost |  2007  |   3   |\n",
       "|  capasad   |  2008  |   1   |\n",
       "| sandiegost |  2010  |   2   |\n",
       "|  calavco   |  2011  |   1   |\n",
       "|    usc     |  2011  |   2   |\n",
       "|    usc     |  2015  |   3   |\n",
       "|  cacypre   |  2018  |   2   |\n",
       "+------------+--------+-------+"
      ]
     },
     "execution_count": 34,
     "metadata": {},
     "output_type": "execute_result"
    }
   ],
   "source": [
    "# Do not delete/edit this cell!\n",
    "# You must run this cell before running the autograder.\n",
    "query_2b_mat = %sqlcmd snippets query_2b_mat\n",
    "grading_util.save_results(\"result_2b_mat\", query_2b_mat, result_2b_mat)\n",
    "result_2b_mat"
   ]
  },
  {
   "cell_type": "code",
   "execution_count": 35,
   "metadata": {
    "deletable": false,
    "editable": false
   },
   "outputs": [
    {
     "data": {
      "text/html": [
       "<p><strong><pre style='display: inline;'>q2bii</pre></strong> passed! 🌈</p>"
      ],
      "text/plain": [
       "q2bii results: All test cases passed!"
      ]
     },
     "execution_count": 35,
     "metadata": {},
     "output_type": "execute_result"
    }
   ],
   "source": [
    "grader.check(\"q2bii\")"
   ]
  },
  {
   "cell_type": "markdown",
   "metadata": {
    "deletable": false,
    "editable": false
   },
   "source": [
    "<br/><br/>\n",
    "\n",
    "#### Question 2biii:\n",
    "\n",
    "Finally, write the query a third time to **not** use the `inducted_hof_ca` view, nor the `inducted_hof_ca_mat` materialized view, nor any common table expressions (CTEs), nor any subqueries. Save your result in `result_2b_no_view`."
   ]
  },
  {
   "cell_type": "code",
   "execution_count": 36,
   "metadata": {
    "tags": []
   },
   "outputs": [
    {
     "data": {
      "text/html": [
       "<span style=\"None\">Running query in &#x27;postgresql://jovyan@127.0.0.1:5432/baseball&#x27;</span>"
      ],
      "text/plain": [
       "Running query in 'postgresql://jovyan@127.0.0.1:5432/baseball'"
      ]
     },
     "metadata": {},
     "output_type": "display_data"
    },
    {
     "data": {
      "text/html": [
       "<span style=\"color: green\">13 rows affected.</span>"
      ],
      "text/plain": [
       "13 rows affected."
      ]
     },
     "metadata": {},
     "output_type": "display_data"
    }
   ],
   "source": [
    "%%sql --save query_2b_no_view result_2b_no_view <<\n",
    "SELECT s.schoolid, hof.yearid, COUNT(*)\n",
    "FROM people AS p, halloffame AS hof, schools AS s, collegeplaying AS cp\n",
    "WHERE p.playerid = hof.playerid AND cp.schoolid = s.schoolid AND cp.playerid = p.playerid AND hof.inducted = 'Y' AND schoolstate = 'CA'\n",
    "GROUP BY s.schoolid, hof.yearid\n",
    "ORDER BY hof.yearid ASC\n",
    ";"
   ]
  },
  {
   "cell_type": "code",
   "execution_count": 37,
   "metadata": {
    "tags": []
   },
   "outputs": [
    {
     "data": {
      "text/html": [
       "<table>\n",
       "    <thead>\n",
       "        <tr>\n",
       "            <th>schoolid</th>\n",
       "            <th>yearid</th>\n",
       "            <th>count</th>\n",
       "        </tr>\n",
       "    </thead>\n",
       "    <tbody>\n",
       "        <tr>\n",
       "            <td>ucla</td>\n",
       "            <td>1962</td>\n",
       "            <td>1</td>\n",
       "        </tr>\n",
       "        <tr>\n",
       "            <td>stmarysca</td>\n",
       "            <td>1971</td>\n",
       "            <td>1</td>\n",
       "        </tr>\n",
       "        <tr>\n",
       "            <td>camerri</td>\n",
       "            <td>1990</td>\n",
       "            <td>1</td>\n",
       "        </tr>\n",
       "        <tr>\n",
       "            <td>cafrecc</td>\n",
       "            <td>1992</td>\n",
       "            <td>1</td>\n",
       "        </tr>\n",
       "        <tr>\n",
       "            <td>usc</td>\n",
       "            <td>1992</td>\n",
       "            <td>1</td>\n",
       "        </tr>\n",
       "        <tr>\n",
       "            <td>calpoly</td>\n",
       "            <td>2002</td>\n",
       "            <td>4</td>\n",
       "        </tr>\n",
       "        <tr>\n",
       "            <td>sandiegost</td>\n",
       "            <td>2007</td>\n",
       "            <td>3</td>\n",
       "        </tr>\n",
       "        <tr>\n",
       "            <td>capasad</td>\n",
       "            <td>2008</td>\n",
       "            <td>1</td>\n",
       "        </tr>\n",
       "        <tr>\n",
       "            <td>sandiegost</td>\n",
       "            <td>2010</td>\n",
       "            <td>2</td>\n",
       "        </tr>\n",
       "        <tr>\n",
       "            <td>calavco</td>\n",
       "            <td>2011</td>\n",
       "            <td>1</td>\n",
       "        </tr>\n",
       "        <tr>\n",
       "            <td>usc</td>\n",
       "            <td>2011</td>\n",
       "            <td>2</td>\n",
       "        </tr>\n",
       "        <tr>\n",
       "            <td>usc</td>\n",
       "            <td>2015</td>\n",
       "            <td>3</td>\n",
       "        </tr>\n",
       "        <tr>\n",
       "            <td>cacypre</td>\n",
       "            <td>2018</td>\n",
       "            <td>2</td>\n",
       "        </tr>\n",
       "    </tbody>\n",
       "</table>"
      ],
      "text/plain": [
       "+------------+--------+-------+\n",
       "|  schoolid  | yearid | count |\n",
       "+------------+--------+-------+\n",
       "|    ucla    |  1962  |   1   |\n",
       "| stmarysca  |  1971  |   1   |\n",
       "|  camerri   |  1990  |   1   |\n",
       "|  cafrecc   |  1992  |   1   |\n",
       "|    usc     |  1992  |   1   |\n",
       "|  calpoly   |  2002  |   4   |\n",
       "| sandiegost |  2007  |   3   |\n",
       "|  capasad   |  2008  |   1   |\n",
       "| sandiegost |  2010  |   2   |\n",
       "|  calavco   |  2011  |   1   |\n",
       "|    usc     |  2011  |   2   |\n",
       "|    usc     |  2015  |   3   |\n",
       "|  cacypre   |  2018  |   2   |\n",
       "+------------+--------+-------+"
      ]
     },
     "execution_count": 37,
     "metadata": {},
     "output_type": "execute_result"
    }
   ],
   "source": [
    "# Do not delete/edit this cell!\n",
    "# You must run this cell before running the autograder.\n",
    "query_2b_no_view = %sqlcmd snippets query_2b_no_view\n",
    "grading_util.save_results(\"result_2b_no_view\", query_2b_no_view, result_2b_no_view)\n",
    "result_2b_no_view"
   ]
  },
  {
   "cell_type": "code",
   "execution_count": 38,
   "metadata": {
    "deletable": false,
    "editable": false
   },
   "outputs": [
    {
     "data": {
      "text/html": [
       "<p><strong><pre style='display: inline;'>q2biii</pre></strong> passed! 🌈</p>"
      ],
      "text/plain": [
       "q2biii results: All test cases passed!"
      ]
     },
     "execution_count": 38,
     "metadata": {},
     "output_type": "execute_result"
    }
   ],
   "source": [
    "grader.check(\"q2biii\")"
   ]
  },
  {
   "cell_type": "markdown",
   "metadata": {
    "deletable": false,
    "editable": false
   },
   "source": [
    "<br/><br/>\n",
    "\n",
    "---\n",
    "\n",
    "### Question 2c\n",
    "Inspect the query plans for the three queries you wrote above by running the following cells."
   ]
  },
  {
   "cell_type": "code",
   "execution_count": 39,
   "metadata": {
    "deletable": false,
    "editable": false
   },
   "outputs": [
    {
     "data": {
      "text/html": [
       "<span style=\"None\">Running query in &#x27;postgresql://jovyan@127.0.0.1:5432/baseball&#x27;</span>"
      ],
      "text/plain": [
       "Running query in 'postgresql://jovyan@127.0.0.1:5432/baseball'"
      ]
     },
     "metadata": {},
     "output_type": "display_data"
    },
    {
     "data": {
      "text/html": [
       "<span style=\"color: green\">27 rows affected.</span>"
      ],
      "text/plain": [
       "27 rows affected."
      ]
     },
     "metadata": {},
     "output_type": "display_data"
    },
    {
     "data": {
      "text/html": [
       "<table>\n",
       "    <thead>\n",
       "        <tr>\n",
       "            <th>QUERY PLAN</th>\n",
       "        </tr>\n",
       "    </thead>\n",
       "    <tbody>\n",
       "        <tr>\n",
       "            <td>GroupAggregate  (cost=518.79..519.45 rows=33 width=20) (actual time=8.126..8.143 rows=13 loops=1)</td>\n",
       "        </tr>\n",
       "        <tr>\n",
       "            <td>&nbsp;&nbsp;Group Key: hof.yearid, s.schoolid</td>\n",
       "        </tr>\n",
       "        <tr>\n",
       "            <td>&nbsp;&nbsp;->  Sort  (cost=518.79..518.87 rows=33 width=12) (actual time=8.117..8.124 rows=23 loops=1)</td>\n",
       "        </tr>\n",
       "        <tr>\n",
       "            <td>&nbsp;&nbsp;&nbsp;&nbsp;&nbsp;&nbsp;&nbsp;&nbsp;Sort Key: hof.yearid, s.schoolid</td>\n",
       "        </tr>\n",
       "        <tr>\n",
       "            <td>&nbsp;&nbsp;&nbsp;&nbsp;&nbsp;&nbsp;&nbsp;&nbsp;Sort Method: quicksort  Memory: 26kB</td>\n",
       "        </tr>\n",
       "        <tr>\n",
       "            <td>&nbsp;&nbsp;&nbsp;&nbsp;&nbsp;&nbsp;&nbsp;&nbsp;->  Nested Loop  (cost=386.71..517.95 rows=33 width=12) (actual time=7.389..8.088 rows=23 loops=1)</td>\n",
       "        </tr>\n",
       "        <tr>\n",
       "            <td>&nbsp;&nbsp;&nbsp;&nbsp;&nbsp;&nbsp;&nbsp;&nbsp;&nbsp;&nbsp;&nbsp;&nbsp;&nbsp;&nbsp;Join Filter: ((hof.playerid)::text = (p.playerid)::text)</td>\n",
       "        </tr>\n",
       "        <tr>\n",
       "            <td>&nbsp;&nbsp;&nbsp;&nbsp;&nbsp;&nbsp;&nbsp;&nbsp;&nbsp;&nbsp;&nbsp;&nbsp;&nbsp;&nbsp;->  Hash Join  (cost=386.42..485.79 rows=96 width=30) (actual time=7.350..7.918 rows=23 loops=1)</td>\n",
       "        </tr>\n",
       "        <tr>\n",
       "            <td>&nbsp;&nbsp;&nbsp;&nbsp;&nbsp;&nbsp;&nbsp;&nbsp;&nbsp;&nbsp;&nbsp;&nbsp;&nbsp;&nbsp;&nbsp;&nbsp;&nbsp;&nbsp;&nbsp;&nbsp;Hash Cond: ((hof.playerid)::text = (cp.playerid)::text)</td>\n",
       "        </tr>\n",
       "        <tr>\n",
       "            <td>&nbsp;&nbsp;&nbsp;&nbsp;&nbsp;&nbsp;&nbsp;&nbsp;&nbsp;&nbsp;&nbsp;&nbsp;&nbsp;&nbsp;&nbsp;&nbsp;&nbsp;&nbsp;&nbsp;&nbsp;->  Seq Scan on halloffame hof  (cost=0.00..96.39 rows=323 width=13) (actual time=0.024..0.928 rows=323 loops=1)</td>\n",
       "        </tr>\n",
       "        <tr>\n",
       "            <td>&nbsp;&nbsp;&nbsp;&nbsp;&nbsp;&nbsp;&nbsp;&nbsp;&nbsp;&nbsp;&nbsp;&nbsp;&nbsp;&nbsp;&nbsp;&nbsp;&nbsp;&nbsp;&nbsp;&nbsp;&nbsp;&nbsp;&nbsp;&nbsp;&nbsp;&nbsp;Filter: ((inducted)::text = 'Y'::text)</td>\n",
       "        </tr>\n",
       "        <tr>\n",
       "            <td>&nbsp;&nbsp;&nbsp;&nbsp;&nbsp;&nbsp;&nbsp;&nbsp;&nbsp;&nbsp;&nbsp;&nbsp;&nbsp;&nbsp;&nbsp;&nbsp;&nbsp;&nbsp;&nbsp;&nbsp;&nbsp;&nbsp;&nbsp;&nbsp;&nbsp;&nbsp;Rows Removed by Filter: 3868</td>\n",
       "        </tr>\n",
       "        <tr>\n",
       "            <td>&nbsp;&nbsp;&nbsp;&nbsp;&nbsp;&nbsp;&nbsp;&nbsp;&nbsp;&nbsp;&nbsp;&nbsp;&nbsp;&nbsp;&nbsp;&nbsp;&nbsp;&nbsp;&nbsp;&nbsp;->  Hash  (cost=361.99..361.99 rows=1955 width=17) (actual time=6.907..6.910 rows=2948 loops=1)</td>\n",
       "        </tr>\n",
       "        <tr>\n",
       "            <td>&nbsp;&nbsp;&nbsp;&nbsp;&nbsp;&nbsp;&nbsp;&nbsp;&nbsp;&nbsp;&nbsp;&nbsp;&nbsp;&nbsp;&nbsp;&nbsp;&nbsp;&nbsp;&nbsp;&nbsp;&nbsp;&nbsp;&nbsp;&nbsp;&nbsp;&nbsp;Buckets: 4096 (originally 2048)  Batches: 1 (originally 1)  Memory Usage: 178kB</td>\n",
       "        </tr>\n",
       "        <tr>\n",
       "            <td>&nbsp;&nbsp;&nbsp;&nbsp;&nbsp;&nbsp;&nbsp;&nbsp;&nbsp;&nbsp;&nbsp;&nbsp;&nbsp;&nbsp;&nbsp;&nbsp;&nbsp;&nbsp;&nbsp;&nbsp;&nbsp;&nbsp;&nbsp;&nbsp;&nbsp;&nbsp;->  Hash Join  (cost=29.79..361.99 rows=1955 width=17) (actual time=0.313..5.989 rows=2948 loops=1)</td>\n",
       "        </tr>\n",
       "        <tr>\n",
       "            <td>&nbsp;&nbsp;&nbsp;&nbsp;&nbsp;&nbsp;&nbsp;&nbsp;&nbsp;&nbsp;&nbsp;&nbsp;&nbsp;&nbsp;&nbsp;&nbsp;&nbsp;&nbsp;&nbsp;&nbsp;&nbsp;&nbsp;&nbsp;&nbsp;&nbsp;&nbsp;&nbsp;&nbsp;&nbsp;&nbsp;&nbsp;&nbsp;Hash Cond: ((cp.schoolid)::text = (s.schoolid)::text)</td>\n",
       "        </tr>\n",
       "        <tr>\n",
       "            <td>&nbsp;&nbsp;&nbsp;&nbsp;&nbsp;&nbsp;&nbsp;&nbsp;&nbsp;&nbsp;&nbsp;&nbsp;&nbsp;&nbsp;&nbsp;&nbsp;&nbsp;&nbsp;&nbsp;&nbsp;&nbsp;&nbsp;&nbsp;&nbsp;&nbsp;&nbsp;&nbsp;&nbsp;&nbsp;&nbsp;&nbsp;&nbsp;->  Seq Scan on collegeplaying cp  (cost=0.00..286.50 rows=17350 width=17) (actual time=0.006..1.767 rows=17350 loops=1)</td>\n",
       "        </tr>\n",
       "        <tr>\n",
       "            <td>&nbsp;&nbsp;&nbsp;&nbsp;&nbsp;&nbsp;&nbsp;&nbsp;&nbsp;&nbsp;&nbsp;&nbsp;&nbsp;&nbsp;&nbsp;&nbsp;&nbsp;&nbsp;&nbsp;&nbsp;&nbsp;&nbsp;&nbsp;&nbsp;&nbsp;&nbsp;&nbsp;&nbsp;&nbsp;&nbsp;&nbsp;&nbsp;->  Hash  (cost=28.09..28.09 rows=136 width=8) (actual time=0.294..0.295 rows=136 loops=1)</td>\n",
       "        </tr>\n",
       "        <tr>\n",
       "            <td>&nbsp;&nbsp;&nbsp;&nbsp;&nbsp;&nbsp;&nbsp;&nbsp;&nbsp;&nbsp;&nbsp;&nbsp;&nbsp;&nbsp;&nbsp;&nbsp;&nbsp;&nbsp;&nbsp;&nbsp;&nbsp;&nbsp;&nbsp;&nbsp;&nbsp;&nbsp;&nbsp;&nbsp;&nbsp;&nbsp;&nbsp;&nbsp;&nbsp;&nbsp;&nbsp;&nbsp;&nbsp;&nbsp;Buckets: 1024  Batches: 1  Memory Usage: 14kB</td>\n",
       "        </tr>\n",
       "        <tr>\n",
       "            <td>&nbsp;&nbsp;&nbsp;&nbsp;&nbsp;&nbsp;&nbsp;&nbsp;&nbsp;&nbsp;&nbsp;&nbsp;&nbsp;&nbsp;&nbsp;&nbsp;&nbsp;&nbsp;&nbsp;&nbsp;&nbsp;&nbsp;&nbsp;&nbsp;&nbsp;&nbsp;&nbsp;&nbsp;&nbsp;&nbsp;&nbsp;&nbsp;&nbsp;&nbsp;&nbsp;&nbsp;&nbsp;&nbsp;->  Seq Scan on schools s  (cost=0.00..28.09 rows=136 width=8) (actual time=0.019..0.257 rows=136 loops=1)</td>\n",
       "        </tr>\n",
       "        <tr>\n",
       "            <td>&nbsp;&nbsp;&nbsp;&nbsp;&nbsp;&nbsp;&nbsp;&nbsp;&nbsp;&nbsp;&nbsp;&nbsp;&nbsp;&nbsp;&nbsp;&nbsp;&nbsp;&nbsp;&nbsp;&nbsp;&nbsp;&nbsp;&nbsp;&nbsp;&nbsp;&nbsp;&nbsp;&nbsp;&nbsp;&nbsp;&nbsp;&nbsp;&nbsp;&nbsp;&nbsp;&nbsp;&nbsp;&nbsp;&nbsp;&nbsp;&nbsp;&nbsp;&nbsp;&nbsp;Filter: ((schoolstate)::text = 'CA'::text)</td>\n",
       "        </tr>\n",
       "        <tr>\n",
       "            <td>&nbsp;&nbsp;&nbsp;&nbsp;&nbsp;&nbsp;&nbsp;&nbsp;&nbsp;&nbsp;&nbsp;&nbsp;&nbsp;&nbsp;&nbsp;&nbsp;&nbsp;&nbsp;&nbsp;&nbsp;&nbsp;&nbsp;&nbsp;&nbsp;&nbsp;&nbsp;&nbsp;&nbsp;&nbsp;&nbsp;&nbsp;&nbsp;&nbsp;&nbsp;&nbsp;&nbsp;&nbsp;&nbsp;&nbsp;&nbsp;&nbsp;&nbsp;&nbsp;&nbsp;Rows Removed by Filter: 1071</td>\n",
       "        </tr>\n",
       "        <tr>\n",
       "            <td>&nbsp;&nbsp;&nbsp;&nbsp;&nbsp;&nbsp;&nbsp;&nbsp;&nbsp;&nbsp;&nbsp;&nbsp;&nbsp;&nbsp;->  Index Only Scan using master_pkey on people p  (cost=0.29..0.32 rows=1 width=9) (actual time=0.006..0.007 rows=1 loops=23)</td>\n",
       "        </tr>\n",
       "        <tr>\n",
       "            <td>&nbsp;&nbsp;&nbsp;&nbsp;&nbsp;&nbsp;&nbsp;&nbsp;&nbsp;&nbsp;&nbsp;&nbsp;&nbsp;&nbsp;&nbsp;&nbsp;&nbsp;&nbsp;&nbsp;&nbsp;Index Cond: (playerid = (cp.playerid)::text)</td>\n",
       "        </tr>\n",
       "        <tr>\n",
       "            <td>&nbsp;&nbsp;&nbsp;&nbsp;&nbsp;&nbsp;&nbsp;&nbsp;&nbsp;&nbsp;&nbsp;&nbsp;&nbsp;&nbsp;&nbsp;&nbsp;&nbsp;&nbsp;&nbsp;&nbsp;Heap Fetches: 0</td>\n",
       "        </tr>\n",
       "        <tr>\n",
       "            <td>Planning Time: 3.209 ms</td>\n",
       "        </tr>\n",
       "        <tr>\n",
       "            <td>Execution Time: 8.220 ms</td>\n",
       "        </tr>\n",
       "    </tbody>\n",
       "</table>"
      ],
      "text/plain": [
       "+----------------------------------------------------------------------------------------------------------------------------------------------------------+\n",
       "|                                                                        QUERY PLAN                                                                        |\n",
       "+----------------------------------------------------------------------------------------------------------------------------------------------------------+\n",
       "|                            GroupAggregate  (cost=518.79..519.45 rows=33 width=20) (actual time=8.126..8.143 rows=13 loops=1)                             |\n",
       "|                                                             Group Key: hof.yearid, s.schoolid                                                            |\n",
       "|                                ->  Sort  (cost=518.79..518.87 rows=33 width=12) (actual time=8.117..8.124 rows=23 loops=1)                               |\n",
       "|                                                                 Sort Key: hof.yearid, s.schoolid                                                         |\n",
       "|                                                               Sort Method: quicksort  Memory: 26kB                                                       |\n",
       "|                                ->  Nested Loop  (cost=386.71..517.95 rows=33 width=12) (actual time=7.389..8.088 rows=23 loops=1)                        |\n",
       "|                                                        Join Filter: ((hof.playerid)::text = (p.playerid)::text)                                          |\n",
       "|                                    ->  Hash Join  (cost=386.42..485.79 rows=96 width=30) (actual time=7.350..7.918 rows=23 loops=1)                      |\n",
       "|                                                           Hash Cond: ((hof.playerid)::text = (cp.playerid)::text)                                        |\n",
       "|                               ->  Seq Scan on halloffame hof  (cost=0.00..96.39 rows=323 width=13) (actual time=0.024..0.928 rows=323 loops=1)           |\n",
       "|                                                                       Filter: ((inducted)::text = 'Y'::text)                                             |\n",
       "|                                                                            Rows Removed by Filter: 3868                                                  |\n",
       "|                                       ->  Hash  (cost=361.99..361.99 rows=1955 width=17) (actual time=6.907..6.910 rows=2948 loops=1)                    |\n",
       "|                                                  Buckets: 4096 (originally 2048)  Batches: 1 (originally 1)  Memory Usage: 178kB                         |\n",
       "|                                        ->  Hash Join  (cost=29.79..361.99 rows=1955 width=17) (actual time=0.313..5.989 rows=2948 loops=1)               |\n",
       "|                                                                  Hash Cond: ((cp.schoolid)::text = (s.schoolid)::text)                                   |\n",
       "|                                 ->  Seq Scan on collegeplaying cp  (cost=0.00..286.50 rows=17350 width=17) (actual time=0.006..1.767 rows=17350 loops=1) |\n",
       "|                                                ->  Hash  (cost=28.09..28.09 rows=136 width=8) (actual time=0.294..0.295 rows=136 loops=1)                |\n",
       "|                                                                         Buckets: 1024  Batches: 1  Memory Usage: 14kB                                    |\n",
       "|                                           ->  Seq Scan on schools s  (cost=0.00..28.09 rows=136 width=8) (actual time=0.019..0.257 rows=136 loops=1)     |\n",
       "|                                                                              Filter: ((schoolstate)::text = 'CA'::text)                                  |\n",
       "|                                                                                     Rows Removed by Filter: 1071                                         |\n",
       "|                     ->  Index Only Scan using master_pkey on people p  (cost=0.29..0.32 rows=1 width=9) (actual time=0.006..0.007 rows=1 loops=23)       |\n",
       "|                                                                 Index Cond: (playerid = (cp.playerid)::text)                                             |\n",
       "|                                                                               Heap Fetches: 0                                                            |\n",
       "|                                                                 Planning Time: 3.209 ms                                                                  |\n",
       "|                                                                 Execution Time: 8.220 ms                                                                 |\n",
       "+----------------------------------------------------------------------------------------------------------------------------------------------------------+"
      ]
     },
     "execution_count": 39,
     "metadata": {},
     "output_type": "execute_result"
    }
   ],
   "source": [
    "# just run this cell\n",
    "%sql EXPLAIN ANALYZE {{query_2b_view}}"
   ]
  },
  {
   "cell_type": "code",
   "execution_count": 40,
   "metadata": {
    "deletable": false,
    "editable": false
   },
   "outputs": [
    {
     "data": {
      "text/html": [
       "<span style=\"None\">Running query in &#x27;postgresql://jovyan@127.0.0.1:5432/baseball&#x27;</span>"
      ],
      "text/plain": [
       "Running query in 'postgresql://jovyan@127.0.0.1:5432/baseball'"
      ]
     },
     "metadata": {},
     "output_type": "display_data"
    },
    {
     "data": {
      "text/html": [
       "<span style=\"color: green\">9 rows affected.</span>"
      ],
      "text/plain": [
       "9 rows affected."
      ]
     },
     "metadata": {},
     "output_type": "display_data"
    },
    {
     "data": {
      "text/html": [
       "<table>\n",
       "    <thead>\n",
       "        <tr>\n",
       "            <th>QUERY PLAN</th>\n",
       "        </tr>\n",
       "    </thead>\n",
       "    <tbody>\n",
       "        <tr>\n",
       "            <td>Sort  (cost=23.67..24.17 rows=200 width=60) (actual time=0.047..0.049 rows=13 loops=1)</td>\n",
       "        </tr>\n",
       "        <tr>\n",
       "            <td>&nbsp;&nbsp;Sort Key: yearid</td>\n",
       "        </tr>\n",
       "        <tr>\n",
       "            <td>&nbsp;&nbsp;Sort Method: quicksort  Memory: 25kB</td>\n",
       "        </tr>\n",
       "        <tr>\n",
       "            <td>&nbsp;&nbsp;->  HashAggregate  (cost=14.03..16.02 rows=200 width=60) (actual time=0.032..0.037 rows=13 loops=1)</td>\n",
       "        </tr>\n",
       "        <tr>\n",
       "            <td>&nbsp;&nbsp;&nbsp;&nbsp;&nbsp;&nbsp;&nbsp;&nbsp;Group Key: yearid, schoolid</td>\n",
       "        </tr>\n",
       "        <tr>\n",
       "            <td>&nbsp;&nbsp;&nbsp;&nbsp;&nbsp;&nbsp;&nbsp;&nbsp;Batches: 1  Memory Usage: 40kB</td>\n",
       "        </tr>\n",
       "        <tr>\n",
       "            <td>&nbsp;&nbsp;&nbsp;&nbsp;&nbsp;&nbsp;&nbsp;&nbsp;->  Seq Scan on inducted_hof_ca_mat  (cost=0.00..12.30 rows=230 width=52) (actual time=0.008..0.010 rows=23 loops=1)</td>\n",
       "        </tr>\n",
       "        <tr>\n",
       "            <td>Planning Time: 0.095 ms</td>\n",
       "        </tr>\n",
       "        <tr>\n",
       "            <td>Execution Time: 0.085 ms</td>\n",
       "        </tr>\n",
       "    </tbody>\n",
       "</table>"
      ],
      "text/plain": [
       "+------------------------------------------------------------------------------------------------------------------------------+\n",
       "|                                                          QUERY PLAN                                                          |\n",
       "+------------------------------------------------------------------------------------------------------------------------------+\n",
       "|                    Sort  (cost=23.67..24.17 rows=200 width=60) (actual time=0.047..0.049 rows=13 loops=1)                    |\n",
       "|                                                        Sort Key: yearid                                                      |\n",
       "|                                              Sort Method: quicksort  Memory: 25kB                                            |\n",
       "|              ->  HashAggregate  (cost=14.03..16.02 rows=200 width=60) (actual time=0.032..0.037 rows=13 loops=1)             |\n",
       "|                                                     Group Key: yearid, schoolid                                              |\n",
       "|                                                    Batches: 1  Memory Usage: 40kB                                            |\n",
       "|         ->  Seq Scan on inducted_hof_ca_mat  (cost=0.00..12.30 rows=230 width=52) (actual time=0.008..0.010 rows=23 loops=1) |\n",
       "|                                                   Planning Time: 0.095 ms                                                    |\n",
       "|                                                   Execution Time: 0.085 ms                                                   |\n",
       "+------------------------------------------------------------------------------------------------------------------------------+"
      ]
     },
     "execution_count": 40,
     "metadata": {},
     "output_type": "execute_result"
    }
   ],
   "source": [
    "# just run this cell\n",
    "%sql EXPLAIN ANALYZE {{query_2b_mat}}"
   ]
  },
  {
   "cell_type": "code",
   "execution_count": 41,
   "metadata": {
    "deletable": false,
    "editable": false
   },
   "outputs": [
    {
     "data": {
      "text/html": [
       "<span style=\"None\">Running query in &#x27;postgresql://jovyan@127.0.0.1:5432/baseball&#x27;</span>"
      ],
      "text/plain": [
       "Running query in 'postgresql://jovyan@127.0.0.1:5432/baseball'"
      ]
     },
     "metadata": {},
     "output_type": "display_data"
    },
    {
     "data": {
      "text/html": [
       "<span style=\"color: green\">27 rows affected.</span>"
      ],
      "text/plain": [
       "27 rows affected."
      ]
     },
     "metadata": {},
     "output_type": "display_data"
    },
    {
     "data": {
      "text/html": [
       "<table>\n",
       "    <thead>\n",
       "        <tr>\n",
       "            <th>QUERY PLAN</th>\n",
       "        </tr>\n",
       "    </thead>\n",
       "    <tbody>\n",
       "        <tr>\n",
       "            <td>GroupAggregate  (cost=518.79..519.45 rows=33 width=20) (actual time=8.154..8.189 rows=13 loops=1)</td>\n",
       "        </tr>\n",
       "        <tr>\n",
       "            <td>&nbsp;&nbsp;Group Key: hof.yearid, s.schoolid</td>\n",
       "        </tr>\n",
       "        <tr>\n",
       "            <td>&nbsp;&nbsp;->  Sort  (cost=518.79..518.87 rows=33 width=12) (actual time=8.146..8.152 rows=23 loops=1)</td>\n",
       "        </tr>\n",
       "        <tr>\n",
       "            <td>&nbsp;&nbsp;&nbsp;&nbsp;&nbsp;&nbsp;&nbsp;&nbsp;Sort Key: hof.yearid, s.schoolid</td>\n",
       "        </tr>\n",
       "        <tr>\n",
       "            <td>&nbsp;&nbsp;&nbsp;&nbsp;&nbsp;&nbsp;&nbsp;&nbsp;Sort Method: quicksort  Memory: 26kB</td>\n",
       "        </tr>\n",
       "        <tr>\n",
       "            <td>&nbsp;&nbsp;&nbsp;&nbsp;&nbsp;&nbsp;&nbsp;&nbsp;->  Nested Loop  (cost=386.71..517.95 rows=33 width=12) (actual time=7.473..8.130 rows=23 loops=1)</td>\n",
       "        </tr>\n",
       "        <tr>\n",
       "            <td>&nbsp;&nbsp;&nbsp;&nbsp;&nbsp;&nbsp;&nbsp;&nbsp;&nbsp;&nbsp;&nbsp;&nbsp;&nbsp;&nbsp;Join Filter: ((hof.playerid)::text = (p.playerid)::text)</td>\n",
       "        </tr>\n",
       "        <tr>\n",
       "            <td>&nbsp;&nbsp;&nbsp;&nbsp;&nbsp;&nbsp;&nbsp;&nbsp;&nbsp;&nbsp;&nbsp;&nbsp;&nbsp;&nbsp;->  Hash Join  (cost=386.42..485.79 rows=96 width=30) (actual time=7.434..7.962 rows=23 loops=1)</td>\n",
       "        </tr>\n",
       "        <tr>\n",
       "            <td>&nbsp;&nbsp;&nbsp;&nbsp;&nbsp;&nbsp;&nbsp;&nbsp;&nbsp;&nbsp;&nbsp;&nbsp;&nbsp;&nbsp;&nbsp;&nbsp;&nbsp;&nbsp;&nbsp;&nbsp;Hash Cond: ((hof.playerid)::text = (cp.playerid)::text)</td>\n",
       "        </tr>\n",
       "        <tr>\n",
       "            <td>&nbsp;&nbsp;&nbsp;&nbsp;&nbsp;&nbsp;&nbsp;&nbsp;&nbsp;&nbsp;&nbsp;&nbsp;&nbsp;&nbsp;&nbsp;&nbsp;&nbsp;&nbsp;&nbsp;&nbsp;->  Seq Scan on halloffame hof  (cost=0.00..96.39 rows=323 width=13) (actual time=0.013..0.887 rows=323 loops=1)</td>\n",
       "        </tr>\n",
       "        <tr>\n",
       "            <td>&nbsp;&nbsp;&nbsp;&nbsp;&nbsp;&nbsp;&nbsp;&nbsp;&nbsp;&nbsp;&nbsp;&nbsp;&nbsp;&nbsp;&nbsp;&nbsp;&nbsp;&nbsp;&nbsp;&nbsp;&nbsp;&nbsp;&nbsp;&nbsp;&nbsp;&nbsp;Filter: ((inducted)::text = 'Y'::text)</td>\n",
       "        </tr>\n",
       "        <tr>\n",
       "            <td>&nbsp;&nbsp;&nbsp;&nbsp;&nbsp;&nbsp;&nbsp;&nbsp;&nbsp;&nbsp;&nbsp;&nbsp;&nbsp;&nbsp;&nbsp;&nbsp;&nbsp;&nbsp;&nbsp;&nbsp;&nbsp;&nbsp;&nbsp;&nbsp;&nbsp;&nbsp;Rows Removed by Filter: 3868</td>\n",
       "        </tr>\n",
       "        <tr>\n",
       "            <td>&nbsp;&nbsp;&nbsp;&nbsp;&nbsp;&nbsp;&nbsp;&nbsp;&nbsp;&nbsp;&nbsp;&nbsp;&nbsp;&nbsp;&nbsp;&nbsp;&nbsp;&nbsp;&nbsp;&nbsp;->  Hash  (cost=361.99..361.99 rows=1955 width=17) (actual time=6.998..7.000 rows=2948 loops=1)</td>\n",
       "        </tr>\n",
       "        <tr>\n",
       "            <td>&nbsp;&nbsp;&nbsp;&nbsp;&nbsp;&nbsp;&nbsp;&nbsp;&nbsp;&nbsp;&nbsp;&nbsp;&nbsp;&nbsp;&nbsp;&nbsp;&nbsp;&nbsp;&nbsp;&nbsp;&nbsp;&nbsp;&nbsp;&nbsp;&nbsp;&nbsp;Buckets: 4096 (originally 2048)  Batches: 1 (originally 1)  Memory Usage: 178kB</td>\n",
       "        </tr>\n",
       "        <tr>\n",
       "            <td>&nbsp;&nbsp;&nbsp;&nbsp;&nbsp;&nbsp;&nbsp;&nbsp;&nbsp;&nbsp;&nbsp;&nbsp;&nbsp;&nbsp;&nbsp;&nbsp;&nbsp;&nbsp;&nbsp;&nbsp;&nbsp;&nbsp;&nbsp;&nbsp;&nbsp;&nbsp;->  Hash Join  (cost=29.79..361.99 rows=1955 width=17) (actual time=0.312..6.085 rows=2948 loops=1)</td>\n",
       "        </tr>\n",
       "        <tr>\n",
       "            <td>&nbsp;&nbsp;&nbsp;&nbsp;&nbsp;&nbsp;&nbsp;&nbsp;&nbsp;&nbsp;&nbsp;&nbsp;&nbsp;&nbsp;&nbsp;&nbsp;&nbsp;&nbsp;&nbsp;&nbsp;&nbsp;&nbsp;&nbsp;&nbsp;&nbsp;&nbsp;&nbsp;&nbsp;&nbsp;&nbsp;&nbsp;&nbsp;Hash Cond: ((cp.schoolid)::text = (s.schoolid)::text)</td>\n",
       "        </tr>\n",
       "        <tr>\n",
       "            <td>&nbsp;&nbsp;&nbsp;&nbsp;&nbsp;&nbsp;&nbsp;&nbsp;&nbsp;&nbsp;&nbsp;&nbsp;&nbsp;&nbsp;&nbsp;&nbsp;&nbsp;&nbsp;&nbsp;&nbsp;&nbsp;&nbsp;&nbsp;&nbsp;&nbsp;&nbsp;&nbsp;&nbsp;&nbsp;&nbsp;&nbsp;&nbsp;->  Seq Scan on collegeplaying cp  (cost=0.00..286.50 rows=17350 width=17) (actual time=0.006..2.243 rows=17350 loops=1)</td>\n",
       "        </tr>\n",
       "        <tr>\n",
       "            <td>&nbsp;&nbsp;&nbsp;&nbsp;&nbsp;&nbsp;&nbsp;&nbsp;&nbsp;&nbsp;&nbsp;&nbsp;&nbsp;&nbsp;&nbsp;&nbsp;&nbsp;&nbsp;&nbsp;&nbsp;&nbsp;&nbsp;&nbsp;&nbsp;&nbsp;&nbsp;&nbsp;&nbsp;&nbsp;&nbsp;&nbsp;&nbsp;->  Hash  (cost=28.09..28.09 rows=136 width=8) (actual time=0.295..0.297 rows=136 loops=1)</td>\n",
       "        </tr>\n",
       "        <tr>\n",
       "            <td>&nbsp;&nbsp;&nbsp;&nbsp;&nbsp;&nbsp;&nbsp;&nbsp;&nbsp;&nbsp;&nbsp;&nbsp;&nbsp;&nbsp;&nbsp;&nbsp;&nbsp;&nbsp;&nbsp;&nbsp;&nbsp;&nbsp;&nbsp;&nbsp;&nbsp;&nbsp;&nbsp;&nbsp;&nbsp;&nbsp;&nbsp;&nbsp;&nbsp;&nbsp;&nbsp;&nbsp;&nbsp;&nbsp;Buckets: 1024  Batches: 1  Memory Usage: 14kB</td>\n",
       "        </tr>\n",
       "        <tr>\n",
       "            <td>&nbsp;&nbsp;&nbsp;&nbsp;&nbsp;&nbsp;&nbsp;&nbsp;&nbsp;&nbsp;&nbsp;&nbsp;&nbsp;&nbsp;&nbsp;&nbsp;&nbsp;&nbsp;&nbsp;&nbsp;&nbsp;&nbsp;&nbsp;&nbsp;&nbsp;&nbsp;&nbsp;&nbsp;&nbsp;&nbsp;&nbsp;&nbsp;&nbsp;&nbsp;&nbsp;&nbsp;&nbsp;&nbsp;->  Seq Scan on schools s  (cost=0.00..28.09 rows=136 width=8) (actual time=0.018..0.260 rows=136 loops=1)</td>\n",
       "        </tr>\n",
       "        <tr>\n",
       "            <td>&nbsp;&nbsp;&nbsp;&nbsp;&nbsp;&nbsp;&nbsp;&nbsp;&nbsp;&nbsp;&nbsp;&nbsp;&nbsp;&nbsp;&nbsp;&nbsp;&nbsp;&nbsp;&nbsp;&nbsp;&nbsp;&nbsp;&nbsp;&nbsp;&nbsp;&nbsp;&nbsp;&nbsp;&nbsp;&nbsp;&nbsp;&nbsp;&nbsp;&nbsp;&nbsp;&nbsp;&nbsp;&nbsp;&nbsp;&nbsp;&nbsp;&nbsp;&nbsp;&nbsp;Filter: ((schoolstate)::text = 'CA'::text)</td>\n",
       "        </tr>\n",
       "        <tr>\n",
       "            <td>&nbsp;&nbsp;&nbsp;&nbsp;&nbsp;&nbsp;&nbsp;&nbsp;&nbsp;&nbsp;&nbsp;&nbsp;&nbsp;&nbsp;&nbsp;&nbsp;&nbsp;&nbsp;&nbsp;&nbsp;&nbsp;&nbsp;&nbsp;&nbsp;&nbsp;&nbsp;&nbsp;&nbsp;&nbsp;&nbsp;&nbsp;&nbsp;&nbsp;&nbsp;&nbsp;&nbsp;&nbsp;&nbsp;&nbsp;&nbsp;&nbsp;&nbsp;&nbsp;&nbsp;Rows Removed by Filter: 1071</td>\n",
       "        </tr>\n",
       "        <tr>\n",
       "            <td>&nbsp;&nbsp;&nbsp;&nbsp;&nbsp;&nbsp;&nbsp;&nbsp;&nbsp;&nbsp;&nbsp;&nbsp;&nbsp;&nbsp;->  Index Only Scan using master_pkey on people p  (cost=0.29..0.32 rows=1 width=9) (actual time=0.006..0.006 rows=1 loops=23)</td>\n",
       "        </tr>\n",
       "        <tr>\n",
       "            <td>&nbsp;&nbsp;&nbsp;&nbsp;&nbsp;&nbsp;&nbsp;&nbsp;&nbsp;&nbsp;&nbsp;&nbsp;&nbsp;&nbsp;&nbsp;&nbsp;&nbsp;&nbsp;&nbsp;&nbsp;Index Cond: (playerid = (cp.playerid)::text)</td>\n",
       "        </tr>\n",
       "        <tr>\n",
       "            <td>&nbsp;&nbsp;&nbsp;&nbsp;&nbsp;&nbsp;&nbsp;&nbsp;&nbsp;&nbsp;&nbsp;&nbsp;&nbsp;&nbsp;&nbsp;&nbsp;&nbsp;&nbsp;&nbsp;&nbsp;Heap Fetches: 0</td>\n",
       "        </tr>\n",
       "        <tr>\n",
       "            <td>Planning Time: 3.131 ms</td>\n",
       "        </tr>\n",
       "        <tr>\n",
       "            <td>Execution Time: 8.259 ms</td>\n",
       "        </tr>\n",
       "    </tbody>\n",
       "</table>"
      ],
      "text/plain": [
       "+----------------------------------------------------------------------------------------------------------------------------------------------------------+\n",
       "|                                                                        QUERY PLAN                                                                        |\n",
       "+----------------------------------------------------------------------------------------------------------------------------------------------------------+\n",
       "|                            GroupAggregate  (cost=518.79..519.45 rows=33 width=20) (actual time=8.154..8.189 rows=13 loops=1)                             |\n",
       "|                                                             Group Key: hof.yearid, s.schoolid                                                            |\n",
       "|                                ->  Sort  (cost=518.79..518.87 rows=33 width=12) (actual time=8.146..8.152 rows=23 loops=1)                               |\n",
       "|                                                                 Sort Key: hof.yearid, s.schoolid                                                         |\n",
       "|                                                               Sort Method: quicksort  Memory: 26kB                                                       |\n",
       "|                                ->  Nested Loop  (cost=386.71..517.95 rows=33 width=12) (actual time=7.473..8.130 rows=23 loops=1)                        |\n",
       "|                                                        Join Filter: ((hof.playerid)::text = (p.playerid)::text)                                          |\n",
       "|                                    ->  Hash Join  (cost=386.42..485.79 rows=96 width=30) (actual time=7.434..7.962 rows=23 loops=1)                      |\n",
       "|                                                           Hash Cond: ((hof.playerid)::text = (cp.playerid)::text)                                        |\n",
       "|                               ->  Seq Scan on halloffame hof  (cost=0.00..96.39 rows=323 width=13) (actual time=0.013..0.887 rows=323 loops=1)           |\n",
       "|                                                                       Filter: ((inducted)::text = 'Y'::text)                                             |\n",
       "|                                                                            Rows Removed by Filter: 3868                                                  |\n",
       "|                                       ->  Hash  (cost=361.99..361.99 rows=1955 width=17) (actual time=6.998..7.000 rows=2948 loops=1)                    |\n",
       "|                                                  Buckets: 4096 (originally 2048)  Batches: 1 (originally 1)  Memory Usage: 178kB                         |\n",
       "|                                        ->  Hash Join  (cost=29.79..361.99 rows=1955 width=17) (actual time=0.312..6.085 rows=2948 loops=1)               |\n",
       "|                                                                  Hash Cond: ((cp.schoolid)::text = (s.schoolid)::text)                                   |\n",
       "|                                 ->  Seq Scan on collegeplaying cp  (cost=0.00..286.50 rows=17350 width=17) (actual time=0.006..2.243 rows=17350 loops=1) |\n",
       "|                                                ->  Hash  (cost=28.09..28.09 rows=136 width=8) (actual time=0.295..0.297 rows=136 loops=1)                |\n",
       "|                                                                         Buckets: 1024  Batches: 1  Memory Usage: 14kB                                    |\n",
       "|                                           ->  Seq Scan on schools s  (cost=0.00..28.09 rows=136 width=8) (actual time=0.018..0.260 rows=136 loops=1)     |\n",
       "|                                                                              Filter: ((schoolstate)::text = 'CA'::text)                                  |\n",
       "|                                                                                     Rows Removed by Filter: 1071                                         |\n",
       "|                     ->  Index Only Scan using master_pkey on people p  (cost=0.29..0.32 rows=1 width=9) (actual time=0.006..0.006 rows=1 loops=23)       |\n",
       "|                                                                 Index Cond: (playerid = (cp.playerid)::text)                                             |\n",
       "|                                                                               Heap Fetches: 0                                                            |\n",
       "|                                                                 Planning Time: 3.131 ms                                                                  |\n",
       "|                                                                 Execution Time: 8.259 ms                                                                 |\n",
       "+----------------------------------------------------------------------------------------------------------------------------------------------------------+"
      ]
     },
     "execution_count": 41,
     "metadata": {},
     "output_type": "execute_result"
    }
   ],
   "source": [
    "# just run this cell\n",
    "%sql EXPLAIN ANALYZE {{query_2b_no_view}}"
   ]
  },
  {
   "cell_type": "markdown",
   "metadata": {
    "deletable": false,
    "editable": false
   },
   "source": [
    "Then, record the execution time and cost for each query."
   ]
  },
  {
   "cell_type": "code",
   "execution_count": 42,
   "metadata": {
    "tags": []
   },
   "outputs": [],
   "source": [
    "with_view_cost = 519.45\n",
    "with_view_timing = 8.157\n",
    "with_materialized_view_cost = 24.17\n",
    "with_materialized_view_timing = 0.087\n",
    "without_view_cost = 519.45\n",
    "without_view_timing = 8.030"
   ]
  },
  {
   "cell_type": "code",
   "execution_count": 43,
   "metadata": {
    "deletable": false,
    "editable": false
   },
   "outputs": [
    {
     "data": {
      "text/html": [
       "<p><strong><pre style='display: inline;'>q2c</pre></strong> passed! ✨</p>"
      ],
      "text/plain": [
       "q2c results: All test cases passed!"
      ]
     },
     "execution_count": 43,
     "metadata": {},
     "output_type": "execute_result"
    }
   ],
   "source": [
    "grader.check(\"q2c\")"
   ]
  },
  {
   "cell_type": "markdown",
   "metadata": {
    "deletable": false,
    "editable": false
   },
   "source": [
    "<br/><br/>\n",
    "\n",
    "---\n",
    "\n",
    "## Question 2d\n",
    "\n",
    "Given your findings from inspecting the query plans in this Question, as well as your understanding of views and materialized views from lectures, discuss the takeaways of using views and materialized views.\n",
    "\n",
    "### Question 2di\n",
    "\n",
    "Assign the variable `q2di` to a list of all of the below statements that are true.\n",
    "\n",
    "A. Views will reduce the execution time and the cost of a query.<br/>\n",
    "B. Views will reduce the execution time of a query, but not the cost.<br/>\n",
    "C. Views will reduce the cost of a query, but not the execution time.<br/>\n",
    "D. Materialized views reduce the execution time and the cost of a query.<br/>\n",
    "E. Materialized views reduce the execution time, but not cost of a query<br/>\n",
    "F. Materialized views reduce the cost of a query, but not the execution time.<br/>\n",
    "G. Materialized views will result in the same query plan as a query using views.<br/>\n",
    "H. Materialized views and views take the same time to create.<br/>\n",
    "I. Materialized views take less time to create than a view.<br/>\n",
    "J. Materialized views take more time to create than a view.<br/>\n",
    "    \n",
    "*Note:* Your answer should look like `q2di = ['A', 'B']`"
   ]
  },
  {
   "cell_type": "code",
   "execution_count": 44,
   "metadata": {
    "tags": []
   },
   "outputs": [],
   "source": [
    "q2di = ['D','J']"
   ]
  },
  {
   "cell_type": "code",
   "execution_count": 45,
   "metadata": {
    "deletable": false,
    "editable": false
   },
   "outputs": [
    {
     "data": {
      "text/html": [
       "<p><strong><pre style='display: inline;'>q2di</pre></strong> passed! 💯</p>"
      ],
      "text/plain": [
       "q2di results: All test cases passed!"
      ]
     },
     "execution_count": 45,
     "metadata": {},
     "output_type": "execute_result"
    }
   ],
   "source": [
    "grader.check(\"q2di\")"
   ]
  },
  {
   "cell_type": "markdown",
   "metadata": {
    "deletable": false,
    "editable": false
   },
   "source": [
    "<!-- BEGIN QUESTION -->\n",
    "\n",
    "#### Question 2dii:\n",
    "\n",
    "Explain your answer to the previous part (Question 2di) based on your knowledge from lectures and details from the query plans. Your explanation should also include why you didn't choose certain options. Please answer in maximum 5 sentences."
   ]
  },
  {
   "cell_type": "markdown",
   "metadata": {},
   "source": [
    "I disregarded options A, B, and C since utilizing views yielded comparable outcomes to not using them and notably underperformed in contrast to materialized views. The underpinning reason is that materialized views precompute and store query results for swift retrieval, while conventional views re-execute the query each time. My selection of D, in preference to E or F, was driven by the significantly expedited execution time and reduced cost achieved with a materialized view, which as previously outlined, stores the query result for rapid access. Option G was omitted from consideration because, unlike materialized views which have results pre-stored, regular views necessitate a fresh execution of the query each time. Conclusively, I opted for J, not H and I, since materialized views demand a longer initial creation period compared to views."
   ]
  },
  {
   "cell_type": "markdown",
   "metadata": {
    "deletable": false,
    "editable": false
   },
   "source": [
    "<!-- END QUESTION -->\n",
    "\n",
    "<br><br>\n",
    "\n",
    "<hr style=\"border: 5px solid #003262;\" />\n",
    "<hr style=\"border: 1px solid #fdb515;\" />\n",
    "\n",
    "# Question 3: Predicate Pushdown\n",
    "In this question, we will explore the impact of predicates (i.e., filters) on a query's execution, particularly inspecting when the optimizer applies predicates.\n",
    "\n",
    "* Question 3a: Compute a query with all rows.\n",
    "* Question 3b: Add a simple filter.\n",
    "* Question 3c: Analyze the tradeoffs to cost.\n",
    "* Question 3d: Analyze the tradeoffs to execution time."
   ]
  },
  {
   "cell_type": "markdown",
   "metadata": {
    "deletable": false,
    "editable": false
   },
   "source": [
    "\n",
    "## Question 3a:\n",
    "Recall the `inducted_hof_ca` view created in `Question 2`. Inspect the query plan for a query that that gets all rows from the view, and record the execution time and cost using an `EXPLAIN ANALYZE` command."
   ]
  },
  {
   "cell_type": "code",
   "execution_count": 46,
   "metadata": {
    "tags": []
   },
   "outputs": [
    {
     "data": {
      "text/html": [
       "<span style=\"None\">Running query in &#x27;postgresql://jovyan@127.0.0.1:5432/baseball&#x27;</span>"
      ],
      "text/plain": [
       "Running query in 'postgresql://jovyan@127.0.0.1:5432/baseball'"
      ]
     },
     "metadata": {},
     "output_type": "display_data"
    },
    {
     "name": "stdout",
     "output_type": "stream",
     "text": [
      "                                                                  QUERY PLAN                                                                  \n",
      "----------------------------------------------------------------------------------------------------------------------------------------------\n",
      " Nested Loop  (cost=386.71..527.38 rows=33 width=33) (actual time=8.492..9.277 rows=23 loops=1)\n",
      "   Join Filter: ((hof.playerid)::text = (p.playerid)::text)\n",
      "   ->  Hash Join  (cost=386.42..485.79 rows=96 width=30) (actual time=8.444..9.014 rows=23 loops=1)\n",
      "         Hash Cond: ((hof.playerid)::text = (cp.playerid)::text)\n",
      "         ->  Seq Scan on halloffame hof  (cost=0.00..96.39 rows=323 width=13) (actual time=0.021..0.939 rows=323 loops=1)\n",
      "               Filter: ((inducted)::text = 'Y'::text)\n",
      "               Rows Removed by Filter: 3868\n",
      "         ->  Hash  (cost=361.99..361.99 rows=1955 width=17) (actual time=7.996..7.998 rows=2948 loops=1)\n",
      "               Buckets: 4096 (originally 2048)  Batches: 1 (originally 1)  Memory Usage: 178kB\n",
      "               ->  Hash Join  (cost=29.79..361.99 rows=1955 width=17) (actual time=0.352..6.969 rows=2948 loops=1)\n",
      "                     Hash Cond: ((cp.schoolid)::text = (s.schoolid)::text)\n",
      "                     ->  Seq Scan on collegeplaying cp  (cost=0.00..286.50 rows=17350 width=17) (actual time=0.019..2.817 rows=17350 loops=1)\n",
      "                     ->  Hash  (cost=28.09..28.09 rows=136 width=8) (actual time=0.284..0.285 rows=136 loops=1)\n",
      "                           Buckets: 1024  Batches: 1  Memory Usage: 14kB\n",
      "                           ->  Seq Scan on schools s  (cost=0.00..28.09 rows=136 width=8) (actual time=0.017..0.240 rows=136 loops=1)\n",
      "                                 Filter: ((schoolstate)::text = 'CA'::text)\n",
      "                                 Rows Removed by Filter: 1071\n",
      "   ->  Index Scan using master_pkey on people p  (cost=0.29..0.42 rows=1 width=21) (actual time=0.010..0.010 rows=1 loops=23)\n",
      "         Index Cond: ((playerid)::text = (cp.playerid)::text)\n",
      " Planning Time: 4.254 ms\n",
      " Execution Time: 9.488 ms\n",
      "(21 rows)\n",
      "\n"
     ]
    }
   ],
   "source": [
    "%sql \n",
    "query_view_str = \"SELECT * FROM inducted_hof_ca\"\n",
    "!psql -h localhost -d baseball -c \"explain analyze $query_view_str\"\n"
   ]
  },
  {
   "cell_type": "code",
   "execution_count": 47,
   "metadata": {
    "tags": []
   },
   "outputs": [],
   "source": [
    "query_view_cost = 527.38\n",
    "query_view_timing = 4.929"
   ]
  },
  {
   "cell_type": "code",
   "execution_count": 48,
   "metadata": {
    "deletable": false,
    "editable": false
   },
   "outputs": [
    {
     "data": {
      "text/html": [
       "<p><strong><pre style='display: inline;'>q3a</pre></strong> passed! 🌈</p>"
      ],
      "text/plain": [
       "q3a results: All test cases passed!"
      ]
     },
     "execution_count": 48,
     "metadata": {},
     "output_type": "execute_result"
    }
   ],
   "source": [
    "grader.check(\"q3a\")"
   ]
  },
  {
   "cell_type": "markdown",
   "metadata": {
    "deletable": false,
    "editable": false
   },
   "source": [
    "<br><br>\n",
    "\n",
    "---\n",
    "\n",
    "## Question 3b:\n",
    "Now, add a filter to only return rows from `inducted_hof_ca` where the year is later than 2010. Inspect the query plan and record the execution time and cost."
   ]
  },
  {
   "cell_type": "code",
   "execution_count": 49,
   "metadata": {
    "tags": []
   },
   "outputs": [
    {
     "data": {
      "text/html": [
       "<span style=\"None\">Running query in &#x27;postgresql://jovyan@127.0.0.1:5432/baseball&#x27;</span>"
      ],
      "text/plain": [
       "Running query in 'postgresql://jovyan@127.0.0.1:5432/baseball'"
      ]
     },
     "metadata": {},
     "output_type": "display_data"
    },
    {
     "data": {
      "text/html": [
       "<span style=\"color: green\">8 rows affected.</span>"
      ],
      "text/plain": [
       "8 rows affected."
      ]
     },
     "metadata": {},
     "output_type": "display_data"
    },
    {
     "data": {
      "text/html": [
       "<table>\n",
       "    <thead>\n",
       "        <tr>\n",
       "            <th>namefirst</th>\n",
       "            <th>namelast</th>\n",
       "            <th>playerid</th>\n",
       "            <th>schoolid</th>\n",
       "            <th>yearid</th>\n",
       "        </tr>\n",
       "    </thead>\n",
       "    <tbody>\n",
       "        <tr>\n",
       "            <td>Pat</td>\n",
       "            <td>Gillick</td>\n",
       "            <td>gillipa99</td>\n",
       "            <td>calavco</td>\n",
       "            <td>2011</td>\n",
       "        </tr>\n",
       "        <tr>\n",
       "            <td>Pat</td>\n",
       "            <td>Gillick</td>\n",
       "            <td>gillipa99</td>\n",
       "            <td>usc</td>\n",
       "            <td>2011</td>\n",
       "        </tr>\n",
       "        <tr>\n",
       "            <td>Pat</td>\n",
       "            <td>Gillick</td>\n",
       "            <td>gillipa99</td>\n",
       "            <td>usc</td>\n",
       "            <td>2011</td>\n",
       "        </tr>\n",
       "        <tr>\n",
       "            <td>Randy</td>\n",
       "            <td>Johnson</td>\n",
       "            <td>johnsra05</td>\n",
       "            <td>usc</td>\n",
       "            <td>2015</td>\n",
       "        </tr>\n",
       "        <tr>\n",
       "            <td>Randy</td>\n",
       "            <td>Johnson</td>\n",
       "            <td>johnsra05</td>\n",
       "            <td>usc</td>\n",
       "            <td>2015</td>\n",
       "        </tr>\n",
       "        <tr>\n",
       "            <td>Randy</td>\n",
       "            <td>Johnson</td>\n",
       "            <td>johnsra05</td>\n",
       "            <td>usc</td>\n",
       "            <td>2015</td>\n",
       "        </tr>\n",
       "        <tr>\n",
       "            <td>Trevor</td>\n",
       "            <td>Hoffman</td>\n",
       "            <td>hoffmtr01</td>\n",
       "            <td>cacypre</td>\n",
       "            <td>2018</td>\n",
       "        </tr>\n",
       "        <tr>\n",
       "            <td>Trevor</td>\n",
       "            <td>Hoffman</td>\n",
       "            <td>hoffmtr01</td>\n",
       "            <td>cacypre</td>\n",
       "            <td>2018</td>\n",
       "        </tr>\n",
       "    </tbody>\n",
       "</table>"
      ],
      "text/plain": [
       "+-----------+----------+-----------+----------+--------+\n",
       "| namefirst | namelast |  playerid | schoolid | yearid |\n",
       "+-----------+----------+-----------+----------+--------+\n",
       "|    Pat    | Gillick  | gillipa99 | calavco  |  2011  |\n",
       "|    Pat    | Gillick  | gillipa99 |   usc    |  2011  |\n",
       "|    Pat    | Gillick  | gillipa99 |   usc    |  2011  |\n",
       "|   Randy   | Johnson  | johnsra05 |   usc    |  2015  |\n",
       "|   Randy   | Johnson  | johnsra05 |   usc    |  2015  |\n",
       "|   Randy   | Johnson  | johnsra05 |   usc    |  2015  |\n",
       "|   Trevor  | Hoffman  | hoffmtr01 | cacypre  |  2018  |\n",
       "|   Trevor  | Hoffman  | hoffmtr01 | cacypre  |  2018  |\n",
       "+-----------+----------+-----------+----------+--------+"
      ]
     },
     "execution_count": 49,
     "metadata": {},
     "output_type": "execute_result"
    }
   ],
   "source": [
    "%%sql\n",
    "SELECT * \n",
    "FROM inducted_hof_ca\n",
    "WHERE yearid > 2010"
   ]
  },
  {
   "cell_type": "code",
   "execution_count": 50,
   "metadata": {},
   "outputs": [
    {
     "name": "stdout",
     "output_type": "stream",
     "text": [
      "                                                                           QUERY PLAN                                                                           \n",
      "----------------------------------------------------------------------------------------------------------------------------------------------------------------\n",
      " Nested Loop  (cost=0.85..209.84 rows=2 width=33) (actual time=0.864..1.338 rows=8 loops=1)\n",
      "   Join Filter: ((hof.playerid)::text = (p.playerid)::text)\n",
      "   ->  Nested Loop  (cost=0.56..207.24 rows=6 width=30) (actual time=0.840..1.259 rows=8 loops=1)\n",
      "         ->  Nested Loop  (cost=0.29..190.63 rows=55 width=30) (actual time=0.824..1.125 rows=27 loops=1)\n",
      "               ->  Seq Scan on halloffame hof  (cost=0.00..106.86 rows=21 width=13) (actual time=0.731..0.797 rows=31 loops=1)\n",
      "                     Filter: ((yearid > 2010) AND ((inducted)::text = 'Y'::text))\n",
      "                     Rows Removed by Filter: 4160\n",
      "               ->  Index Only Scan using collegeplaying_pkey on collegeplaying cp  (cost=0.29..3.96 rows=3 width=17) (actual time=0.009..0.010 rows=1 loops=31)\n",
      "                     Index Cond: (playerid = (hof.playerid)::text)\n",
      "                     Heap Fetches: 0\n",
      "         ->  Index Scan using schools_pkey on schools s  (cost=0.28..0.30 rows=1 width=8) (actual time=0.004..0.004 rows=0 loops=27)\n",
      "               Index Cond: ((schoolid)::text = (cp.schoolid)::text)\n",
      "               Filter: ((schoolstate)::text = 'CA'::text)\n",
      "               Rows Removed by Filter: 1\n",
      "   ->  Index Scan using master_pkey on people p  (cost=0.29..0.42 rows=1 width=21) (actual time=0.009..0.009 rows=1 loops=8)\n",
      "         Index Cond: ((playerid)::text = (cp.playerid)::text)\n",
      " Planning Time: 3.446 ms\n",
      " Execution Time: 1.484 ms\n",
      "(18 rows)\n",
      "\n"
     ]
    }
   ],
   "source": [
    "query_view_with_filter_str = \"SELECT * FROM inducted_hof_ca WHERE yearid > 2010\"\n",
    "!psql -h localhost -d baseball -c \"explain analyze $query_view_with_filter_str\""
   ]
  },
  {
   "cell_type": "code",
   "execution_count": 51,
   "metadata": {
    "tags": []
   },
   "outputs": [],
   "source": [
    "query_view_with_filter_cost = 209.84\n",
    "query_view_with_filter_timing = 1.426"
   ]
  },
  {
   "cell_type": "code",
   "execution_count": 52,
   "metadata": {
    "deletable": false,
    "editable": false
   },
   "outputs": [
    {
     "data": {
      "text/html": [
       "<p><strong><pre style='display: inline;'>q3b</pre></strong> passed! 🌟</p>"
      ],
      "text/plain": [
       "q3b results: All test cases passed!"
      ]
     },
     "execution_count": 52,
     "metadata": {},
     "output_type": "execute_result"
    }
   ],
   "source": [
    "grader.check(\"q3b\")"
   ]
  },
  {
   "cell_type": "markdown",
   "metadata": {
    "deletable": false,
    "editable": false
   },
   "source": [
    "<!-- BEGIN QUESTION -->\n",
    "\n",
    "## Question 3c:\n",
    "Given your findings from inspecting the query plans of queries from Questions 3a and 3b, fill in the blank and **justify your answer**. Explain your answer based on your knowledge from lectures, and details from the query plans (your explanation should include why you didn't choose other options). Your response should be no longer than 3 sentences.\n",
    "\n",
    "**Note:** Your answer should be formatted as follows: `A because ...`\n",
    "\n",
    "**Adding a filter ___ the cost.**\n",
    "<br>\n",
    "A. increased\n",
    "<br>\n",
    "B. decreased\n",
    "<br>\n",
    "C. did not change"
   ]
  },
  {
   "cell_type": "markdown",
   "metadata": {},
   "source": [
    "B. decreased because filters commonly reduce the number of rows processed, thereby typically lowering overall query costs by minimizing the data handled in subsequent operations."
   ]
  },
  {
   "cell_type": "markdown",
   "metadata": {
    "deletable": false,
    "editable": false
   },
   "source": [
    "<!-- END QUESTION -->\n",
    "\n",
    "<!-- BEGIN QUESTION -->\n",
    "\n",
    "<br><br>\n",
    "\n",
    "---\n",
    "\n",
    "## Question 3d:\n",
    "Given your findings from inspecting the query plans of queries from Questions 3a and 3b, fill in the blank and **justify your answer**. Explain your answer based on your knowledge from lectures, and details from the query plans (your explanation should include why you didn't choose other options). Your response should be no longer than 3 sentences.\n",
    "\n",
    "**Note:** Your answer should be formatted as follows: `A because ...`\n",
    "\n",
    "**Adding a filter ___ the execution time.**\n",
    "<br>\n",
    "A. increased\n",
    "<br>\n",
    "B. decreased\n",
    "<br>\n",
    "C. did not change"
   ]
  },
  {
   "cell_type": "markdown",
   "metadata": {},
   "source": [
    "B. decreased because adding a filter usually minimizes the dataset being processed, typically leading to less computation and, consequently, reduced execution time."
   ]
  },
  {
   "cell_type": "markdown",
   "metadata": {
    "deletable": false,
    "editable": false
   },
   "source": [
    "<!-- END QUESTION -->\n",
    "\n",
    "<br><br>\n",
    "\n",
    "<hr style=\"border: 5px solid #003262;\" />\n",
    "<hr style=\"border: 1px solid #fdb515;\" />\n",
    "\n",
    "# Question 4: Join Approaches\n",
    "\n",
    "In this question, we'll explore different join approaches (Nested Loop Join, Merge Join, Hash Join) and discuss how the query optimizer picks the best approach."
   ]
  },
  {
   "cell_type": "markdown",
   "metadata": {
    "deletable": false,
    "editable": false
   },
   "source": [
    "<br/><br/>\n",
    "\n",
    "---\n",
    "\n",
    "## Question 4a\n",
    "Perform an inner join on the `people` and `collegeplaying` tables on the `playerid` column. Project all columns."
   ]
  },
  {
   "cell_type": "code",
   "execution_count": 53,
   "metadata": {
    "tags": []
   },
   "outputs": [
    {
     "data": {
      "text/html": [
       "<span style=\"None\">Running query in &#x27;postgresql://jovyan@127.0.0.1:5432/baseball&#x27;</span>"
      ],
      "text/plain": [
       "Running query in 'postgresql://jovyan@127.0.0.1:5432/baseball'"
      ]
     },
     "metadata": {},
     "output_type": "display_data"
    },
    {
     "data": {
      "text/html": [
       "<span style=\"color: green\">17350 rows affected.</span>"
      ],
      "text/plain": [
       "17350 rows affected."
      ]
     },
     "metadata": {},
     "output_type": "display_data"
    }
   ],
   "source": [
    "%%sql --save query_4a result_4a <<\n",
    "SELECT *\n",
    "FROM people AS p\n",
    "INNER JOIN collegeplaying AS cp ON cp.playerid = p.playerid"
   ]
  },
  {
   "cell_type": "code",
   "execution_count": 54,
   "metadata": {
    "tags": []
   },
   "outputs": [
    {
     "data": {
      "text/html": [
       "<div>\n",
       "<style scoped>\n",
       "    .dataframe tbody tr th:only-of-type {\n",
       "        vertical-align: middle;\n",
       "    }\n",
       "\n",
       "    .dataframe tbody tr th {\n",
       "        vertical-align: top;\n",
       "    }\n",
       "\n",
       "    .dataframe thead th {\n",
       "        text-align: right;\n",
       "    }\n",
       "</style>\n",
       "<table border=\"1\" class=\"dataframe\">\n",
       "  <thead>\n",
       "    <tr style=\"text-align: right;\">\n",
       "      <th></th>\n",
       "      <th>playerid</th>\n",
       "      <th>birthyear</th>\n",
       "      <th>birthmonth</th>\n",
       "      <th>birthday</th>\n",
       "      <th>birthcountry</th>\n",
       "      <th>birthstate</th>\n",
       "      <th>birthcity</th>\n",
       "      <th>deathyear</th>\n",
       "      <th>deathmonth</th>\n",
       "      <th>deathday</th>\n",
       "      <th>...</th>\n",
       "      <th>height</th>\n",
       "      <th>bats</th>\n",
       "      <th>throws</th>\n",
       "      <th>debut</th>\n",
       "      <th>finalgame</th>\n",
       "      <th>retroid</th>\n",
       "      <th>bbrefid</th>\n",
       "      <th>playerid</th>\n",
       "      <th>schoolid</th>\n",
       "      <th>yearid</th>\n",
       "    </tr>\n",
       "  </thead>\n",
       "  <tbody>\n",
       "    <tr>\n",
       "      <th>0</th>\n",
       "      <td>aardsda01</td>\n",
       "      <td>1981</td>\n",
       "      <td>12.0</td>\n",
       "      <td>27.0</td>\n",
       "      <td>USA</td>\n",
       "      <td>CO</td>\n",
       "      <td>Denver</td>\n",
       "      <td>NaN</td>\n",
       "      <td>NaN</td>\n",
       "      <td>NaN</td>\n",
       "      <td>...</td>\n",
       "      <td>75.0</td>\n",
       "      <td>R</td>\n",
       "      <td>R</td>\n",
       "      <td>2004-04-06</td>\n",
       "      <td>2015-08-23</td>\n",
       "      <td>aardd001</td>\n",
       "      <td>aardsda01</td>\n",
       "      <td>aardsda01</td>\n",
       "      <td>pennst</td>\n",
       "      <td>2001</td>\n",
       "    </tr>\n",
       "    <tr>\n",
       "      <th>1</th>\n",
       "      <td>aardsda01</td>\n",
       "      <td>1981</td>\n",
       "      <td>12.0</td>\n",
       "      <td>27.0</td>\n",
       "      <td>USA</td>\n",
       "      <td>CO</td>\n",
       "      <td>Denver</td>\n",
       "      <td>NaN</td>\n",
       "      <td>NaN</td>\n",
       "      <td>NaN</td>\n",
       "      <td>...</td>\n",
       "      <td>75.0</td>\n",
       "      <td>R</td>\n",
       "      <td>R</td>\n",
       "      <td>2004-04-06</td>\n",
       "      <td>2015-08-23</td>\n",
       "      <td>aardd001</td>\n",
       "      <td>aardsda01</td>\n",
       "      <td>aardsda01</td>\n",
       "      <td>rice</td>\n",
       "      <td>2002</td>\n",
       "    </tr>\n",
       "    <tr>\n",
       "      <th>2</th>\n",
       "      <td>aardsda01</td>\n",
       "      <td>1981</td>\n",
       "      <td>12.0</td>\n",
       "      <td>27.0</td>\n",
       "      <td>USA</td>\n",
       "      <td>CO</td>\n",
       "      <td>Denver</td>\n",
       "      <td>NaN</td>\n",
       "      <td>NaN</td>\n",
       "      <td>NaN</td>\n",
       "      <td>...</td>\n",
       "      <td>75.0</td>\n",
       "      <td>R</td>\n",
       "      <td>R</td>\n",
       "      <td>2004-04-06</td>\n",
       "      <td>2015-08-23</td>\n",
       "      <td>aardd001</td>\n",
       "      <td>aardsda01</td>\n",
       "      <td>aardsda01</td>\n",
       "      <td>rice</td>\n",
       "      <td>2003</td>\n",
       "    </tr>\n",
       "  </tbody>\n",
       "</table>\n",
       "<p>3 rows × 27 columns</p>\n",
       "</div>"
      ],
      "text/plain": [
       "    playerid  birthyear  birthmonth  birthday birthcountry birthstate  \\\n",
       "0  aardsda01       1981        12.0      27.0          USA         CO   \n",
       "1  aardsda01       1981        12.0      27.0          USA         CO   \n",
       "2  aardsda01       1981        12.0      27.0          USA         CO   \n",
       "\n",
       "  birthcity  deathyear  deathmonth  deathday  ... height bats throws  \\\n",
       "0    Denver        NaN         NaN       NaN  ...   75.0    R      R   \n",
       "1    Denver        NaN         NaN       NaN  ...   75.0    R      R   \n",
       "2    Denver        NaN         NaN       NaN  ...   75.0    R      R   \n",
       "\n",
       "        debut   finalgame   retroid    bbrefid   playerid schoolid yearid  \n",
       "0  2004-04-06  2015-08-23  aardd001  aardsda01  aardsda01   pennst   2001  \n",
       "1  2004-04-06  2015-08-23  aardd001  aardsda01  aardsda01     rice   2002  \n",
       "2  2004-04-06  2015-08-23  aardd001  aardsda01  aardsda01     rice   2003  \n",
       "\n",
       "[3 rows x 27 columns]"
      ]
     },
     "metadata": {},
     "output_type": "display_data"
    },
    {
     "data": {
      "text/html": [
       "<span style=\"None\">Running query in &#x27;postgresql://jovyan@127.0.0.1:5432/baseball&#x27;</span>"
      ],
      "text/plain": [
       "Running query in 'postgresql://jovyan@127.0.0.1:5432/baseball'"
      ]
     },
     "metadata": {},
     "output_type": "display_data"
    },
    {
     "data": {
      "text/html": [
       "<span style=\"color: green\">8 rows affected.</span>"
      ],
      "text/plain": [
       "8 rows affected."
      ]
     },
     "metadata": {},
     "output_type": "display_data"
    },
    {
     "data": {
      "text/html": [
       "<table>\n",
       "    <thead>\n",
       "        <tr>\n",
       "            <th>QUERY PLAN</th>\n",
       "        </tr>\n",
       "    </thead>\n",
       "    <tbody>\n",
       "        <tr>\n",
       "            <td>Hash Join  (cost=861.83..1193.88 rows=17350 width=167) (actual time=7.469..15.913 rows=17350 loops=1)</td>\n",
       "        </tr>\n",
       "        <tr>\n",
       "            <td>&nbsp;&nbsp;Hash Cond: ((cp.playerid)::text = (p.playerid)::text)</td>\n",
       "        </tr>\n",
       "        <tr>\n",
       "            <td>&nbsp;&nbsp;->  Seq Scan on collegeplaying cp  (cost=0.00..286.50 rows=17350 width=21) (actual time=0.012..1.059 rows=17350 loops=1)</td>\n",
       "        </tr>\n",
       "        <tr>\n",
       "            <td>&nbsp;&nbsp;->  Hash  (cost=619.70..619.70 rows=19370 width=146) (actual time=6.988..6.991 rows=19370 loops=1)</td>\n",
       "        </tr>\n",
       "        <tr>\n",
       "            <td>&nbsp;&nbsp;&nbsp;&nbsp;&nbsp;&nbsp;&nbsp;&nbsp;Buckets: 32768  Batches: 1  Memory Usage: 3633kB</td>\n",
       "        </tr>\n",
       "        <tr>\n",
       "            <td>&nbsp;&nbsp;&nbsp;&nbsp;&nbsp;&nbsp;&nbsp;&nbsp;->  Seq Scan on people p  (cost=0.00..619.70 rows=19370 width=146) (actual time=0.013..1.632 rows=19370 loops=1)</td>\n",
       "        </tr>\n",
       "        <tr>\n",
       "            <td>Planning Time: 0.354 ms</td>\n",
       "        </tr>\n",
       "        <tr>\n",
       "            <td>Execution Time: 16.762 ms</td>\n",
       "        </tr>\n",
       "    </tbody>\n",
       "</table>"
      ],
      "text/plain": [
       "+----------------------------------------------------------------------------------------------------------------------------+\n",
       "|                                                         QUERY PLAN                                                         |\n",
       "+----------------------------------------------------------------------------------------------------------------------------+\n",
       "|           Hash Join  (cost=861.83..1193.88 rows=17350 width=167) (actual time=7.469..15.913 rows=17350 loops=1)            |\n",
       "|                                    Hash Cond: ((cp.playerid)::text = (p.playerid)::text)                                   |\n",
       "|   ->  Seq Scan on collegeplaying cp  (cost=0.00..286.50 rows=17350 width=21) (actual time=0.012..1.059 rows=17350 loops=1) |\n",
       "|              ->  Hash  (cost=619.70..619.70 rows=19370 width=146) (actual time=6.988..6.991 rows=19370 loops=1)            |\n",
       "|                                          Buckets: 32768  Batches: 1  Memory Usage: 3633kB                                  |\n",
       "|          ->  Seq Scan on people p  (cost=0.00..619.70 rows=19370 width=146) (actual time=0.013..1.632 rows=19370 loops=1)  |\n",
       "|                                                  Planning Time: 0.354 ms                                                   |\n",
       "|                                                 Execution Time: 16.762 ms                                                  |\n",
       "+----------------------------------------------------------------------------------------------------------------------------+"
      ]
     },
     "execution_count": 54,
     "metadata": {},
     "output_type": "execute_result"
    }
   ],
   "source": [
    "# Do not delete/edit this cell!\n",
    "# You must run this cell before running the autograder.\n",
    "query_4a = %sqlcmd snippets query_4a\n",
    "grading_util.save_results(\"result_4a\", query_4a, result_4a);\n",
    "\n",
    "display(result_4a.DataFrame().head(3))\n",
    "%sql EXPLAIN ANALYZE {{query_4a}} "
   ]
  },
  {
   "cell_type": "markdown",
   "metadata": {
    "deletable": false,
    "editable": false
   },
   "source": [
    "Run the cell above to inspect the query plan for your command.\n",
    "\n",
    "**Which join approach did the query optimizer choose?** \n",
    "\n",
    "A. Nested Loop Join<br/>\n",
    "B. Merge Join<br/>\n",
    "C. Hash Join<br/>\n",
    "D. None of the Above\n",
    "\n",
    "Assign the variable `q4a` to the correct letter choice above, e.g., `q4a = 'A'`."
   ]
  },
  {
   "cell_type": "code",
   "execution_count": 55,
   "metadata": {
    "tags": []
   },
   "outputs": [],
   "source": [
    "q4a = 'C'"
   ]
  },
  {
   "cell_type": "code",
   "execution_count": 56,
   "metadata": {
    "deletable": false,
    "editable": false
   },
   "outputs": [
    {
     "data": {
      "text/html": [
       "<p><strong><pre style='display: inline;'>q4a</pre></strong> passed! ✨</p>"
      ],
      "text/plain": [
       "q4a results: All test cases passed!"
      ]
     },
     "execution_count": 56,
     "metadata": {},
     "output_type": "execute_result"
    }
   ],
   "source": [
    "grader.check(\"q4a\")"
   ]
  },
  {
   "cell_type": "markdown",
   "metadata": {
    "deletable": false,
    "editable": false
   },
   "source": [
    "<br><br>\n",
    "\n",
    "---\n",
    "\n",
    "## Question 4b\n",
    "\n",
    "Similar to Question 4a, perform an inner join on the `people` and `collegeplaying` tables on the `playerid` column. Project all columns.\n",
    "\n",
    "In addition, **sort your output by `playerid`.**"
   ]
  },
  {
   "cell_type": "code",
   "execution_count": 57,
   "metadata": {
    "tags": []
   },
   "outputs": [
    {
     "data": {
      "text/html": [
       "<span style=\"None\">Running query in &#x27;postgresql://jovyan@127.0.0.1:5432/baseball&#x27;</span>"
      ],
      "text/plain": [
       "Running query in 'postgresql://jovyan@127.0.0.1:5432/baseball'"
      ]
     },
     "metadata": {},
     "output_type": "display_data"
    },
    {
     "data": {
      "text/html": [
       "<span style=\"color: green\">17350 rows affected.</span>"
      ],
      "text/plain": [
       "17350 rows affected."
      ]
     },
     "metadata": {},
     "output_type": "display_data"
    }
   ],
   "source": [
    "%%sql --save query_4b result_4b <<\n",
    "SELECT *\n",
    "FROM people\n",
    "INNER JOIN collegeplaying\n",
    "ON people.playerid = collegeplaying.playerid\n",
    "ORDER BY people.playerid"
   ]
  },
  {
   "cell_type": "code",
   "execution_count": 58,
   "metadata": {
    "tags": []
   },
   "outputs": [
    {
     "data": {
      "text/html": [
       "<div>\n",
       "<style scoped>\n",
       "    .dataframe tbody tr th:only-of-type {\n",
       "        vertical-align: middle;\n",
       "    }\n",
       "\n",
       "    .dataframe tbody tr th {\n",
       "        vertical-align: top;\n",
       "    }\n",
       "\n",
       "    .dataframe thead th {\n",
       "        text-align: right;\n",
       "    }\n",
       "</style>\n",
       "<table border=\"1\" class=\"dataframe\">\n",
       "  <thead>\n",
       "    <tr style=\"text-align: right;\">\n",
       "      <th></th>\n",
       "      <th>playerid</th>\n",
       "      <th>birthyear</th>\n",
       "      <th>birthmonth</th>\n",
       "      <th>birthday</th>\n",
       "      <th>birthcountry</th>\n",
       "      <th>birthstate</th>\n",
       "      <th>birthcity</th>\n",
       "      <th>deathyear</th>\n",
       "      <th>deathmonth</th>\n",
       "      <th>deathday</th>\n",
       "      <th>...</th>\n",
       "      <th>height</th>\n",
       "      <th>bats</th>\n",
       "      <th>throws</th>\n",
       "      <th>debut</th>\n",
       "      <th>finalgame</th>\n",
       "      <th>retroid</th>\n",
       "      <th>bbrefid</th>\n",
       "      <th>playerid</th>\n",
       "      <th>schoolid</th>\n",
       "      <th>yearid</th>\n",
       "    </tr>\n",
       "  </thead>\n",
       "  <tbody>\n",
       "    <tr>\n",
       "      <th>0</th>\n",
       "      <td>aardsda01</td>\n",
       "      <td>1981</td>\n",
       "      <td>12.0</td>\n",
       "      <td>27.0</td>\n",
       "      <td>USA</td>\n",
       "      <td>CO</td>\n",
       "      <td>Denver</td>\n",
       "      <td>NaN</td>\n",
       "      <td>NaN</td>\n",
       "      <td>NaN</td>\n",
       "      <td>...</td>\n",
       "      <td>75.0</td>\n",
       "      <td>R</td>\n",
       "      <td>R</td>\n",
       "      <td>2004-04-06</td>\n",
       "      <td>2015-08-23</td>\n",
       "      <td>aardd001</td>\n",
       "      <td>aardsda01</td>\n",
       "      <td>aardsda01</td>\n",
       "      <td>pennst</td>\n",
       "      <td>2001</td>\n",
       "    </tr>\n",
       "    <tr>\n",
       "      <th>1</th>\n",
       "      <td>aardsda01</td>\n",
       "      <td>1981</td>\n",
       "      <td>12.0</td>\n",
       "      <td>27.0</td>\n",
       "      <td>USA</td>\n",
       "      <td>CO</td>\n",
       "      <td>Denver</td>\n",
       "      <td>NaN</td>\n",
       "      <td>NaN</td>\n",
       "      <td>NaN</td>\n",
       "      <td>...</td>\n",
       "      <td>75.0</td>\n",
       "      <td>R</td>\n",
       "      <td>R</td>\n",
       "      <td>2004-04-06</td>\n",
       "      <td>2015-08-23</td>\n",
       "      <td>aardd001</td>\n",
       "      <td>aardsda01</td>\n",
       "      <td>aardsda01</td>\n",
       "      <td>rice</td>\n",
       "      <td>2002</td>\n",
       "    </tr>\n",
       "    <tr>\n",
       "      <th>2</th>\n",
       "      <td>aardsda01</td>\n",
       "      <td>1981</td>\n",
       "      <td>12.0</td>\n",
       "      <td>27.0</td>\n",
       "      <td>USA</td>\n",
       "      <td>CO</td>\n",
       "      <td>Denver</td>\n",
       "      <td>NaN</td>\n",
       "      <td>NaN</td>\n",
       "      <td>NaN</td>\n",
       "      <td>...</td>\n",
       "      <td>75.0</td>\n",
       "      <td>R</td>\n",
       "      <td>R</td>\n",
       "      <td>2004-04-06</td>\n",
       "      <td>2015-08-23</td>\n",
       "      <td>aardd001</td>\n",
       "      <td>aardsda01</td>\n",
       "      <td>aardsda01</td>\n",
       "      <td>rice</td>\n",
       "      <td>2003</td>\n",
       "    </tr>\n",
       "  </tbody>\n",
       "</table>\n",
       "<p>3 rows × 27 columns</p>\n",
       "</div>"
      ],
      "text/plain": [
       "    playerid  birthyear  birthmonth  birthday birthcountry birthstate  \\\n",
       "0  aardsda01       1981        12.0      27.0          USA         CO   \n",
       "1  aardsda01       1981        12.0      27.0          USA         CO   \n",
       "2  aardsda01       1981        12.0      27.0          USA         CO   \n",
       "\n",
       "  birthcity  deathyear  deathmonth  deathday  ... height bats throws  \\\n",
       "0    Denver        NaN         NaN       NaN  ...   75.0    R      R   \n",
       "1    Denver        NaN         NaN       NaN  ...   75.0    R      R   \n",
       "2    Denver        NaN         NaN       NaN  ...   75.0    R      R   \n",
       "\n",
       "        debut   finalgame   retroid    bbrefid   playerid schoolid yearid  \n",
       "0  2004-04-06  2015-08-23  aardd001  aardsda01  aardsda01   pennst   2001  \n",
       "1  2004-04-06  2015-08-23  aardd001  aardsda01  aardsda01     rice   2002  \n",
       "2  2004-04-06  2015-08-23  aardd001  aardsda01  aardsda01     rice   2003  \n",
       "\n",
       "[3 rows x 27 columns]"
      ]
     },
     "metadata": {},
     "output_type": "display_data"
    },
    {
     "data": {
      "text/html": [
       "<span style=\"None\">Running query in &#x27;postgresql://jovyan@127.0.0.1:5432/baseball&#x27;</span>"
      ],
      "text/plain": [
       "Running query in 'postgresql://jovyan@127.0.0.1:5432/baseball'"
      ]
     },
     "metadata": {},
     "output_type": "display_data"
    },
    {
     "data": {
      "text/html": [
       "<span style=\"color: green\">7 rows affected.</span>"
      ],
      "text/plain": [
       "7 rows affected."
      ]
     },
     "metadata": {},
     "output_type": "display_data"
    },
    {
     "data": {
      "text/html": [
       "<table>\n",
       "    <thead>\n",
       "        <tr>\n",
       "            <th>QUERY PLAN</th>\n",
       "        </tr>\n",
       "    </thead>\n",
       "    <tbody>\n",
       "        <tr>\n",
       "            <td>Merge Join  (cost=0.57..1910.20 rows=17350 width=167) (actual time=0.027..28.488 rows=17350 loops=1)</td>\n",
       "        </tr>\n",
       "        <tr>\n",
       "            <td>&nbsp;&nbsp;Merge Cond: ((people.playerid)::text = (collegeplaying.playerid)::text)</td>\n",
       "        </tr>\n",
       "        <tr>\n",
       "            <td>&nbsp;&nbsp;->  Index Scan using master_pkey on people  (cost=0.29..1024.36 rows=19370 width=146) (actual time=0.011..7.471 rows=19368 loops=1)</td>\n",
       "        </tr>\n",
       "        <tr>\n",
       "            <td>&nbsp;&nbsp;->  Index Only Scan using collegeplaying_pkey on collegeplaying  (cost=0.29..620.54 rows=17350 width=21) (actual time=0.009..3.247 rows=17350 loops=1)</td>\n",
       "        </tr>\n",
       "        <tr>\n",
       "            <td>&nbsp;&nbsp;&nbsp;&nbsp;&nbsp;&nbsp;&nbsp;&nbsp;Heap Fetches: 0</td>\n",
       "        </tr>\n",
       "        <tr>\n",
       "            <td>Planning Time: 0.375 ms</td>\n",
       "        </tr>\n",
       "        <tr>\n",
       "            <td>Execution Time: 29.478 ms</td>\n",
       "        </tr>\n",
       "    </tbody>\n",
       "</table>"
      ],
      "text/plain": [
       "+----------------------------------------------------------------------------------------------------------------------------------------------------------+\n",
       "|                                                                        QUERY PLAN                                                                        |\n",
       "+----------------------------------------------------------------------------------------------------------------------------------------------------------+\n",
       "|                           Merge Join  (cost=0.57..1910.20 rows=17350 width=167) (actual time=0.027..28.488 rows=17350 loops=1)                           |\n",
       "|                                          Merge Cond: ((people.playerid)::text = (collegeplaying.playerid)::text)                                         |\n",
       "|            ->  Index Scan using master_pkey on people  (cost=0.29..1024.36 rows=19370 width=146) (actual time=0.011..7.471 rows=19368 loops=1)           |\n",
       "|   ->  Index Only Scan using collegeplaying_pkey on collegeplaying  (cost=0.29..620.54 rows=17350 width=21) (actual time=0.009..3.247 rows=17350 loops=1) |\n",
       "|                                                                         Heap Fetches: 0                                                                  |\n",
       "|                                                                 Planning Time: 0.375 ms                                                                  |\n",
       "|                                                                Execution Time: 29.478 ms                                                                 |\n",
       "+----------------------------------------------------------------------------------------------------------------------------------------------------------+"
      ]
     },
     "execution_count": 58,
     "metadata": {},
     "output_type": "execute_result"
    }
   ],
   "source": [
    "# Do not delete/edit this cell!\n",
    "# You must run this cell before running the autograder.\n",
    "query_4b = %sqlcmd snippets query_4b\n",
    "grading_util.save_results(\"result_4b\", query_4b, result_4b);\n",
    "\n",
    "display(result_4b.DataFrame().head(3))\n",
    "%sql EXPLAIN ANALYZE {{query_4b}} "
   ]
  },
  {
   "cell_type": "markdown",
   "metadata": {
    "deletable": false,
    "editable": false
   },
   "source": [
    "Run the cell above to inspect the query plan for your command.\n",
    "\n",
    "**Which join approach did the query optimizer choose?** \n",
    "\n",
    "A. Nested Loop Join<br/>\n",
    "B. Merge Join<br/>\n",
    "C. Hash Join<br/>\n",
    "D. None of the Above\n",
    "\n",
    "Assign the variable `q4b` to the correct letter choice above, e.g., `q4b = 'A'`."
   ]
  },
  {
   "cell_type": "code",
   "execution_count": 59,
   "metadata": {
    "tags": []
   },
   "outputs": [],
   "source": [
    "q4b = 'B'"
   ]
  },
  {
   "cell_type": "code",
   "execution_count": 60,
   "metadata": {
    "deletable": false,
    "editable": false
   },
   "outputs": [
    {
     "data": {
      "text/html": [
       "<p><strong><pre style='display: inline;'>q4b</pre></strong> passed! 💯</p>"
      ],
      "text/plain": [
       "q4b results: All test cases passed!"
      ]
     },
     "execution_count": 60,
     "metadata": {},
     "output_type": "execute_result"
    }
   ],
   "source": [
    "grader.check(\"q4b\")"
   ]
  },
  {
   "cell_type": "markdown",
   "metadata": {
    "deletable": false,
    "editable": false
   },
   "source": [
    "<br><br>\n",
    "\n",
    "---\n",
    "## Question 4c\n",
    "Write a query to retrieve all possible player pair combinations. Project all columns, but **limit to 1000 rows** to ensure your query doesn't take an exorbitant amount of time to run.\n",
    "\n",
    "**Hint:** You can do this by performing an inner join of the `people` table on itself with an inequality condition."
   ]
  },
  {
   "cell_type": "code",
   "execution_count": 61,
   "metadata": {
    "tags": []
   },
   "outputs": [
    {
     "data": {
      "text/html": [
       "<span style=\"None\">Running query in &#x27;postgresql://jovyan@127.0.0.1:5432/baseball&#x27;</span>"
      ],
      "text/plain": [
       "Running query in 'postgresql://jovyan@127.0.0.1:5432/baseball'"
      ]
     },
     "metadata": {},
     "output_type": "display_data"
    },
    {
     "data": {
      "text/html": [
       "<span style=\"color: green\">1000 rows affected.</span>"
      ],
      "text/plain": [
       "1000 rows affected."
      ]
     },
     "metadata": {},
     "output_type": "display_data"
    }
   ],
   "source": [
    "%%sql --save query_4c result_4c <<\n",
    "SELECT *\n",
    "FROM people AS pep\n",
    "INNER JOIN people\n",
    "ON pep.playerid != people.playerid\n",
    "LIMIT 1000"
   ]
  },
  {
   "cell_type": "code",
   "execution_count": 62,
   "metadata": {
    "tags": []
   },
   "outputs": [
    {
     "data": {
      "text/html": [
       "<div>\n",
       "<style scoped>\n",
       "    .dataframe tbody tr th:only-of-type {\n",
       "        vertical-align: middle;\n",
       "    }\n",
       "\n",
       "    .dataframe tbody tr th {\n",
       "        vertical-align: top;\n",
       "    }\n",
       "\n",
       "    .dataframe thead th {\n",
       "        text-align: right;\n",
       "    }\n",
       "</style>\n",
       "<table border=\"1\" class=\"dataframe\">\n",
       "  <thead>\n",
       "    <tr style=\"text-align: right;\">\n",
       "      <th></th>\n",
       "      <th>playerid</th>\n",
       "      <th>birthyear</th>\n",
       "      <th>birthmonth</th>\n",
       "      <th>birthday</th>\n",
       "      <th>birthcountry</th>\n",
       "      <th>birthstate</th>\n",
       "      <th>birthcity</th>\n",
       "      <th>deathyear</th>\n",
       "      <th>deathmonth</th>\n",
       "      <th>deathday</th>\n",
       "      <th>...</th>\n",
       "      <th>namelast</th>\n",
       "      <th>namegiven</th>\n",
       "      <th>weight</th>\n",
       "      <th>height</th>\n",
       "      <th>bats</th>\n",
       "      <th>throws</th>\n",
       "      <th>debut</th>\n",
       "      <th>finalgame</th>\n",
       "      <th>retroid</th>\n",
       "      <th>bbrefid</th>\n",
       "    </tr>\n",
       "  </thead>\n",
       "  <tbody>\n",
       "    <tr>\n",
       "      <th>0</th>\n",
       "      <td>aardsda01</td>\n",
       "      <td>1981</td>\n",
       "      <td>12</td>\n",
       "      <td>27</td>\n",
       "      <td>USA</td>\n",
       "      <td>CO</td>\n",
       "      <td>Denver</td>\n",
       "      <td>None</td>\n",
       "      <td>None</td>\n",
       "      <td>None</td>\n",
       "      <td>...</td>\n",
       "      <td>Aaron</td>\n",
       "      <td>Henry Louis</td>\n",
       "      <td>180.0</td>\n",
       "      <td>72.0</td>\n",
       "      <td>R</td>\n",
       "      <td>R</td>\n",
       "      <td>1954-04-13</td>\n",
       "      <td>1976-10-03</td>\n",
       "      <td>aaroh101</td>\n",
       "      <td>aaronha01</td>\n",
       "    </tr>\n",
       "    <tr>\n",
       "      <th>1</th>\n",
       "      <td>aardsda01</td>\n",
       "      <td>1981</td>\n",
       "      <td>12</td>\n",
       "      <td>27</td>\n",
       "      <td>USA</td>\n",
       "      <td>CO</td>\n",
       "      <td>Denver</td>\n",
       "      <td>None</td>\n",
       "      <td>None</td>\n",
       "      <td>None</td>\n",
       "      <td>...</td>\n",
       "      <td>Aaron</td>\n",
       "      <td>Tommie Lee</td>\n",
       "      <td>190.0</td>\n",
       "      <td>75.0</td>\n",
       "      <td>R</td>\n",
       "      <td>R</td>\n",
       "      <td>1962-04-10</td>\n",
       "      <td>1971-09-26</td>\n",
       "      <td>aarot101</td>\n",
       "      <td>aaronto01</td>\n",
       "    </tr>\n",
       "    <tr>\n",
       "      <th>2</th>\n",
       "      <td>aardsda01</td>\n",
       "      <td>1981</td>\n",
       "      <td>12</td>\n",
       "      <td>27</td>\n",
       "      <td>USA</td>\n",
       "      <td>CO</td>\n",
       "      <td>Denver</td>\n",
       "      <td>None</td>\n",
       "      <td>None</td>\n",
       "      <td>None</td>\n",
       "      <td>...</td>\n",
       "      <td>Aase</td>\n",
       "      <td>Donald William</td>\n",
       "      <td>190.0</td>\n",
       "      <td>75.0</td>\n",
       "      <td>R</td>\n",
       "      <td>R</td>\n",
       "      <td>1977-07-26</td>\n",
       "      <td>1990-10-03</td>\n",
       "      <td>aased001</td>\n",
       "      <td>aasedo01</td>\n",
       "    </tr>\n",
       "  </tbody>\n",
       "</table>\n",
       "<p>3 rows × 48 columns</p>\n",
       "</div>"
      ],
      "text/plain": [
       "    playerid  birthyear  birthmonth  birthday birthcountry birthstate  \\\n",
       "0  aardsda01       1981          12        27          USA         CO   \n",
       "1  aardsda01       1981          12        27          USA         CO   \n",
       "2  aardsda01       1981          12        27          USA         CO   \n",
       "\n",
       "  birthcity deathyear deathmonth deathday  ... namelast       namegiven  \\\n",
       "0    Denver      None       None     None  ...    Aaron     Henry Louis   \n",
       "1    Denver      None       None     None  ...    Aaron      Tommie Lee   \n",
       "2    Denver      None       None     None  ...     Aase  Donald William   \n",
       "\n",
       "  weight height bats throws       debut   finalgame   retroid    bbrefid  \n",
       "0  180.0   72.0    R      R  1954-04-13  1976-10-03  aaroh101  aaronha01  \n",
       "1  190.0   75.0    R      R  1962-04-10  1971-09-26  aarot101  aaronto01  \n",
       "2  190.0   75.0    R      R  1977-07-26  1990-10-03  aased001   aasedo01  \n",
       "\n",
       "[3 rows x 48 columns]"
      ]
     },
     "metadata": {},
     "output_type": "display_data"
    },
    {
     "data": {
      "text/html": [
       "<span style=\"None\">Running query in &#x27;postgresql://jovyan@127.0.0.1:5432/baseball&#x27;</span>"
      ],
      "text/plain": [
       "Running query in 'postgresql://jovyan@127.0.0.1:5432/baseball'"
      ]
     },
     "metadata": {},
     "output_type": "display_data"
    },
    {
     "data": {
      "text/html": [
       "<span style=\"color: green\">9 rows affected.</span>"
      ],
      "text/plain": [
       "9 rows affected."
      ]
     },
     "metadata": {},
     "output_type": "display_data"
    },
    {
     "data": {
      "text/html": [
       "<table>\n",
       "    <thead>\n",
       "        <tr>\n",
       "            <th>QUERY PLAN</th>\n",
       "        </tr>\n",
       "    </thead>\n",
       "    <tbody>\n",
       "        <tr>\n",
       "            <td>Limit  (cost=0.00..15.00 rows=1000 width=292) (actual time=0.022..1.149 rows=1000 loops=1)</td>\n",
       "        </tr>\n",
       "        <tr>\n",
       "            <td>&nbsp;&nbsp;->  Nested Loop  (cost=0.00..5629241.33 rows=375177530 width=292) (actual time=0.021..1.054 rows=1000 loops=1)</td>\n",
       "        </tr>\n",
       "        <tr>\n",
       "            <td>&nbsp;&nbsp;&nbsp;&nbsp;&nbsp;&nbsp;&nbsp;&nbsp;Join Filter: ((pep.playerid)::text <> (people.playerid)::text)</td>\n",
       "        </tr>\n",
       "        <tr>\n",
       "            <td>&nbsp;&nbsp;&nbsp;&nbsp;&nbsp;&nbsp;&nbsp;&nbsp;Rows Removed by Join Filter: 1</td>\n",
       "        </tr>\n",
       "        <tr>\n",
       "            <td>&nbsp;&nbsp;&nbsp;&nbsp;&nbsp;&nbsp;&nbsp;&nbsp;->  Seq Scan on people pep  (cost=0.00..619.70 rows=19370 width=146) (actual time=0.010..0.010 rows=1 loops=1)</td>\n",
       "        </tr>\n",
       "        <tr>\n",
       "            <td>&nbsp;&nbsp;&nbsp;&nbsp;&nbsp;&nbsp;&nbsp;&nbsp;->  Materialize  (cost=0.00..716.55 rows=19370 width=146) (actual time=0.004..0.409 rows=1001 loops=1)</td>\n",
       "        </tr>\n",
       "        <tr>\n",
       "            <td>&nbsp;&nbsp;&nbsp;&nbsp;&nbsp;&nbsp;&nbsp;&nbsp;&nbsp;&nbsp;&nbsp;&nbsp;&nbsp;&nbsp;->  Seq Scan on people  (cost=0.00..619.70 rows=19370 width=146) (actual time=0.002..0.122 rows=1001 loops=1)</td>\n",
       "        </tr>\n",
       "        <tr>\n",
       "            <td>Planning Time: 0.185 ms</td>\n",
       "        </tr>\n",
       "        <tr>\n",
       "            <td>Execution Time: 1.267 ms</td>\n",
       "        </tr>\n",
       "    </tbody>\n",
       "</table>"
      ],
      "text/plain": [
       "+-----------------------------------------------------------------------------------------------------------------------------+\n",
       "|                                                          QUERY PLAN                                                         |\n",
       "+-----------------------------------------------------------------------------------------------------------------------------+\n",
       "|                  Limit  (cost=0.00..15.00 rows=1000 width=292) (actual time=0.022..1.149 rows=1000 loops=1)                 |\n",
       "|         ->  Nested Loop  (cost=0.00..5629241.33 rows=375177530 width=292) (actual time=0.021..1.054 rows=1000 loops=1)      |\n",
       "|                                    Join Filter: ((pep.playerid)::text <> (people.playerid)::text)                           |\n",
       "|                                                    Rows Removed by Join Filter: 1                                           |\n",
       "|            ->  Seq Scan on people pep  (cost=0.00..619.70 rows=19370 width=146) (actual time=0.010..0.010 rows=1 loops=1)   |\n",
       "|                ->  Materialize  (cost=0.00..716.55 rows=19370 width=146) (actual time=0.004..0.409 rows=1001 loops=1)       |\n",
       "|               ->  Seq Scan on people  (cost=0.00..619.70 rows=19370 width=146) (actual time=0.002..0.122 rows=1001 loops=1) |\n",
       "|                                                   Planning Time: 0.185 ms                                                   |\n",
       "|                                                   Execution Time: 1.267 ms                                                  |\n",
       "+-----------------------------------------------------------------------------------------------------------------------------+"
      ]
     },
     "execution_count": 62,
     "metadata": {},
     "output_type": "execute_result"
    }
   ],
   "source": [
    "# Do not delete/edit this cell!\n",
    "# You must run this cell before running the autograder.\n",
    "query_4c = %sqlcmd snippets query_4c\n",
    "grading_util.save_results(\"result_4c\", query_4c, result_4c);\n",
    "\n",
    "display(result_4c.DataFrame().head(3))\n",
    "%sql EXPLAIN ANALYZE {{query_4c}} "
   ]
  },
  {
   "cell_type": "markdown",
   "metadata": {
    "deletable": false,
    "editable": false
   },
   "source": [
    "Run the cell above to inspect the query plan for your command.\n",
    "\n",
    "**Which join approach did the query optimizer choose?** \n",
    "\n",
    "A. Nested Loop Join<br/>\n",
    "B. Merge Join<br/>\n",
    "C. Hash Join<br/>\n",
    "D. None of the Above\n",
    "\n",
    "Assign the variable `q4c` to the correct letter choice above, e.g., `q4c = 'A'`."
   ]
  },
  {
   "cell_type": "code",
   "execution_count": 63,
   "metadata": {
    "tags": []
   },
   "outputs": [],
   "source": [
    "q4c = 'A'"
   ]
  },
  {
   "cell_type": "code",
   "execution_count": 64,
   "metadata": {
    "deletable": false,
    "editable": false
   },
   "outputs": [
    {
     "data": {
      "text/html": [
       "<p><strong><pre style='display: inline;'>q4c</pre></strong> passed! ✨</p>"
      ],
      "text/plain": [
       "q4c results: All test cases passed!"
      ]
     },
     "execution_count": 64,
     "metadata": {},
     "output_type": "execute_result"
    }
   ],
   "source": [
    "grader.check(\"q4c\")"
   ]
  },
  {
   "cell_type": "markdown",
   "metadata": {
    "deletable": false,
    "editable": false
   },
   "source": [
    "<!-- BEGIN QUESTION -->\n",
    "\n",
    "<br><br>\n",
    "\n",
    "---\n",
    "## Question 4d\n",
    "\n",
    "Given your findings above, why did the query optimizer ultimately choose the specific join approach you found in each of the above three scenarios in Questions 4a, 4b, and 4c? Feel free to discuss the pros and cons of each join approach as well.\n",
    "\n",
    "If you feel stuck, here are some things to consider: Does a non-equijoin constrain us to certain join approaches? What's an added benefit in regards to the output of merge join?\n",
    "\n",
    "**Note:** Your answer should be formatted as follows: `Q4a: A because ... Q4b: A because ...` You should write no more than 5 sentences."
   ]
  },
  {
   "cell_type": "markdown",
   "metadata": {},
   "source": [
    "In 4a, an inner join is applied to unorganized data, prompting the query optimizer to select a hash join due to its proficiency with large, unordered datasets like those in part 4a. For 4b, an inner join is executed on ordered data, leading the query optimizer to opt for a merge join, which is particularly effective with sorted data. In the scenario of 4c, a non-equijoin constraint is employed for joining, necessitating the traversal through all potential player combinations, and consequently, the query optimizer picks a nested loop join, which is adept at handling such operations."
   ]
  },
  {
   "cell_type": "markdown",
   "metadata": {
    "deletable": false,
    "editable": false
   },
   "source": [
    "<!-- END QUESTION -->\n",
    "\n",
    "<br/><br/><br/>\n",
    "\n",
    "<hr style=\"border: 5px solid #003262;\" />\n",
    "<hr style=\"border: 1px solid #fdb515;\" />\n",
    "\n",
    "# Question 5: Indexes, Part 1\n",
    "\n",
    "In Questions 5, 6, and 7, you will analyze how indexes impact query performance.\n",
    "\n",
    "Question 5:\n",
    "* Question 5a: Write a query.\n",
    "* Question 5b: Add an index with a particular index key and reanalyze the previous query's performance.\n",
    "* Question 5c: Add an index with a different key and reanalyze the previous query's performance."
   ]
  },
  {
   "cell_type": "markdown",
   "metadata": {
    "deletable": false,
    "editable": false
   },
   "source": [
    "<br/>\n",
    "\n",
    "---\n",
    "\n",
    "## Question 5a\n",
    "Write a query that outputs the `playerid` and average `salary` for each player that only batted in 10 games (the number of games in which a player batted can be found in the `g_batting` column of the `appearances` table). Your query should join the `salaries` and `appearances` table on all the common columns `yearid`, `teamid`, and `playerid`, so feel free to use a natural join."
   ]
  },
  {
   "cell_type": "code",
   "execution_count": 65,
   "metadata": {
    "scrolled": true,
    "tags": []
   },
   "outputs": [
    {
     "data": {
      "text/html": [
       "<span style=\"None\">Running query in &#x27;postgresql://jovyan@127.0.0.1:5432/baseball&#x27;</span>"
      ],
      "text/plain": [
       "Running query in 'postgresql://jovyan@127.0.0.1:5432/baseball'"
      ]
     },
     "metadata": {},
     "output_type": "display_data"
    },
    {
     "data": {
      "text/html": [
       "<span style=\"color: green\">134 rows affected.</span>"
      ],
      "text/plain": [
       "134 rows affected."
      ]
     },
     "metadata": {},
     "output_type": "display_data"
    }
   ],
   "source": [
    "%%sql --save query_5a result_5a <<\n",
    "SELECT sal.playerid, AVG(salary)\n",
    "FROM salaries AS sal\n",
    "NATURAL JOIN appearances\n",
    "WHERE g_batting = 10\n",
    "GROUP BY sal.playerid"
   ]
  },
  {
   "cell_type": "code",
   "execution_count": 66,
   "metadata": {
    "tags": []
   },
   "outputs": [
    {
     "data": {
      "text/html": [
       "<div>\n",
       "<style scoped>\n",
       "    .dataframe tbody tr th:only-of-type {\n",
       "        vertical-align: middle;\n",
       "    }\n",
       "\n",
       "    .dataframe tbody tr th {\n",
       "        vertical-align: top;\n",
       "    }\n",
       "\n",
       "    .dataframe thead th {\n",
       "        text-align: right;\n",
       "    }\n",
       "</style>\n",
       "<table border=\"1\" class=\"dataframe\">\n",
       "  <thead>\n",
       "    <tr style=\"text-align: right;\">\n",
       "      <th></th>\n",
       "      <th>playerid</th>\n",
       "      <th>avg</th>\n",
       "    </tr>\n",
       "  </thead>\n",
       "  <tbody>\n",
       "    <tr>\n",
       "      <th>0</th>\n",
       "      <td>anderla02</td>\n",
       "      <td>240000.0</td>\n",
       "    </tr>\n",
       "    <tr>\n",
       "      <th>1</th>\n",
       "      <td>ashbyan01</td>\n",
       "      <td>109000.0</td>\n",
       "    </tr>\n",
       "    <tr>\n",
       "      <th>2</th>\n",
       "      <td>ayraubo01</td>\n",
       "      <td>125000.0</td>\n",
       "    </tr>\n",
       "  </tbody>\n",
       "</table>\n",
       "</div>"
      ],
      "text/plain": [
       "    playerid       avg\n",
       "0  anderla02  240000.0\n",
       "1  ashbyan01  109000.0\n",
       "2  ayraubo01  125000.0"
      ]
     },
     "metadata": {},
     "output_type": "display_data"
    },
    {
     "data": {
      "text/html": [
       "<span style=\"None\">Running query in &#x27;postgresql://jovyan@127.0.0.1:5432/baseball&#x27;</span>"
      ],
      "text/plain": [
       "Running query in 'postgresql://jovyan@127.0.0.1:5432/baseball'"
      ]
     },
     "metadata": {},
     "output_type": "display_data"
    },
    {
     "data": {
      "text/html": [
       "<span style=\"color: green\">15 rows affected.</span>"
      ],
      "text/plain": [
       "15 rows affected."
      ]
     },
     "metadata": {},
     "output_type": "display_data"
    },
    {
     "data": {
      "text/html": [
       "<table>\n",
       "    <thead>\n",
       "        <tr>\n",
       "            <th>QUERY PLAN</th>\n",
       "        </tr>\n",
       "    </thead>\n",
       "    <tbody>\n",
       "        <tr>\n",
       "            <td>GroupAggregate  (cost=3636.40..3636.43 rows=1 width=17) (actual time=32.391..32.492 rows=134 loops=1)</td>\n",
       "        </tr>\n",
       "        <tr>\n",
       "            <td>&nbsp;&nbsp;Group Key: sal.playerid</td>\n",
       "        </tr>\n",
       "        <tr>\n",
       "            <td>&nbsp;&nbsp;->  Sort  (cost=3636.40..3636.41 rows=1 width=17) (actual time=32.380..32.392 rows=138 loops=1)</td>\n",
       "        </tr>\n",
       "        <tr>\n",
       "            <td>&nbsp;&nbsp;&nbsp;&nbsp;&nbsp;&nbsp;&nbsp;&nbsp;Sort Key: sal.playerid</td>\n",
       "        </tr>\n",
       "        <tr>\n",
       "            <td>&nbsp;&nbsp;&nbsp;&nbsp;&nbsp;&nbsp;&nbsp;&nbsp;Sort Method: quicksort  Memory: 35kB</td>\n",
       "        </tr>\n",
       "        <tr>\n",
       "            <td>&nbsp;&nbsp;&nbsp;&nbsp;&nbsp;&nbsp;&nbsp;&nbsp;->  Hash Join  (cost=2899.62..3636.39 rows=1 width=17) (actual time=19.441..32.182 rows=138 loops=1)</td>\n",
       "        </tr>\n",
       "        <tr>\n",
       "            <td>&nbsp;&nbsp;&nbsp;&nbsp;&nbsp;&nbsp;&nbsp;&nbsp;&nbsp;&nbsp;&nbsp;&nbsp;&nbsp;&nbsp;Hash Cond: ((sal.yearid = appearances.yearid) AND ((sal.teamid)::text = (appearances.teamid)::text) AND ((sal.lgid)::text = (appearances.lgid)::text) AND ((sal.playerid)::text = (appearances.playerid)::text))</td>\n",
       "        </tr>\n",
       "        <tr>\n",
       "            <td>&nbsp;&nbsp;&nbsp;&nbsp;&nbsp;&nbsp;&nbsp;&nbsp;&nbsp;&nbsp;&nbsp;&nbsp;&nbsp;&nbsp;->  Seq Scan on salaries sal  (cost=0.00..459.28 rows=26428 width=28) (actual time=0.009..2.850 rows=26428 loops=1)</td>\n",
       "        </tr>\n",
       "        <tr>\n",
       "            <td>&nbsp;&nbsp;&nbsp;&nbsp;&nbsp;&nbsp;&nbsp;&nbsp;&nbsp;&nbsp;&nbsp;&nbsp;&nbsp;&nbsp;->  Hash  (cost=2873.20..2873.20 rows=1321 width=20) (actual time=19.166..19.166 rows=1347 loops=1)</td>\n",
       "        </tr>\n",
       "        <tr>\n",
       "            <td>&nbsp;&nbsp;&nbsp;&nbsp;&nbsp;&nbsp;&nbsp;&nbsp;&nbsp;&nbsp;&nbsp;&nbsp;&nbsp;&nbsp;&nbsp;&nbsp;&nbsp;&nbsp;&nbsp;&nbsp;Buckets: 2048  Batches: 1  Memory Usage: 86kB</td>\n",
       "        </tr>\n",
       "        <tr>\n",
       "            <td>&nbsp;&nbsp;&nbsp;&nbsp;&nbsp;&nbsp;&nbsp;&nbsp;&nbsp;&nbsp;&nbsp;&nbsp;&nbsp;&nbsp;&nbsp;&nbsp;&nbsp;&nbsp;&nbsp;&nbsp;->  Seq Scan on appearances  (cost=0.00..2873.20 rows=1321 width=20) (actual time=0.008..18.557 rows=1347 loops=1)</td>\n",
       "        </tr>\n",
       "        <tr>\n",
       "            <td>&nbsp;&nbsp;&nbsp;&nbsp;&nbsp;&nbsp;&nbsp;&nbsp;&nbsp;&nbsp;&nbsp;&nbsp;&nbsp;&nbsp;&nbsp;&nbsp;&nbsp;&nbsp;&nbsp;&nbsp;&nbsp;&nbsp;&nbsp;&nbsp;&nbsp;&nbsp;Filter: (g_batting = 10)</td>\n",
       "        </tr>\n",
       "        <tr>\n",
       "            <td>&nbsp;&nbsp;&nbsp;&nbsp;&nbsp;&nbsp;&nbsp;&nbsp;&nbsp;&nbsp;&nbsp;&nbsp;&nbsp;&nbsp;&nbsp;&nbsp;&nbsp;&nbsp;&nbsp;&nbsp;&nbsp;&nbsp;&nbsp;&nbsp;&nbsp;&nbsp;Rows Removed by Filter: 102909</td>\n",
       "        </tr>\n",
       "        <tr>\n",
       "            <td>Planning Time: 1.162 ms</td>\n",
       "        </tr>\n",
       "        <tr>\n",
       "            <td>Execution Time: 32.547 ms</td>\n",
       "        </tr>\n",
       "    </tbody>\n",
       "</table>"
      ],
      "text/plain": [
       "+--------------------------------------------------------------------------------------------------------------------------------------------------------------------------------------------------------------------------------+\n",
       "|                                                                                                           QUERY PLAN                                                                                                           |\n",
       "+--------------------------------------------------------------------------------------------------------------------------------------------------------------------------------------------------------------------------------+\n",
       "|                                                             GroupAggregate  (cost=3636.40..3636.43 rows=1 width=17) (actual time=32.391..32.492 rows=134 loops=1)                                                              |\n",
       "|                                                                                                     Group Key: sal.playerid                                                                                                    |\n",
       "|                                                                 ->  Sort  (cost=3636.40..3636.41 rows=1 width=17) (actual time=32.380..32.392 rows=138 loops=1)                                                                |\n",
       "|                                                                                                         Sort Key: sal.playerid                                                                                                 |\n",
       "|                                                                                                  Sort Method: quicksort  Memory: 35kB                                                                                          |\n",
       "|                                                                  ->  Hash Join  (cost=2899.62..3636.39 rows=1 width=17) (actual time=19.441..32.182 rows=138 loops=1)                                                          |\n",
       "|               Hash Cond: ((sal.yearid = appearances.yearid) AND ((sal.teamid)::text = (appearances.teamid)::text) AND ((sal.lgid)::text = (appearances.lgid)::text) AND ((sal.playerid)::text = (appearances.playerid)::text)) |\n",
       "|                                                             ->  Seq Scan on salaries sal  (cost=0.00..459.28 rows=26428 width=28) (actual time=0.009..2.850 rows=26428 loops=1)                                                |\n",
       "|                                                                     ->  Hash  (cost=2873.20..2873.20 rows=1321 width=20) (actual time=19.166..19.166 rows=1347 loops=1)                                                        |\n",
       "|                                                                                                   Buckets: 2048  Batches: 1  Memory Usage: 86kB                                                                                |\n",
       "|                                                                 ->  Seq Scan on appearances  (cost=0.00..2873.20 rows=1321 width=20) (actual time=0.008..18.557 rows=1347 loops=1)                                             |\n",
       "|                                                                                                                 Filter: (g_batting = 10)                                                                                       |\n",
       "|                                                                                                              Rows Removed by Filter: 102909                                                                                    |\n",
       "|                                                                                                    Planning Time: 1.162 ms                                                                                                     |\n",
       "|                                                                                                   Execution Time: 32.547 ms                                                                                                    |\n",
       "+--------------------------------------------------------------------------------------------------------------------------------------------------------------------------------------------------------------------------------+"
      ]
     },
     "execution_count": 66,
     "metadata": {},
     "output_type": "execute_result"
    }
   ],
   "source": [
    "# Do not delete/edit this cell!\n",
    "# You must run this cell before running the autograder.\n",
    "query_5a = %sqlcmd snippets query_5a\n",
    "grading_util.save_results(\"result_5a\", query_5a, result_5a);\n",
    "\n",
    "display(result_5a.DataFrame().head(3))\n",
    "%sql EXPLAIN ANALYZE {{query_5a}} "
   ]
  },
  {
   "cell_type": "markdown",
   "metadata": {
    "deletable": false,
    "editable": false
   },
   "source": [
    "Inspect the query plan above and record the execution time and cost."
   ]
  },
  {
   "cell_type": "code",
   "execution_count": 67,
   "metadata": {
    "tags": []
   },
   "outputs": [],
   "source": [
    "result_5a_cost = 3636.01\n",
    "result_5a_timing = 106.224"
   ]
  },
  {
   "cell_type": "code",
   "execution_count": 68,
   "metadata": {
    "deletable": false,
    "editable": false
   },
   "outputs": [
    {
     "data": {
      "text/html": [
       "<p><strong><pre style='display: inline;'>q5a</pre></strong> passed! 🙌</p>"
      ],
      "text/plain": [
       "q5a results: All test cases passed!"
      ]
     },
     "execution_count": 68,
     "metadata": {},
     "output_type": "execute_result"
    }
   ],
   "source": [
    "grader.check(\"q5a\")"
   ]
  },
  {
   "cell_type": "markdown",
   "metadata": {
    "deletable": false,
    "editable": false
   },
   "source": [
    "<br><br>\n",
    "\n",
    "---\n",
    "## Question 5b\n",
    "\n",
    "Add an index with name `g_batting_idx` on the `g_batting` column of the `appearances` table."
   ]
  },
  {
   "cell_type": "code",
   "execution_count": 69,
   "metadata": {
    "tags": []
   },
   "outputs": [
    {
     "data": {
      "text/html": [
       "<span style=\"None\">Running query in &#x27;postgresql://jovyan@127.0.0.1:5432/baseball&#x27;</span>"
      ],
      "text/plain": [
       "Running query in 'postgresql://jovyan@127.0.0.1:5432/baseball'"
      ]
     },
     "metadata": {},
     "output_type": "display_data"
    },
    {
     "data": {
      "text/html": [
       "<table>\n",
       "    <thead>\n",
       "        <tr>\n",
       "        </tr>\n",
       "    </thead>\n",
       "    <tbody>\n",
       "    </tbody>\n",
       "</table>"
      ],
      "text/plain": [
       "++\n",
       "||\n",
       "++\n",
       "++"
      ]
     },
     "execution_count": 69,
     "metadata": {},
     "output_type": "execute_result"
    }
   ],
   "source": [
    "%%sql\n",
    "DROP INDEX IF EXISTS g_batting_idx;\n",
    "CREATE INDEX g_batting_idx ON appearances(g_batting)"
   ]
  },
  {
   "cell_type": "markdown",
   "metadata": {
    "deletable": false,
    "editable": false
   },
   "source": [
    "Now, re-inspect the query plan of the query from `Question 5a` and record its execution time and cost."
   ]
  },
  {
   "cell_type": "code",
   "execution_count": 70,
   "metadata": {
    "deletable": false,
    "editable": false
   },
   "outputs": [
    {
     "data": {
      "text/html": [
       "<span style=\"None\">Running query in &#x27;postgresql://jovyan@127.0.0.1:5432/baseball&#x27;</span>"
      ],
      "text/plain": [
       "Running query in 'postgresql://jovyan@127.0.0.1:5432/baseball'"
      ]
     },
     "metadata": {},
     "output_type": "display_data"
    },
    {
     "data": {
      "text/html": [
       "<span style=\"color: green\">17 rows affected.</span>"
      ],
      "text/plain": [
       "17 rows affected."
      ]
     },
     "metadata": {},
     "output_type": "display_data"
    },
    {
     "data": {
      "text/html": [
       "<table>\n",
       "    <thead>\n",
       "        <tr>\n",
       "            <th>QUERY PLAN</th>\n",
       "        </tr>\n",
       "    </thead>\n",
       "    <tbody>\n",
       "        <tr>\n",
       "            <td>GroupAggregate  (cost=2370.93..2370.95 rows=1 width=17) (actual time=8.397..8.453 rows=134 loops=1)</td>\n",
       "        </tr>\n",
       "        <tr>\n",
       "            <td>&nbsp;&nbsp;Group Key: sal.playerid</td>\n",
       "        </tr>\n",
       "        <tr>\n",
       "            <td>&nbsp;&nbsp;->  Sort  (cost=2370.93..2370.94 rows=1 width=17) (actual time=8.389..8.398 rows=138 loops=1)</td>\n",
       "        </tr>\n",
       "        <tr>\n",
       "            <td>&nbsp;&nbsp;&nbsp;&nbsp;&nbsp;&nbsp;&nbsp;&nbsp;Sort Key: sal.playerid</td>\n",
       "        </tr>\n",
       "        <tr>\n",
       "            <td>&nbsp;&nbsp;&nbsp;&nbsp;&nbsp;&nbsp;&nbsp;&nbsp;Sort Method: quicksort  Memory: 35kB</td>\n",
       "        </tr>\n",
       "        <tr>\n",
       "            <td>&nbsp;&nbsp;&nbsp;&nbsp;&nbsp;&nbsp;&nbsp;&nbsp;->  Hash Join  (cost=1634.15..2370.92 rows=1 width=17) (actual time=1.852..8.278 rows=138 loops=1)</td>\n",
       "        </tr>\n",
       "        <tr>\n",
       "            <td>&nbsp;&nbsp;&nbsp;&nbsp;&nbsp;&nbsp;&nbsp;&nbsp;&nbsp;&nbsp;&nbsp;&nbsp;&nbsp;&nbsp;Hash Cond: ((sal.yearid = appearances.yearid) AND ((sal.teamid)::text = (appearances.teamid)::text) AND ((sal.lgid)::text = (appearances.lgid)::text) AND ((sal.playerid)::text = (appearances.playerid)::text))</td>\n",
       "        </tr>\n",
       "        <tr>\n",
       "            <td>&nbsp;&nbsp;&nbsp;&nbsp;&nbsp;&nbsp;&nbsp;&nbsp;&nbsp;&nbsp;&nbsp;&nbsp;&nbsp;&nbsp;->  Seq Scan on salaries sal  (cost=0.00..459.28 rows=26428 width=28) (actual time=0.006..1.555 rows=26428 loops=1)</td>\n",
       "        </tr>\n",
       "        <tr>\n",
       "            <td>&nbsp;&nbsp;&nbsp;&nbsp;&nbsp;&nbsp;&nbsp;&nbsp;&nbsp;&nbsp;&nbsp;&nbsp;&nbsp;&nbsp;->  Hash  (cost=1607.73..1607.73 rows=1321 width=20) (actual time=1.698..1.700 rows=1347 loops=1)</td>\n",
       "        </tr>\n",
       "        <tr>\n",
       "            <td>&nbsp;&nbsp;&nbsp;&nbsp;&nbsp;&nbsp;&nbsp;&nbsp;&nbsp;&nbsp;&nbsp;&nbsp;&nbsp;&nbsp;&nbsp;&nbsp;&nbsp;&nbsp;&nbsp;&nbsp;Buckets: 2048  Batches: 1  Memory Usage: 86kB</td>\n",
       "        </tr>\n",
       "        <tr>\n",
       "            <td>&nbsp;&nbsp;&nbsp;&nbsp;&nbsp;&nbsp;&nbsp;&nbsp;&nbsp;&nbsp;&nbsp;&nbsp;&nbsp;&nbsp;&nbsp;&nbsp;&nbsp;&nbsp;&nbsp;&nbsp;->  Bitmap Heap Scan on appearances  (cost=18.53..1607.73 rows=1321 width=20) (actual time=0.213..1.378 rows=1347 loops=1)</td>\n",
       "        </tr>\n",
       "        <tr>\n",
       "            <td>&nbsp;&nbsp;&nbsp;&nbsp;&nbsp;&nbsp;&nbsp;&nbsp;&nbsp;&nbsp;&nbsp;&nbsp;&nbsp;&nbsp;&nbsp;&nbsp;&nbsp;&nbsp;&nbsp;&nbsp;&nbsp;&nbsp;&nbsp;&nbsp;&nbsp;&nbsp;Recheck Cond: (g_batting = 10)</td>\n",
       "        </tr>\n",
       "        <tr>\n",
       "            <td>&nbsp;&nbsp;&nbsp;&nbsp;&nbsp;&nbsp;&nbsp;&nbsp;&nbsp;&nbsp;&nbsp;&nbsp;&nbsp;&nbsp;&nbsp;&nbsp;&nbsp;&nbsp;&nbsp;&nbsp;&nbsp;&nbsp;&nbsp;&nbsp;&nbsp;&nbsp;Heap Blocks: exact=899</td>\n",
       "        </tr>\n",
       "        <tr>\n",
       "            <td>&nbsp;&nbsp;&nbsp;&nbsp;&nbsp;&nbsp;&nbsp;&nbsp;&nbsp;&nbsp;&nbsp;&nbsp;&nbsp;&nbsp;&nbsp;&nbsp;&nbsp;&nbsp;&nbsp;&nbsp;&nbsp;&nbsp;&nbsp;&nbsp;&nbsp;&nbsp;->  Bitmap Index Scan on g_batting_idx  (cost=0.00..18.20 rows=1321 width=0) (actual time=0.121..0.121 rows=1347 loops=1)</td>\n",
       "        </tr>\n",
       "        <tr>\n",
       "            <td>&nbsp;&nbsp;&nbsp;&nbsp;&nbsp;&nbsp;&nbsp;&nbsp;&nbsp;&nbsp;&nbsp;&nbsp;&nbsp;&nbsp;&nbsp;&nbsp;&nbsp;&nbsp;&nbsp;&nbsp;&nbsp;&nbsp;&nbsp;&nbsp;&nbsp;&nbsp;&nbsp;&nbsp;&nbsp;&nbsp;&nbsp;&nbsp;Index Cond: (g_batting = 10)</td>\n",
       "        </tr>\n",
       "        <tr>\n",
       "            <td>Planning Time: 0.875 ms</td>\n",
       "        </tr>\n",
       "        <tr>\n",
       "            <td>Execution Time: 8.507 ms</td>\n",
       "        </tr>\n",
       "    </tbody>\n",
       "</table>"
      ],
      "text/plain": [
       "+--------------------------------------------------------------------------------------------------------------------------------------------------------------------------------------------------------------------------------+\n",
       "|                                                                                                           QUERY PLAN                                                                                                           |\n",
       "+--------------------------------------------------------------------------------------------------------------------------------------------------------------------------------------------------------------------------------+\n",
       "|                                                              GroupAggregate  (cost=2370.93..2370.95 rows=1 width=17) (actual time=8.397..8.453 rows=134 loops=1)                                                               |\n",
       "|                                                                                                     Group Key: sal.playerid                                                                                                    |\n",
       "|                                                                  ->  Sort  (cost=2370.93..2370.94 rows=1 width=17) (actual time=8.389..8.398 rows=138 loops=1)                                                                 |\n",
       "|                                                                                                         Sort Key: sal.playerid                                                                                                 |\n",
       "|                                                                                                  Sort Method: quicksort  Memory: 35kB                                                                                          |\n",
       "|                                                                   ->  Hash Join  (cost=1634.15..2370.92 rows=1 width=17) (actual time=1.852..8.278 rows=138 loops=1)                                                           |\n",
       "|               Hash Cond: ((sal.yearid = appearances.yearid) AND ((sal.teamid)::text = (appearances.teamid)::text) AND ((sal.lgid)::text = (appearances.lgid)::text) AND ((sal.playerid)::text = (appearances.playerid)::text)) |\n",
       "|                                                             ->  Seq Scan on salaries sal  (cost=0.00..459.28 rows=26428 width=28) (actual time=0.006..1.555 rows=26428 loops=1)                                                |\n",
       "|                                                                      ->  Hash  (cost=1607.73..1607.73 rows=1321 width=20) (actual time=1.698..1.700 rows=1347 loops=1)                                                         |\n",
       "|                                                                                                   Buckets: 2048  Batches: 1  Memory Usage: 86kB                                                                                |\n",
       "|                                                             ->  Bitmap Heap Scan on appearances  (cost=18.53..1607.73 rows=1321 width=20) (actual time=0.213..1.378 rows=1347 loops=1)                                         |\n",
       "|                                                                                                              Recheck Cond: (g_batting = 10)                                                                                    |\n",
       "|                                                                                                                  Heap Blocks: exact=899                                                                                        |\n",
       "|                                                                ->  Bitmap Index Scan on g_batting_idx  (cost=0.00..18.20 rows=1321 width=0) (actual time=0.121..0.121 rows=1347 loops=1)                                       |\n",
       "|                                                                                                                  Index Cond: (g_batting = 10)                                                                                  |\n",
       "|                                                                                                    Planning Time: 0.875 ms                                                                                                     |\n",
       "|                                                                                                    Execution Time: 8.507 ms                                                                                                    |\n",
       "+--------------------------------------------------------------------------------------------------------------------------------------------------------------------------------------------------------------------------------+"
      ]
     },
     "execution_count": 70,
     "metadata": {},
     "output_type": "execute_result"
    }
   ],
   "source": [
    "# just run this cell\n",
    "%sql EXPLAIN ANALYZE {{query_5a}} "
   ]
  },
  {
   "cell_type": "code",
   "execution_count": 71,
   "metadata": {
    "tags": []
   },
   "outputs": [],
   "source": [
    "result_5b_cost = 2364.65\n",
    "result_5b_timing = 76.025"
   ]
  },
  {
   "cell_type": "code",
   "execution_count": 72,
   "metadata": {
    "deletable": false,
    "editable": false
   },
   "outputs": [
    {
     "data": {
      "text/html": [
       "<p><strong><pre style='display: inline;'>q5b</pre></strong> passed! 🌈</p>"
      ],
      "text/plain": [
       "q5b results: All test cases passed!"
      ]
     },
     "execution_count": 72,
     "metadata": {},
     "output_type": "execute_result"
    }
   ],
   "source": [
    "grader.check(\"q5b\")"
   ]
  },
  {
   "cell_type": "markdown",
   "metadata": {},
   "source": [
    "In the following question, we will explore adding a different index and evaluating the query from `Question 4a`. To avoid any interference by the `g_batting_idx` index, **drop the index before moving onto the next question.**"
   ]
  },
  {
   "cell_type": "code",
   "execution_count": 73,
   "metadata": {},
   "outputs": [
    {
     "data": {
      "text/html": [
       "<span style=\"None\">Running query in &#x27;postgresql://jovyan@127.0.0.1:5432/baseball&#x27;</span>"
      ],
      "text/plain": [
       "Running query in 'postgresql://jovyan@127.0.0.1:5432/baseball'"
      ]
     },
     "metadata": {},
     "output_type": "display_data"
    },
    {
     "data": {
      "text/html": [
       "<table>\n",
       "    <thead>\n",
       "        <tr>\n",
       "        </tr>\n",
       "    </thead>\n",
       "    <tbody>\n",
       "    </tbody>\n",
       "</table>"
      ],
      "text/plain": [
       "++\n",
       "||\n",
       "++\n",
       "++"
      ]
     },
     "execution_count": 73,
     "metadata": {},
     "output_type": "execute_result"
    }
   ],
   "source": [
    "# you must run this cell!!!\n",
    "%sql DROP INDEX IF EXISTS g_batting_idx;"
   ]
  },
  {
   "cell_type": "markdown",
   "metadata": {
    "deletable": false,
    "editable": false
   },
   "source": [
    "<br><br>\n",
    "\n",
    "---\n",
    "## Question 5c\n",
    "\n",
    "Write a query to add an index with name `salary_idx` on the `salary` column of the `salaries` table. Make sure to drop the previous index in `Question 5b` first!"
   ]
  },
  {
   "cell_type": "code",
   "execution_count": 74,
   "metadata": {
    "tags": []
   },
   "outputs": [
    {
     "data": {
      "text/html": [
       "<span style=\"None\">Running query in &#x27;postgresql://jovyan@127.0.0.1:5432/baseball&#x27;</span>"
      ],
      "text/plain": [
       "Running query in 'postgresql://jovyan@127.0.0.1:5432/baseball'"
      ]
     },
     "metadata": {},
     "output_type": "display_data"
    },
    {
     "data": {
      "text/html": [
       "<table>\n",
       "    <thead>\n",
       "        <tr>\n",
       "        </tr>\n",
       "    </thead>\n",
       "    <tbody>\n",
       "    </tbody>\n",
       "</table>"
      ],
      "text/plain": [
       "++\n",
       "||\n",
       "++\n",
       "++"
      ]
     },
     "execution_count": 74,
     "metadata": {},
     "output_type": "execute_result"
    }
   ],
   "source": [
    "%%sql\n",
    "DROP INDEX IF EXISTS g_batting_idx;\n",
    "DROP INDEX IF EXISTS salary_idx;\n",
    "CREATE INDEX salary_idx ON salaries(salary)"
   ]
  },
  {
   "cell_type": "markdown",
   "metadata": {
    "deletable": false,
    "editable": false
   },
   "source": [
    "Now, re-inspect the query plan of the query from `Question 5a` and record its execution time and cost."
   ]
  },
  {
   "cell_type": "code",
   "execution_count": 75,
   "metadata": {
    "deletable": false,
    "editable": false
   },
   "outputs": [
    {
     "data": {
      "text/html": [
       "<span style=\"None\">Running query in &#x27;postgresql://jovyan@127.0.0.1:5432/baseball&#x27;</span>"
      ],
      "text/plain": [
       "Running query in 'postgresql://jovyan@127.0.0.1:5432/baseball'"
      ]
     },
     "metadata": {},
     "output_type": "display_data"
    },
    {
     "data": {
      "text/html": [
       "<span style=\"color: green\">15 rows affected.</span>"
      ],
      "text/plain": [
       "15 rows affected."
      ]
     },
     "metadata": {},
     "output_type": "display_data"
    },
    {
     "data": {
      "text/html": [
       "<table>\n",
       "    <thead>\n",
       "        <tr>\n",
       "            <th>QUERY PLAN</th>\n",
       "        </tr>\n",
       "    </thead>\n",
       "    <tbody>\n",
       "        <tr>\n",
       "            <td>GroupAggregate  (cost=3636.40..3636.43 rows=1 width=17) (actual time=32.089..32.190 rows=134 loops=1)</td>\n",
       "        </tr>\n",
       "        <tr>\n",
       "            <td>&nbsp;&nbsp;Group Key: sal.playerid</td>\n",
       "        </tr>\n",
       "        <tr>\n",
       "            <td>&nbsp;&nbsp;->  Sort  (cost=3636.40..3636.41 rows=1 width=17) (actual time=32.079..32.091 rows=138 loops=1)</td>\n",
       "        </tr>\n",
       "        <tr>\n",
       "            <td>&nbsp;&nbsp;&nbsp;&nbsp;&nbsp;&nbsp;&nbsp;&nbsp;Sort Key: sal.playerid</td>\n",
       "        </tr>\n",
       "        <tr>\n",
       "            <td>&nbsp;&nbsp;&nbsp;&nbsp;&nbsp;&nbsp;&nbsp;&nbsp;Sort Method: quicksort  Memory: 35kB</td>\n",
       "        </tr>\n",
       "        <tr>\n",
       "            <td>&nbsp;&nbsp;&nbsp;&nbsp;&nbsp;&nbsp;&nbsp;&nbsp;->  Hash Join  (cost=2899.62..3636.39 rows=1 width=17) (actual time=19.215..31.880 rows=138 loops=1)</td>\n",
       "        </tr>\n",
       "        <tr>\n",
       "            <td>&nbsp;&nbsp;&nbsp;&nbsp;&nbsp;&nbsp;&nbsp;&nbsp;&nbsp;&nbsp;&nbsp;&nbsp;&nbsp;&nbsp;Hash Cond: ((sal.yearid = appearances.yearid) AND ((sal.teamid)::text = (appearances.teamid)::text) AND ((sal.lgid)::text = (appearances.lgid)::text) AND ((sal.playerid)::text = (appearances.playerid)::text))</td>\n",
       "        </tr>\n",
       "        <tr>\n",
       "            <td>&nbsp;&nbsp;&nbsp;&nbsp;&nbsp;&nbsp;&nbsp;&nbsp;&nbsp;&nbsp;&nbsp;&nbsp;&nbsp;&nbsp;->  Seq Scan on salaries sal  (cost=0.00..459.28 rows=26428 width=28) (actual time=0.008..2.853 rows=26428 loops=1)</td>\n",
       "        </tr>\n",
       "        <tr>\n",
       "            <td>&nbsp;&nbsp;&nbsp;&nbsp;&nbsp;&nbsp;&nbsp;&nbsp;&nbsp;&nbsp;&nbsp;&nbsp;&nbsp;&nbsp;->  Hash  (cost=2873.20..2873.20 rows=1321 width=20) (actual time=18.952..18.953 rows=1347 loops=1)</td>\n",
       "        </tr>\n",
       "        <tr>\n",
       "            <td>&nbsp;&nbsp;&nbsp;&nbsp;&nbsp;&nbsp;&nbsp;&nbsp;&nbsp;&nbsp;&nbsp;&nbsp;&nbsp;&nbsp;&nbsp;&nbsp;&nbsp;&nbsp;&nbsp;&nbsp;Buckets: 2048  Batches: 1  Memory Usage: 86kB</td>\n",
       "        </tr>\n",
       "        <tr>\n",
       "            <td>&nbsp;&nbsp;&nbsp;&nbsp;&nbsp;&nbsp;&nbsp;&nbsp;&nbsp;&nbsp;&nbsp;&nbsp;&nbsp;&nbsp;&nbsp;&nbsp;&nbsp;&nbsp;&nbsp;&nbsp;->  Seq Scan on appearances  (cost=0.00..2873.20 rows=1321 width=20) (actual time=0.008..18.336 rows=1347 loops=1)</td>\n",
       "        </tr>\n",
       "        <tr>\n",
       "            <td>&nbsp;&nbsp;&nbsp;&nbsp;&nbsp;&nbsp;&nbsp;&nbsp;&nbsp;&nbsp;&nbsp;&nbsp;&nbsp;&nbsp;&nbsp;&nbsp;&nbsp;&nbsp;&nbsp;&nbsp;&nbsp;&nbsp;&nbsp;&nbsp;&nbsp;&nbsp;Filter: (g_batting = 10)</td>\n",
       "        </tr>\n",
       "        <tr>\n",
       "            <td>&nbsp;&nbsp;&nbsp;&nbsp;&nbsp;&nbsp;&nbsp;&nbsp;&nbsp;&nbsp;&nbsp;&nbsp;&nbsp;&nbsp;&nbsp;&nbsp;&nbsp;&nbsp;&nbsp;&nbsp;&nbsp;&nbsp;&nbsp;&nbsp;&nbsp;&nbsp;Rows Removed by Filter: 102909</td>\n",
       "        </tr>\n",
       "        <tr>\n",
       "            <td>Planning Time: 1.416 ms</td>\n",
       "        </tr>\n",
       "        <tr>\n",
       "            <td>Execution Time: 32.256 ms</td>\n",
       "        </tr>\n",
       "    </tbody>\n",
       "</table>"
      ],
      "text/plain": [
       "+--------------------------------------------------------------------------------------------------------------------------------------------------------------------------------------------------------------------------------+\n",
       "|                                                                                                           QUERY PLAN                                                                                                           |\n",
       "+--------------------------------------------------------------------------------------------------------------------------------------------------------------------------------------------------------------------------------+\n",
       "|                                                             GroupAggregate  (cost=3636.40..3636.43 rows=1 width=17) (actual time=32.089..32.190 rows=134 loops=1)                                                              |\n",
       "|                                                                                                     Group Key: sal.playerid                                                                                                    |\n",
       "|                                                                 ->  Sort  (cost=3636.40..3636.41 rows=1 width=17) (actual time=32.079..32.091 rows=138 loops=1)                                                                |\n",
       "|                                                                                                         Sort Key: sal.playerid                                                                                                 |\n",
       "|                                                                                                  Sort Method: quicksort  Memory: 35kB                                                                                          |\n",
       "|                                                                  ->  Hash Join  (cost=2899.62..3636.39 rows=1 width=17) (actual time=19.215..31.880 rows=138 loops=1)                                                          |\n",
       "|               Hash Cond: ((sal.yearid = appearances.yearid) AND ((sal.teamid)::text = (appearances.teamid)::text) AND ((sal.lgid)::text = (appearances.lgid)::text) AND ((sal.playerid)::text = (appearances.playerid)::text)) |\n",
       "|                                                             ->  Seq Scan on salaries sal  (cost=0.00..459.28 rows=26428 width=28) (actual time=0.008..2.853 rows=26428 loops=1)                                                |\n",
       "|                                                                     ->  Hash  (cost=2873.20..2873.20 rows=1321 width=20) (actual time=18.952..18.953 rows=1347 loops=1)                                                        |\n",
       "|                                                                                                   Buckets: 2048  Batches: 1  Memory Usage: 86kB                                                                                |\n",
       "|                                                                 ->  Seq Scan on appearances  (cost=0.00..2873.20 rows=1321 width=20) (actual time=0.008..18.336 rows=1347 loops=1)                                             |\n",
       "|                                                                                                                 Filter: (g_batting = 10)                                                                                       |\n",
       "|                                                                                                              Rows Removed by Filter: 102909                                                                                    |\n",
       "|                                                                                                    Planning Time: 1.416 ms                                                                                                     |\n",
       "|                                                                                                   Execution Time: 32.256 ms                                                                                                    |\n",
       "+--------------------------------------------------------------------------------------------------------------------------------------------------------------------------------------------------------------------------------+"
      ]
     },
     "execution_count": 75,
     "metadata": {},
     "output_type": "execute_result"
    }
   ],
   "source": [
    "# just run this cell\n",
    "%sql EXPLAIN ANALYZE {{query_5a}} "
   ]
  },
  {
   "cell_type": "code",
   "execution_count": 76,
   "metadata": {
    "tags": []
   },
   "outputs": [],
   "source": [
    "result_5c_cost = 3636.01\n",
    "result_5c_timing = 106.018"
   ]
  },
  {
   "cell_type": "code",
   "execution_count": 77,
   "metadata": {
    "deletable": false,
    "editable": false
   },
   "outputs": [
    {
     "data": {
      "text/html": [
       "<p><strong><pre style='display: inline;'>q5c</pre></strong> passed! 🚀</p>"
      ],
      "text/plain": [
       "q5c results: All test cases passed!"
      ]
     },
     "execution_count": 77,
     "metadata": {},
     "output_type": "execute_result"
    }
   ],
   "source": [
    "grader.check(\"q5c\")"
   ]
  },
  {
   "cell_type": "markdown",
   "metadata": {
    "deletable": false,
    "editable": false
   },
   "source": [
    "<br><br>\n",
    "\n",
    "---\n",
    "\n",
    "## Question 5d\n",
    "\n",
    "Given your findings from inspecting the query plans with no indexes (Question 5a), an index on `g_batting` (Question 5b), and an index on `salary` (Question 5c), assign the variable `q5d` to a list of all of the below statements that are true.\n",
    "\n",
    "A. Adding the `g_batting` index did not have a significant impact on the query execution time and cost.<br/>\n",
    "B. Adding the `g_batting` index did have a significant impact on the query execution time, but not the cost.<br/>\n",
    "C. Adding the `g_batting` index did have a significant impact on the query cost, but not the execution time.<br/>\n",
    "D. Adding the `g_batting` index did have a significant impact on the query cost and execution time.<br/>\n",
    "E. Adding the `salary` index did not have a significant impact on the query execution time and cost.<br/>\n",
    "F. Adding the `salary` index did have a significant impact on the query execution time, but not the cost.<br/>\n",
    "G. Adding the `salary` index did have a significant impact on the query cost, but not the execution time.<br/>\n",
    "H. Adding the `salary` index did have a significant impact on the query cost and execution time.\n",
    "\n",
    "**Note:** Your answer should be formatted as a list of single-character strings, e.g., `q5d = ['A', 'B']`"
   ]
  },
  {
   "cell_type": "code",
   "execution_count": 78,
   "metadata": {
    "tags": []
   },
   "outputs": [],
   "source": [
    "q5d = ['D','E']"
   ]
  },
  {
   "cell_type": "code",
   "execution_count": 79,
   "metadata": {
    "deletable": false,
    "editable": false
   },
   "outputs": [
    {
     "data": {
      "text/html": [
       "<p><strong><pre style='display: inline;'>q5d</pre></strong> passed! 🙌</p>"
      ],
      "text/plain": [
       "q5d results: All test cases passed!"
      ]
     },
     "execution_count": 79,
     "metadata": {},
     "output_type": "execute_result"
    }
   ],
   "source": [
    "grader.check(\"q5d\")"
   ]
  },
  {
   "cell_type": "markdown",
   "metadata": {
    "deletable": false,
    "editable": false
   },
   "source": [
    "<!-- BEGIN QUESTION -->\n",
    "\n",
    "### Question 5di Justification\n",
    "\n",
    "Explain your answer to `Question 5d` above based on your knowledge from lectures, and details from inspecting the query plans (your explanation should include why you didn't choose certain options). Your answer should be no longer than 3 sentences."
   ]
  },
  {
   "cell_type": "markdown",
   "metadata": {},
   "source": [
    "I selected option D due to our filtering on a distinct value for g_batting. Consequently, incorporating an index markedly reduces both cost and execution time, as it allows us to rapidly locate the requisite values instead of scanning each row. I opted for option E since we do not filter based on the salary column's value, rendering a salary index entirely ineffective. Given that we filter on the value of g_batting, even with a salary index, a complete row scan is inevitable."
   ]
  },
  {
   "cell_type": "markdown",
   "metadata": {
    "deletable": false,
    "editable": false
   },
   "source": [
    "<!-- END QUESTION -->\n",
    "\n",
    "<br/><br/><br/>\n",
    "\n",
    "<hr style=\"border: 5px solid #003262;\" />\n",
    "<hr style=\"border: 1px solid #fdb515;\" />\n",
    "\n",
    "# Question 6: Indexes, Part 2\n",
    "\n",
    "Continue the analysis on how indexes impact query performance.\n",
    "\n",
    "Question 6:\n",
    "* Question 6a: Write a query that uses an **and** boolean operator. Record query performance.\n",
    "* Question 6b: Write a query that uses an **or** boolean operator. Record query performances.\n",
    "* Question 6c: Add an index and rerun queries in Questions 6a, 6b. Record query performance.\n",
    "* Question 6d: Add a multi-attribute index and rerun queries 6a, 6b. Record query performance.\n",
    "* Question 6e: Analyze query performance; compare and contrast."
   ]
  },
  {
   "cell_type": "markdown",
   "metadata": {},
   "source": [
    "Before continuing, make sure to drop all existing indexes from previous questions."
   ]
  },
  {
   "cell_type": "code",
   "execution_count": 80,
   "metadata": {},
   "outputs": [
    {
     "data": {
      "text/html": [
       "<span style=\"None\">Running query in &#x27;postgresql://jovyan@127.0.0.1:5432/baseball&#x27;</span>"
      ],
      "text/plain": [
       "Running query in 'postgresql://jovyan@127.0.0.1:5432/baseball'"
      ]
     },
     "metadata": {},
     "output_type": "display_data"
    },
    {
     "data": {
      "text/html": [
       "<span style=\"None\">Running query in &#x27;postgresql://jovyan@127.0.0.1:5432/baseball&#x27;</span>"
      ],
      "text/plain": [
       "Running query in 'postgresql://jovyan@127.0.0.1:5432/baseball'"
      ]
     },
     "metadata": {},
     "output_type": "display_data"
    },
    {
     "data": {
      "text/html": [
       "<table>\n",
       "    <thead>\n",
       "        <tr>\n",
       "        </tr>\n",
       "    </thead>\n",
       "    <tbody>\n",
       "    </tbody>\n",
       "</table>"
      ],
      "text/plain": [
       "++\n",
       "||\n",
       "++\n",
       "++"
      ]
     },
     "execution_count": 80,
     "metadata": {},
     "output_type": "execute_result"
    }
   ],
   "source": [
    "# you must run this cell!!!\n",
    "%sql DROP INDEX IF EXISTS g_batting_idx;\n",
    "%sql DROP INDEX IF EXISTS salary_idx;"
   ]
  },
  {
   "cell_type": "markdown",
   "metadata": {
    "deletable": false,
    "editable": false
   },
   "source": [
    "<br><br>\n",
    "\n",
    "---\n",
    "\n",
    "## Question 6a\n",
    "\n",
    "Write a query that finds the `playerid`, `yearid`, and `salary` for each player that had played 10 games **and** batted in 10 games (the number of games in which a player played can be found in the `g_all` column of the `appearances` table). Your query should join the `salaries` and `appearances` table on all the common columns `yearid`, `teamid`, and `playerid`, so feel free to use a natural join."
   ]
  },
  {
   "cell_type": "code",
   "execution_count": 81,
   "metadata": {
    "tags": []
   },
   "outputs": [
    {
     "data": {
      "text/html": [
       "<span style=\"None\">Running query in &#x27;postgresql://jovyan@127.0.0.1:5432/baseball&#x27;</span>"
      ],
      "text/plain": [
       "Running query in 'postgresql://jovyan@127.0.0.1:5432/baseball'"
      ]
     },
     "metadata": {},
     "output_type": "display_data"
    },
    {
     "data": {
      "text/html": [
       "<span style=\"color: green\">120 rows affected.</span>"
      ],
      "text/plain": [
       "120 rows affected."
      ]
     },
     "metadata": {},
     "output_type": "display_data"
    }
   ],
   "source": [
    "%%sql --save query_6a result_6a <<\n",
    "SELECT playerid, yearid, salary\n",
    "FROM salaries\n",
    "NATURAL JOIN appearances AS app\n",
    "WHERE app.g_all = 10 AND app.g_batting = 10"
   ]
  },
  {
   "cell_type": "code",
   "execution_count": 82,
   "metadata": {
    "tags": []
   },
   "outputs": [
    {
     "data": {
      "text/html": [
       "<div>\n",
       "<style scoped>\n",
       "    .dataframe tbody tr th:only-of-type {\n",
       "        vertical-align: middle;\n",
       "    }\n",
       "\n",
       "    .dataframe tbody tr th {\n",
       "        vertical-align: top;\n",
       "    }\n",
       "\n",
       "    .dataframe thead th {\n",
       "        text-align: right;\n",
       "    }\n",
       "</style>\n",
       "<table border=\"1\" class=\"dataframe\">\n",
       "  <thead>\n",
       "    <tr style=\"text-align: right;\">\n",
       "      <th></th>\n",
       "      <th>playerid</th>\n",
       "      <th>yearid</th>\n",
       "      <th>salary</th>\n",
       "    </tr>\n",
       "  </thead>\n",
       "  <tbody>\n",
       "    <tr>\n",
       "      <th>0</th>\n",
       "      <td>wiggial01</td>\n",
       "      <td>1985</td>\n",
       "      <td>512500.0</td>\n",
       "    </tr>\n",
       "    <tr>\n",
       "      <th>1</th>\n",
       "      <td>anderla02</td>\n",
       "      <td>1986</td>\n",
       "      <td>240000.0</td>\n",
       "    </tr>\n",
       "    <tr>\n",
       "      <th>2</th>\n",
       "      <td>lakest01</td>\n",
       "      <td>1986</td>\n",
       "      <td>60000.0</td>\n",
       "    </tr>\n",
       "  </tbody>\n",
       "</table>\n",
       "</div>"
      ],
      "text/plain": [
       "    playerid  yearid    salary\n",
       "0  wiggial01    1985  512500.0\n",
       "1  anderla02    1986  240000.0\n",
       "2   lakest01    1986   60000.0"
      ]
     },
     "execution_count": 82,
     "metadata": {},
     "output_type": "execute_result"
    }
   ],
   "source": [
    "# Do not delete/edit this cell!\n",
    "# You must run this cell before running the autograder.\n",
    "query_6a = %sqlcmd snippets query_6a\n",
    "grading_util.save_results(\"result_6a\", query_6a, result_6a);\n",
    "\n",
    "result_6a.DataFrame().head(3)"
   ]
  },
  {
   "cell_type": "code",
   "execution_count": 83,
   "metadata": {
    "deletable": false,
    "editable": false
   },
   "outputs": [
    {
     "data": {
      "text/html": [
       "<p><strong><pre style='display: inline;'>q6a</pre></strong> passed! 🙌</p>"
      ],
      "text/plain": [
       "q6a results: All test cases passed!"
      ]
     },
     "execution_count": 83,
     "metadata": {},
     "output_type": "execute_result"
    }
   ],
   "source": [
    "grader.check(\"q6a\")"
   ]
  },
  {
   "cell_type": "markdown",
   "metadata": {
    "deletable": false,
    "editable": false
   },
   "source": [
    "Inspect the query plan and record the execution time and cost."
   ]
  },
  {
   "cell_type": "code",
   "execution_count": 84,
   "metadata": {
    "deletable": false,
    "editable": false
   },
   "outputs": [
    {
     "data": {
      "text/html": [
       "<span style=\"None\">Running query in &#x27;postgresql://jovyan@127.0.0.1:5432/baseball&#x27;</span>"
      ],
      "text/plain": [
       "Running query in 'postgresql://jovyan@127.0.0.1:5432/baseball'"
      ]
     },
     "metadata": {},
     "output_type": "display_data"
    },
    {
     "data": {
      "text/html": [
       "<span style=\"color: green\">8 rows affected.</span>"
      ],
      "text/plain": [
       "8 rows affected."
      ]
     },
     "metadata": {},
     "output_type": "display_data"
    },
    {
     "data": {
      "text/html": [
       "<table>\n",
       "    <thead>\n",
       "        <tr>\n",
       "            <th>QUERY PLAN</th>\n",
       "        </tr>\n",
       "    </thead>\n",
       "    <tbody>\n",
       "        <tr>\n",
       "            <td>Nested Loop  (cost=0.29..3296.09 rows=1 width=21) (actual time=12.799..23.776 rows=120 loops=1)</td>\n",
       "        </tr>\n",
       "        <tr>\n",
       "            <td>&nbsp;&nbsp;->  Seq Scan on appearances app  (cost=0.00..3133.84 rows=20 width=20) (actual time=0.012..19.210 rows=1289 loops=1)</td>\n",
       "        </tr>\n",
       "        <tr>\n",
       "            <td>&nbsp;&nbsp;&nbsp;&nbsp;&nbsp;&nbsp;&nbsp;&nbsp;Filter: ((g_all = 10) AND (g_batting = 10))</td>\n",
       "        </tr>\n",
       "        <tr>\n",
       "            <td>&nbsp;&nbsp;&nbsp;&nbsp;&nbsp;&nbsp;&nbsp;&nbsp;Rows Removed by Filter: 102967</td>\n",
       "        </tr>\n",
       "        <tr>\n",
       "            <td>&nbsp;&nbsp;->  Index Scan using salaries_pkey on salaries  (cost=0.29..8.11 rows=1 width=28) (actual time=0.003..0.003 rows=0 loops=1289)</td>\n",
       "        </tr>\n",
       "        <tr>\n",
       "            <td>&nbsp;&nbsp;&nbsp;&nbsp;&nbsp;&nbsp;&nbsp;&nbsp;Index Cond: ((yearid = app.yearid) AND ((teamid)::text = (app.teamid)::text) AND ((lgid)::text = (app.lgid)::text) AND ((playerid)::text = (app.playerid)::text))</td>\n",
       "        </tr>\n",
       "        <tr>\n",
       "            <td>Planning Time: 1.162 ms</td>\n",
       "        </tr>\n",
       "        <tr>\n",
       "            <td>Execution Time: 23.815 ms</td>\n",
       "        </tr>\n",
       "    </tbody>\n",
       "</table>"
      ],
      "text/plain": [
       "+---------------------------------------------------------------------------------------------------------------------------------------------------------------------------+\n",
       "|                                                                                 QUERY PLAN                                                                                |\n",
       "+---------------------------------------------------------------------------------------------------------------------------------------------------------------------------+\n",
       "|                                      Nested Loop  (cost=0.29..3296.09 rows=1 width=21) (actual time=12.799..23.776 rows=120 loops=1)                                      |\n",
       "|                             ->  Seq Scan on appearances app  (cost=0.00..3133.84 rows=20 width=20) (actual time=0.012..19.210 rows=1289 loops=1)                          |\n",
       "|                                                                    Filter: ((g_all = 10) AND (g_batting = 10))                                                            |\n",
       "|                                                                           Rows Removed by Filter: 102967                                                                  |\n",
       "|                        ->  Index Scan using salaries_pkey on salaries  (cost=0.29..8.11 rows=1 width=28) (actual time=0.003..0.003 rows=0 loops=1289)                     |\n",
       "|         Index Cond: ((yearid = app.yearid) AND ((teamid)::text = (app.teamid)::text) AND ((lgid)::text = (app.lgid)::text) AND ((playerid)::text = (app.playerid)::text)) |\n",
       "|                                                                          Planning Time: 1.162 ms                                                                          |\n",
       "|                                                                         Execution Time: 23.815 ms                                                                         |\n",
       "+---------------------------------------------------------------------------------------------------------------------------------------------------------------------------+"
      ]
     },
     "execution_count": 84,
     "metadata": {},
     "output_type": "execute_result"
    }
   ],
   "source": [
    "%sql EXPLAIN ANALYZE {{query_6a}} "
   ]
  },
  {
   "cell_type": "code",
   "execution_count": 85,
   "metadata": {
    "tags": []
   },
   "outputs": [],
   "source": [
    "result_6a_cost = 3296.09\n",
    "result_6a_timing = 63.660"
   ]
  },
  {
   "cell_type": "code",
   "execution_count": 86,
   "metadata": {
    "deletable": false,
    "editable": false
   },
   "outputs": [
    {
     "data": {
      "text/html": [
       "<p><strong><pre style='display: inline;'>6a_cost</pre></strong> passed! 🌟</p>"
      ],
      "text/plain": [
       "6a_cost results: All test cases passed!"
      ]
     },
     "execution_count": 86,
     "metadata": {},
     "output_type": "execute_result"
    }
   ],
   "source": [
    "grader.check(\"6a_cost\")"
   ]
  },
  {
   "cell_type": "markdown",
   "metadata": {
    "deletable": false,
    "editable": false
   },
   "source": [
    "## Question 6b\n",
    "Write a query that finds the `playerid`, `yearid`, and `salary` for each player that had played 10 games __or__ batted in 10 games. Your query should join the `salaries` and `appearances` table on all the common columns `yearid`, `teamid`, and `playerid`, so feel free to use a natural join."
   ]
  },
  {
   "cell_type": "code",
   "execution_count": 87,
   "metadata": {
    "tags": []
   },
   "outputs": [
    {
     "data": {
      "text/html": [
       "<span style=\"None\">Running query in &#x27;postgresql://jovyan@127.0.0.1:5432/baseball&#x27;</span>"
      ],
      "text/plain": [
       "Running query in 'postgresql://jovyan@127.0.0.1:5432/baseball'"
      ]
     },
     "metadata": {},
     "output_type": "display_data"
    },
    {
     "data": {
      "text/html": [
       "<span style=\"color: green\">216 rows affected.</span>"
      ],
      "text/plain": [
       "216 rows affected."
      ]
     },
     "metadata": {},
     "output_type": "display_data"
    }
   ],
   "source": [
    "%%sql --save query_6b result_6b <<\n",
    "SELECT playerid, yearid, salary\n",
    "FROM salaries\n",
    "NATURAL JOIN appearances AS app\n",
    "WHERE app.g_all = 10 OR app.g_batting = 10"
   ]
  },
  {
   "cell_type": "code",
   "execution_count": 88,
   "metadata": {
    "tags": []
   },
   "outputs": [
    {
     "data": {
      "text/html": [
       "<div>\n",
       "<style scoped>\n",
       "    .dataframe tbody tr th:only-of-type {\n",
       "        vertical-align: middle;\n",
       "    }\n",
       "\n",
       "    .dataframe tbody tr th {\n",
       "        vertical-align: top;\n",
       "    }\n",
       "\n",
       "    .dataframe thead th {\n",
       "        text-align: right;\n",
       "    }\n",
       "</style>\n",
       "<table border=\"1\" class=\"dataframe\">\n",
       "  <thead>\n",
       "    <tr style=\"text-align: right;\">\n",
       "      <th></th>\n",
       "      <th>playerid</th>\n",
       "      <th>yearid</th>\n",
       "      <th>salary</th>\n",
       "    </tr>\n",
       "  </thead>\n",
       "  <tbody>\n",
       "    <tr>\n",
       "      <th>0</th>\n",
       "      <td>wiggial01</td>\n",
       "      <td>1985</td>\n",
       "      <td>512500.0</td>\n",
       "    </tr>\n",
       "    <tr>\n",
       "      <th>1</th>\n",
       "      <td>forscke01</td>\n",
       "      <td>1986</td>\n",
       "      <td>100000.0</td>\n",
       "    </tr>\n",
       "    <tr>\n",
       "      <th>2</th>\n",
       "      <td>carltst01</td>\n",
       "      <td>1986</td>\n",
       "      <td>60000.0</td>\n",
       "    </tr>\n",
       "  </tbody>\n",
       "</table>\n",
       "</div>"
      ],
      "text/plain": [
       "    playerid  yearid    salary\n",
       "0  wiggial01    1985  512500.0\n",
       "1  forscke01    1986  100000.0\n",
       "2  carltst01    1986   60000.0"
      ]
     },
     "execution_count": 88,
     "metadata": {},
     "output_type": "execute_result"
    }
   ],
   "source": [
    "# Do not delete/edit this cell!\n",
    "# You must run this cell before running the autograder.\n",
    "query_6b = %sqlcmd snippets query_6b\n",
    "grading_util.save_results(\"result_6b\", query_6b, result_6b);\n",
    "result_6b.DataFrame().head(3)"
   ]
  },
  {
   "cell_type": "code",
   "execution_count": 89,
   "metadata": {
    "deletable": false,
    "editable": false
   },
   "outputs": [
    {
     "data": {
      "text/html": [
       "<p><strong><pre style='display: inline;'>q6b</pre></strong> passed! 💯</p>"
      ],
      "text/plain": [
       "q6b results: All test cases passed!"
      ]
     },
     "execution_count": 89,
     "metadata": {},
     "output_type": "execute_result"
    }
   ],
   "source": [
    "grader.check(\"q6b\")"
   ]
  },
  {
   "cell_type": "markdown",
   "metadata": {
    "deletable": false,
    "editable": false
   },
   "source": [
    "Inspect the query plan and record the execution time and cost."
   ]
  },
  {
   "cell_type": "code",
   "execution_count": 90,
   "metadata": {
    "deletable": false,
    "editable": false
   },
   "outputs": [
    {
     "data": {
      "text/html": [
       "<span style=\"None\">Running query in &#x27;postgresql://jovyan@127.0.0.1:5432/baseball&#x27;</span>"
      ],
      "text/plain": [
       "Running query in 'postgresql://jovyan@127.0.0.1:5432/baseball'"
      ]
     },
     "metadata": {},
     "output_type": "display_data"
    },
    {
     "data": {
      "text/html": [
       "<span style=\"color: green\">10 rows affected.</span>"
      ],
      "text/plain": [
       "10 rows affected."
      ]
     },
     "metadata": {},
     "output_type": "display_data"
    },
    {
     "data": {
      "text/html": [
       "<table>\n",
       "    <thead>\n",
       "        <tr>\n",
       "            <th>QUERY PLAN</th>\n",
       "        </tr>\n",
       "    </thead>\n",
       "    <tbody>\n",
       "        <tr>\n",
       "            <td>Hash Join  (cost=3190.66..3927.43 rows=1 width=21) (actual time=32.354..45.699 rows=216 loops=1)</td>\n",
       "        </tr>\n",
       "        <tr>\n",
       "            <td>&nbsp;&nbsp;Hash Cond: ((salaries.yearid = app.yearid) AND ((salaries.teamid)::text = (app.teamid)::text) AND ((salaries.lgid)::text = (app.lgid)::text) AND ((salaries.playerid)::text = (app.playerid)::text))</td>\n",
       "        </tr>\n",
       "        <tr>\n",
       "            <td>&nbsp;&nbsp;->  Seq Scan on salaries  (cost=0.00..459.28 rows=26428 width=28) (actual time=0.009..2.769 rows=26428 loops=1)</td>\n",
       "        </tr>\n",
       "        <tr>\n",
       "            <td>&nbsp;&nbsp;->  Hash  (cost=3133.84..3133.84 rows=2841 width=20) (actual time=32.072..32.074 rows=1655 loops=1)</td>\n",
       "        </tr>\n",
       "        <tr>\n",
       "            <td>&nbsp;&nbsp;&nbsp;&nbsp;&nbsp;&nbsp;&nbsp;&nbsp;Buckets: 4096  Batches: 1  Memory Usage: 118kB</td>\n",
       "        </tr>\n",
       "        <tr>\n",
       "            <td>&nbsp;&nbsp;&nbsp;&nbsp;&nbsp;&nbsp;&nbsp;&nbsp;->  Seq Scan on appearances app  (cost=0.00..3133.84 rows=2841 width=20) (actual time=0.009..31.304 rows=1655 loops=1)</td>\n",
       "        </tr>\n",
       "        <tr>\n",
       "            <td>&nbsp;&nbsp;&nbsp;&nbsp;&nbsp;&nbsp;&nbsp;&nbsp;&nbsp;&nbsp;&nbsp;&nbsp;&nbsp;&nbsp;Filter: ((g_all = 10) OR (g_batting = 10))</td>\n",
       "        </tr>\n",
       "        <tr>\n",
       "            <td>&nbsp;&nbsp;&nbsp;&nbsp;&nbsp;&nbsp;&nbsp;&nbsp;&nbsp;&nbsp;&nbsp;&nbsp;&nbsp;&nbsp;Rows Removed by Filter: 102601</td>\n",
       "        </tr>\n",
       "        <tr>\n",
       "            <td>Planning Time: 1.126 ms</td>\n",
       "        </tr>\n",
       "        <tr>\n",
       "            <td>Execution Time: 45.751 ms</td>\n",
       "        </tr>\n",
       "    </tbody>\n",
       "</table>"
      ],
      "text/plain": [
       "+--------------------------------------------------------------------------------------------------------------------------------------------------------------------------------------------------------+\n",
       "|                                                                                               QUERY PLAN                                                                                               |\n",
       "+--------------------------------------------------------------------------------------------------------------------------------------------------------------------------------------------------------+\n",
       "|                                                    Hash Join  (cost=3190.66..3927.43 rows=1 width=21) (actual time=32.354..45.699 rows=216 loops=1)                                                    |\n",
       "|   Hash Cond: ((salaries.yearid = app.yearid) AND ((salaries.teamid)::text = (app.teamid)::text) AND ((salaries.lgid)::text = (app.lgid)::text) AND ((salaries.playerid)::text = (app.playerid)::text)) |\n",
       "|                                             ->  Seq Scan on salaries  (cost=0.00..459.28 rows=26428 width=28) (actual time=0.009..2.769 rows=26428 loops=1)                                            |\n",
       "|                                                   ->  Hash  (cost=3133.84..3133.84 rows=2841 width=20) (actual time=32.072..32.074 rows=1655 loops=1)                                                  |\n",
       "|                                                                                 Buckets: 4096  Batches: 1  Memory Usage: 118kB                                                                         |\n",
       "|                                             ->  Seq Scan on appearances app  (cost=0.00..3133.84 rows=2841 width=20) (actual time=0.009..31.304 rows=1655 loops=1)                                     |\n",
       "|                                                                                      Filter: ((g_all = 10) OR (g_batting = 10))                                                                        |\n",
       "|                                                                                            Rows Removed by Filter: 102601                                                                              |\n",
       "|                                                                                        Planning Time: 1.126 ms                                                                                         |\n",
       "|                                                                                       Execution Time: 45.751 ms                                                                                        |\n",
       "+--------------------------------------------------------------------------------------------------------------------------------------------------------------------------------------------------------+"
      ]
     },
     "execution_count": 90,
     "metadata": {},
     "output_type": "execute_result"
    }
   ],
   "source": [
    "%sql EXPLAIN ANALYZE {{query_6b}} "
   ]
  },
  {
   "cell_type": "code",
   "execution_count": 91,
   "metadata": {
    "tags": []
   },
   "outputs": [],
   "source": [
    "result_6b_cost = 3927.57\n",
    "result_6b_timing = 136.745"
   ]
  },
  {
   "cell_type": "code",
   "execution_count": 92,
   "metadata": {
    "deletable": false,
    "editable": false
   },
   "outputs": [
    {
     "data": {
      "text/html": [
       "<p><strong><pre style='display: inline;'>6b_cost</pre></strong> passed! 🍀</p>"
      ],
      "text/plain": [
       "6b_cost results: All test cases passed!"
      ]
     },
     "execution_count": 92,
     "metadata": {},
     "output_type": "execute_result"
    }
   ],
   "source": [
    "grader.check(\"6b_cost\")"
   ]
  },
  {
   "cell_type": "markdown",
   "metadata": {
    "deletable": false,
    "editable": false
   },
   "source": [
    "## Question 6c\n",
    "Now, let's see the impact of adding an index on the `g_batting` column. Create an index on the `g_batting` column. Re-inspect the queries from `Question 6a` and `Question 6b` and record the respective execution costs and times."
   ]
  },
  {
   "cell_type": "code",
   "execution_count": 93,
   "metadata": {
    "tags": []
   },
   "outputs": [
    {
     "data": {
      "text/html": [
       "<span style=\"None\">Running query in &#x27;postgresql://jovyan@127.0.0.1:5432/baseball&#x27;</span>"
      ],
      "text/plain": [
       "Running query in 'postgresql://jovyan@127.0.0.1:5432/baseball'"
      ]
     },
     "metadata": {},
     "output_type": "display_data"
    },
    {
     "data": {
      "text/html": [
       "<table>\n",
       "    <thead>\n",
       "        <tr>\n",
       "        </tr>\n",
       "    </thead>\n",
       "    <tbody>\n",
       "    </tbody>\n",
       "</table>"
      ],
      "text/plain": [
       "++\n",
       "||\n",
       "++\n",
       "++"
      ]
     },
     "execution_count": 93,
     "metadata": {},
     "output_type": "execute_result"
    }
   ],
   "source": [
    "%%sql\n",
    "DROP INDEX IF EXISTS g_batting_idx;\n",
    "CREATE INDEX g_batting_idx ON appearances(g_batting)"
   ]
  },
  {
   "cell_type": "code",
   "execution_count": 94,
   "metadata": {
    "scrolled": true,
    "tags": []
   },
   "outputs": [
    {
     "data": {
      "text/html": [
       "<span style=\"None\">Running query in &#x27;postgresql://jovyan@127.0.0.1:5432/baseball&#x27;</span>"
      ],
      "text/plain": [
       "Running query in 'postgresql://jovyan@127.0.0.1:5432/baseball'"
      ]
     },
     "metadata": {},
     "output_type": "display_data"
    },
    {
     "data": {
      "text/html": [
       "<span style=\"color: green\">12 rows affected.</span>"
      ],
      "text/plain": [
       "12 rows affected."
      ]
     },
     "metadata": {},
     "output_type": "display_data"
    },
    {
     "data": {
      "text/html": [
       "<table>\n",
       "    <thead>\n",
       "        <tr>\n",
       "            <th>QUERY PLAN</th>\n",
       "        </tr>\n",
       "    </thead>\n",
       "    <tbody>\n",
       "        <tr>\n",
       "            <td>Nested Loop  (cost=18.49..1772.96 rows=1 width=21) (actual time=3.106..6.260 rows=120 loops=1)</td>\n",
       "        </tr>\n",
       "        <tr>\n",
       "            <td>&nbsp;&nbsp;->  Bitmap Heap Scan on appearances app  (cost=18.20..1610.70 rows=20 width=20) (actual time=0.293..1.885 rows=1289 loops=1)</td>\n",
       "        </tr>\n",
       "        <tr>\n",
       "            <td>&nbsp;&nbsp;&nbsp;&nbsp;&nbsp;&nbsp;&nbsp;&nbsp;Recheck Cond: (g_batting = 10)</td>\n",
       "        </tr>\n",
       "        <tr>\n",
       "            <td>&nbsp;&nbsp;&nbsp;&nbsp;&nbsp;&nbsp;&nbsp;&nbsp;Filter: (g_all = 10)</td>\n",
       "        </tr>\n",
       "        <tr>\n",
       "            <td>&nbsp;&nbsp;&nbsp;&nbsp;&nbsp;&nbsp;&nbsp;&nbsp;Rows Removed by Filter: 58</td>\n",
       "        </tr>\n",
       "        <tr>\n",
       "            <td>&nbsp;&nbsp;&nbsp;&nbsp;&nbsp;&nbsp;&nbsp;&nbsp;Heap Blocks: exact=899</td>\n",
       "        </tr>\n",
       "        <tr>\n",
       "            <td>&nbsp;&nbsp;&nbsp;&nbsp;&nbsp;&nbsp;&nbsp;&nbsp;->  Bitmap Index Scan on g_batting_idx  (cost=0.00..18.20 rows=1321 width=0) (actual time=0.166..0.166 rows=1347 loops=1)</td>\n",
       "        </tr>\n",
       "        <tr>\n",
       "            <td>&nbsp;&nbsp;&nbsp;&nbsp;&nbsp;&nbsp;&nbsp;&nbsp;&nbsp;&nbsp;&nbsp;&nbsp;&nbsp;&nbsp;Index Cond: (g_batting = 10)</td>\n",
       "        </tr>\n",
       "        <tr>\n",
       "            <td>&nbsp;&nbsp;->  Index Scan using salaries_pkey on salaries  (cost=0.29..8.11 rows=1 width=28) (actual time=0.003..0.003 rows=0 loops=1289)</td>\n",
       "        </tr>\n",
       "        <tr>\n",
       "            <td>&nbsp;&nbsp;&nbsp;&nbsp;&nbsp;&nbsp;&nbsp;&nbsp;Index Cond: ((yearid = app.yearid) AND ((teamid)::text = (app.teamid)::text) AND ((lgid)::text = (app.lgid)::text) AND ((playerid)::text = (app.playerid)::text))</td>\n",
       "        </tr>\n",
       "        <tr>\n",
       "            <td>Planning Time: 1.381 ms</td>\n",
       "        </tr>\n",
       "        <tr>\n",
       "            <td>Execution Time: 6.312 ms</td>\n",
       "        </tr>\n",
       "    </tbody>\n",
       "</table>"
      ],
      "text/plain": [
       "+---------------------------------------------------------------------------------------------------------------------------------------------------------------------------+\n",
       "|                                                                                 QUERY PLAN                                                                                |\n",
       "+---------------------------------------------------------------------------------------------------------------------------------------------------------------------------+\n",
       "|                                       Nested Loop  (cost=18.49..1772.96 rows=1 width=21) (actual time=3.106..6.260 rows=120 loops=1)                                      |\n",
       "|                         ->  Bitmap Heap Scan on appearances app  (cost=18.20..1610.70 rows=20 width=20) (actual time=0.293..1.885 rows=1289 loops=1)                      |\n",
       "|                                                                           Recheck Cond: (g_batting = 10)                                                                  |\n",
       "|                                                                                Filter: (g_all = 10)                                                                       |\n",
       "|                                                                             Rows Removed by Filter: 58                                                                    |\n",
       "|                                                                               Heap Blocks: exact=899                                                                      |\n",
       "|                             ->  Bitmap Index Scan on g_batting_idx  (cost=0.00..18.20 rows=1321 width=0) (actual time=0.166..0.166 rows=1347 loops=1)                     |\n",
       "|                                                                               Index Cond: (g_batting = 10)                                                                |\n",
       "|                        ->  Index Scan using salaries_pkey on salaries  (cost=0.29..8.11 rows=1 width=28) (actual time=0.003..0.003 rows=0 loops=1289)                     |\n",
       "|         Index Cond: ((yearid = app.yearid) AND ((teamid)::text = (app.teamid)::text) AND ((lgid)::text = (app.lgid)::text) AND ((playerid)::text = (app.playerid)::text)) |\n",
       "|                                                                          Planning Time: 1.381 ms                                                                          |\n",
       "|                                                                          Execution Time: 6.312 ms                                                                         |\n",
       "+---------------------------------------------------------------------------------------------------------------------------------------------------------------------------+"
      ]
     },
     "execution_count": 94,
     "metadata": {},
     "output_type": "execute_result"
    }
   ],
   "source": [
    "# record the updated costs for Question 6a (\"and\" query)\n",
    "%sql EXPLAIN ANALYZE {{query_6a}} "
   ]
  },
  {
   "cell_type": "code",
   "execution_count": 97,
   "metadata": {
    "tags": []
   },
   "outputs": [],
   "source": [
    "result_6cand_index_cost = 1772.96\n",
    "result_6cand_index_timing = 6.312"
   ]
  },
  {
   "cell_type": "code",
   "execution_count": 98,
   "metadata": {
    "tags": []
   },
   "outputs": [
    {
     "data": {
      "text/html": [
       "<span style=\"None\">Running query in &#x27;postgresql://jovyan@127.0.0.1:5432/baseball&#x27;</span>"
      ],
      "text/plain": [
       "Running query in 'postgresql://jovyan@127.0.0.1:5432/baseball'"
      ]
     },
     "metadata": {},
     "output_type": "display_data"
    },
    {
     "data": {
      "text/html": [
       "<span style=\"color: green\">10 rows affected.</span>"
      ],
      "text/plain": [
       "10 rows affected."
      ]
     },
     "metadata": {},
     "output_type": "display_data"
    },
    {
     "data": {
      "text/html": [
       "<table>\n",
       "    <thead>\n",
       "        <tr>\n",
       "            <th>QUERY PLAN</th>\n",
       "        </tr>\n",
       "    </thead>\n",
       "    <tbody>\n",
       "        <tr>\n",
       "            <td>Hash Join  (cost=3190.66..3927.43 rows=1 width=21) (actual time=20.516..32.981 rows=216 loops=1)</td>\n",
       "        </tr>\n",
       "        <tr>\n",
       "            <td>&nbsp;&nbsp;Hash Cond: ((salaries.yearid = app.yearid) AND ((salaries.teamid)::text = (app.teamid)::text) AND ((salaries.lgid)::text = (app.lgid)::text) AND ((salaries.playerid)::text = (app.playerid)::text))</td>\n",
       "        </tr>\n",
       "        <tr>\n",
       "            <td>&nbsp;&nbsp;->  Seq Scan on salaries  (cost=0.00..459.28 rows=26428 width=28) (actual time=0.009..2.745 rows=26428 loops=1)</td>\n",
       "        </tr>\n",
       "        <tr>\n",
       "            <td>&nbsp;&nbsp;->  Hash  (cost=3133.84..3133.84 rows=2841 width=20) (actual time=20.258..20.260 rows=1655 loops=1)</td>\n",
       "        </tr>\n",
       "        <tr>\n",
       "            <td>&nbsp;&nbsp;&nbsp;&nbsp;&nbsp;&nbsp;&nbsp;&nbsp;Buckets: 4096  Batches: 1  Memory Usage: 118kB</td>\n",
       "        </tr>\n",
       "        <tr>\n",
       "            <td>&nbsp;&nbsp;&nbsp;&nbsp;&nbsp;&nbsp;&nbsp;&nbsp;->  Seq Scan on appearances app  (cost=0.00..3133.84 rows=2841 width=20) (actual time=0.010..19.509 rows=1655 loops=1)</td>\n",
       "        </tr>\n",
       "        <tr>\n",
       "            <td>&nbsp;&nbsp;&nbsp;&nbsp;&nbsp;&nbsp;&nbsp;&nbsp;&nbsp;&nbsp;&nbsp;&nbsp;&nbsp;&nbsp;Filter: ((g_all = 10) OR (g_batting = 10))</td>\n",
       "        </tr>\n",
       "        <tr>\n",
       "            <td>&nbsp;&nbsp;&nbsp;&nbsp;&nbsp;&nbsp;&nbsp;&nbsp;&nbsp;&nbsp;&nbsp;&nbsp;&nbsp;&nbsp;Rows Removed by Filter: 102601</td>\n",
       "        </tr>\n",
       "        <tr>\n",
       "            <td>Planning Time: 1.156 ms</td>\n",
       "        </tr>\n",
       "        <tr>\n",
       "            <td>Execution Time: 33.029 ms</td>\n",
       "        </tr>\n",
       "    </tbody>\n",
       "</table>"
      ],
      "text/plain": [
       "+--------------------------------------------------------------------------------------------------------------------------------------------------------------------------------------------------------+\n",
       "|                                                                                               QUERY PLAN                                                                                               |\n",
       "+--------------------------------------------------------------------------------------------------------------------------------------------------------------------------------------------------------+\n",
       "|                                                    Hash Join  (cost=3190.66..3927.43 rows=1 width=21) (actual time=20.516..32.981 rows=216 loops=1)                                                    |\n",
       "|   Hash Cond: ((salaries.yearid = app.yearid) AND ((salaries.teamid)::text = (app.teamid)::text) AND ((salaries.lgid)::text = (app.lgid)::text) AND ((salaries.playerid)::text = (app.playerid)::text)) |\n",
       "|                                             ->  Seq Scan on salaries  (cost=0.00..459.28 rows=26428 width=28) (actual time=0.009..2.745 rows=26428 loops=1)                                            |\n",
       "|                                                   ->  Hash  (cost=3133.84..3133.84 rows=2841 width=20) (actual time=20.258..20.260 rows=1655 loops=1)                                                  |\n",
       "|                                                                                 Buckets: 4096  Batches: 1  Memory Usage: 118kB                                                                         |\n",
       "|                                             ->  Seq Scan on appearances app  (cost=0.00..3133.84 rows=2841 width=20) (actual time=0.010..19.509 rows=1655 loops=1)                                     |\n",
       "|                                                                                      Filter: ((g_all = 10) OR (g_batting = 10))                                                                        |\n",
       "|                                                                                            Rows Removed by Filter: 102601                                                                              |\n",
       "|                                                                                        Planning Time: 1.156 ms                                                                                         |\n",
       "|                                                                                       Execution Time: 33.029 ms                                                                                        |\n",
       "+--------------------------------------------------------------------------------------------------------------------------------------------------------------------------------------------------------+"
      ]
     },
     "execution_count": 98,
     "metadata": {},
     "output_type": "execute_result"
    }
   ],
   "source": [
    "# record the updated costs for Question 6b (\"or\" query)\n",
    "%sql EXPLAIN ANALYZE {{query_6b}} "
   ]
  },
  {
   "cell_type": "code",
   "execution_count": 99,
   "metadata": {
    "scrolled": true,
    "tags": []
   },
   "outputs": [],
   "source": [
    "result_6cor_index_cost = 3927.43\n",
    "result_6cor_index_timing = 33.029"
   ]
  },
  {
   "cell_type": "code",
   "execution_count": 100,
   "metadata": {
    "deletable": false,
    "editable": false
   },
   "outputs": [
    {
     "data": {
      "text/html": [
       "<p><strong><pre style='display: inline;'>q6c</pre></strong> passed! 🚀</p>"
      ],
      "text/plain": [
       "q6c results: All test cases passed!"
      ]
     },
     "execution_count": 100,
     "metadata": {},
     "output_type": "execute_result"
    }
   ],
   "source": [
    "grader.check(\"q6c\")"
   ]
  },
  {
   "cell_type": "markdown",
   "metadata": {
    "deletable": false,
    "editable": false
   },
   "source": [
    "<br/><br/>\n",
    "\n",
    "---\n",
    "\n",
    "## Question 6d: Multiple-attribute index\n",
    "\n",
    "Now, create a multiple column index on `g_batting` and `g_all` called `g_batting_g_all_idx` and record the query execution time and cost for the \"or\" command in `Question 6b`."
   ]
  },
  {
   "cell_type": "markdown",
   "metadata": {
    "deletable": false,
    "editable": false
   },
   "source": [
    "Before continuing, make sure to drop all existing indexes from previous questions."
   ]
  },
  {
   "cell_type": "code",
   "execution_count": 101,
   "metadata": {
    "deletable": false,
    "editable": false
   },
   "outputs": [
    {
     "data": {
      "text/html": [
       "<span style=\"None\">Running query in &#x27;postgresql://jovyan@127.0.0.1:5432/baseball&#x27;</span>"
      ],
      "text/plain": [
       "Running query in 'postgresql://jovyan@127.0.0.1:5432/baseball'"
      ]
     },
     "metadata": {},
     "output_type": "display_data"
    },
    {
     "data": {
      "text/html": [
       "<span style=\"None\">Running query in &#x27;postgresql://jovyan@127.0.0.1:5432/baseball&#x27;</span>"
      ],
      "text/plain": [
       "Running query in 'postgresql://jovyan@127.0.0.1:5432/baseball'"
      ]
     },
     "metadata": {},
     "output_type": "display_data"
    },
    {
     "data": {
      "text/html": [
       "<table>\n",
       "    <thead>\n",
       "        <tr>\n",
       "        </tr>\n",
       "    </thead>\n",
       "    <tbody>\n",
       "    </tbody>\n",
       "</table>"
      ],
      "text/plain": [
       "++\n",
       "||\n",
       "++\n",
       "++"
      ]
     },
     "execution_count": 101,
     "metadata": {},
     "output_type": "execute_result"
    }
   ],
   "source": [
    "# you must run this cell!!!\n",
    "%sql DROP INDEX IF EXISTS g_batting_idx;\n",
    "%sql DROP INDEX IF EXISTS salary_idx;"
   ]
  },
  {
   "cell_type": "code",
   "execution_count": 102,
   "metadata": {
    "scrolled": true,
    "tags": []
   },
   "outputs": [
    {
     "data": {
      "text/html": [
       "<span style=\"None\">Running query in &#x27;postgresql://jovyan@127.0.0.1:5432/baseball&#x27;</span>"
      ],
      "text/plain": [
       "Running query in 'postgresql://jovyan@127.0.0.1:5432/baseball'"
      ]
     },
     "metadata": {},
     "output_type": "display_data"
    },
    {
     "data": {
      "text/html": [
       "<table>\n",
       "    <thead>\n",
       "        <tr>\n",
       "        </tr>\n",
       "    </thead>\n",
       "    <tbody>\n",
       "    </tbody>\n",
       "</table>"
      ],
      "text/plain": [
       "++\n",
       "||\n",
       "++\n",
       "++"
      ]
     },
     "execution_count": 102,
     "metadata": {},
     "output_type": "execute_result"
    }
   ],
   "source": [
    "%%sql \n",
    "DROP INDEX IF EXISTS g_batting_all_idx;\n",
    "CREATE INDEX g_batting_g_all_idx ON appearances(g_batting, g_all)"
   ]
  },
  {
   "cell_type": "code",
   "execution_count": 103,
   "metadata": {
    "scrolled": true,
    "tags": []
   },
   "outputs": [
    {
     "data": {
      "text/html": [
       "<span style=\"None\">Running query in &#x27;postgresql://jovyan@127.0.0.1:5432/baseball&#x27;</span>"
      ],
      "text/plain": [
       "Running query in 'postgresql://jovyan@127.0.0.1:5432/baseball'"
      ]
     },
     "metadata": {},
     "output_type": "display_data"
    },
    {
     "data": {
      "text/html": [
       "<span style=\"color: green\">15 rows affected.</span>"
      ],
      "text/plain": [
       "15 rows affected."
      ]
     },
     "metadata": {},
     "output_type": "display_data"
    },
    {
     "data": {
      "text/html": [
       "<table>\n",
       "    <thead>\n",
       "        <tr>\n",
       "            <th>QUERY PLAN</th>\n",
       "        </tr>\n",
       "    </thead>\n",
       "    <tbody>\n",
       "        <tr>\n",
       "            <td>Hash Join  (cost=2884.20..3620.98 rows=1 width=21) (actual time=5.626..18.267 rows=216 loops=1)</td>\n",
       "        </tr>\n",
       "        <tr>\n",
       "            <td>&nbsp;&nbsp;Hash Cond: ((salaries.yearid = app.yearid) AND ((salaries.teamid)::text = (app.teamid)::text) AND ((salaries.lgid)::text = (app.lgid)::text) AND ((salaries.playerid)::text = (app.playerid)::text))</td>\n",
       "        </tr>\n",
       "        <tr>\n",
       "            <td>&nbsp;&nbsp;->  Seq Scan on salaries  (cost=0.00..459.28 rows=26428 width=28) (actual time=0.008..2.755 rows=26428 loops=1)</td>\n",
       "        </tr>\n",
       "        <tr>\n",
       "            <td>&nbsp;&nbsp;->  Hash  (cost=2827.38..2827.38 rows=2841 width=20) (actual time=5.384..5.387 rows=1655 loops=1)</td>\n",
       "        </tr>\n",
       "        <tr>\n",
       "            <td>&nbsp;&nbsp;&nbsp;&nbsp;&nbsp;&nbsp;&nbsp;&nbsp;Buckets: 4096  Batches: 1  Memory Usage: 118kB</td>\n",
       "        </tr>\n",
       "        <tr>\n",
       "            <td>&nbsp;&nbsp;&nbsp;&nbsp;&nbsp;&nbsp;&nbsp;&nbsp;->  Bitmap Heap Scan on appearances app  (cost=1181.83..2827.38 rows=2841 width=20) (actual time=1.656..4.686 rows=1655 loops=1)</td>\n",
       "        </tr>\n",
       "        <tr>\n",
       "            <td>&nbsp;&nbsp;&nbsp;&nbsp;&nbsp;&nbsp;&nbsp;&nbsp;&nbsp;&nbsp;&nbsp;&nbsp;&nbsp;&nbsp;Recheck Cond: ((g_all = 10) OR (g_batting = 10))</td>\n",
       "        </tr>\n",
       "        <tr>\n",
       "            <td>&nbsp;&nbsp;&nbsp;&nbsp;&nbsp;&nbsp;&nbsp;&nbsp;&nbsp;&nbsp;&nbsp;&nbsp;&nbsp;&nbsp;Heap Blocks: exact=1027</td>\n",
       "        </tr>\n",
       "        <tr>\n",
       "            <td>&nbsp;&nbsp;&nbsp;&nbsp;&nbsp;&nbsp;&nbsp;&nbsp;&nbsp;&nbsp;&nbsp;&nbsp;&nbsp;&nbsp;->  BitmapOr  (cost=1181.83..1181.83 rows=2860 width=0) (actual time=1.497..1.498 rows=0 loops=1)</td>\n",
       "        </tr>\n",
       "        <tr>\n",
       "            <td>&nbsp;&nbsp;&nbsp;&nbsp;&nbsp;&nbsp;&nbsp;&nbsp;&nbsp;&nbsp;&nbsp;&nbsp;&nbsp;&nbsp;&nbsp;&nbsp;&nbsp;&nbsp;&nbsp;&nbsp;->  Bitmap Index Scan on g_batting_g_all_idx  (cost=0.00..1162.21 rows=1540 width=0) (actual time=1.423..1.424 rows=1597 loops=1)</td>\n",
       "        </tr>\n",
       "        <tr>\n",
       "            <td>&nbsp;&nbsp;&nbsp;&nbsp;&nbsp;&nbsp;&nbsp;&nbsp;&nbsp;&nbsp;&nbsp;&nbsp;&nbsp;&nbsp;&nbsp;&nbsp;&nbsp;&nbsp;&nbsp;&nbsp;&nbsp;&nbsp;&nbsp;&nbsp;&nbsp;&nbsp;Index Cond: (g_all = 10)</td>\n",
       "        </tr>\n",
       "        <tr>\n",
       "            <td>&nbsp;&nbsp;&nbsp;&nbsp;&nbsp;&nbsp;&nbsp;&nbsp;&nbsp;&nbsp;&nbsp;&nbsp;&nbsp;&nbsp;&nbsp;&nbsp;&nbsp;&nbsp;&nbsp;&nbsp;->  Bitmap Index Scan on g_batting_g_all_idx  (cost=0.00..18.20 rows=1321 width=0) (actual time=0.072..0.072 rows=1347 loops=1)</td>\n",
       "        </tr>\n",
       "        <tr>\n",
       "            <td>&nbsp;&nbsp;&nbsp;&nbsp;&nbsp;&nbsp;&nbsp;&nbsp;&nbsp;&nbsp;&nbsp;&nbsp;&nbsp;&nbsp;&nbsp;&nbsp;&nbsp;&nbsp;&nbsp;&nbsp;&nbsp;&nbsp;&nbsp;&nbsp;&nbsp;&nbsp;Index Cond: (g_batting = 10)</td>\n",
       "        </tr>\n",
       "        <tr>\n",
       "            <td>Planning Time: 1.521 ms</td>\n",
       "        </tr>\n",
       "        <tr>\n",
       "            <td>Execution Time: 18.328 ms</td>\n",
       "        </tr>\n",
       "    </tbody>\n",
       "</table>"
      ],
      "text/plain": [
       "+--------------------------------------------------------------------------------------------------------------------------------------------------------------------------------------------------------+\n",
       "|                                                                                               QUERY PLAN                                                                                               |\n",
       "+--------------------------------------------------------------------------------------------------------------------------------------------------------------------------------------------------------+\n",
       "|                                                    Hash Join  (cost=2884.20..3620.98 rows=1 width=21) (actual time=5.626..18.267 rows=216 loops=1)                                                     |\n",
       "|   Hash Cond: ((salaries.yearid = app.yearid) AND ((salaries.teamid)::text = (app.teamid)::text) AND ((salaries.lgid)::text = (app.lgid)::text) AND ((salaries.playerid)::text = (app.playerid)::text)) |\n",
       "|                                             ->  Seq Scan on salaries  (cost=0.00..459.28 rows=26428 width=28) (actual time=0.008..2.755 rows=26428 loops=1)                                            |\n",
       "|                                                    ->  Hash  (cost=2827.38..2827.38 rows=2841 width=20) (actual time=5.384..5.387 rows=1655 loops=1)                                                   |\n",
       "|                                                                                 Buckets: 4096  Batches: 1  Memory Usage: 118kB                                                                         |\n",
       "|                                        ->  Bitmap Heap Scan on appearances app  (cost=1181.83..2827.38 rows=2841 width=20) (actual time=1.656..4.686 rows=1655 loops=1)                                |\n",
       "|                                                                                   Recheck Cond: ((g_all = 10) OR (g_batting = 10))                                                                     |\n",
       "|                                                                                               Heap Blocks: exact=1027                                                                                  |\n",
       "|                                                          ->  BitmapOr  (cost=1181.83..1181.83 rows=2860 width=0) (actual time=1.497..1.498 rows=0 loops=1)                                             |\n",
       "|                                             ->  Bitmap Index Scan on g_batting_g_all_idx  (cost=0.00..1162.21 rows=1540 width=0) (actual time=1.423..1.424 rows=1597 loops=1)                          |\n",
       "|                                                                                                     Index Cond: (g_all = 10)                                                                           |\n",
       "|                                              ->  Bitmap Index Scan on g_batting_g_all_idx  (cost=0.00..18.20 rows=1321 width=0) (actual time=0.072..0.072 rows=1347 loops=1)                           |\n",
       "|                                                                                                   Index Cond: (g_batting = 10)                                                                         |\n",
       "|                                                                                        Planning Time: 1.521 ms                                                                                         |\n",
       "|                                                                                       Execution Time: 18.328 ms                                                                                        |\n",
       "+--------------------------------------------------------------------------------------------------------------------------------------------------------------------------------------------------------+"
      ]
     },
     "execution_count": 103,
     "metadata": {},
     "output_type": "execute_result"
    }
   ],
   "source": [
    "# record the updated costs for Question 6b (\"or\" query)\n",
    "%sql EXPLAIN ANALYZE {{query_6b}} "
   ]
  },
  {
   "cell_type": "code",
   "execution_count": 104,
   "metadata": {
    "tags": []
   },
   "outputs": [],
   "source": [
    "result_6d_multiple_col_index_cost = 3620.98\n",
    "result_6d_multiple_col_index_timing = 18.328"
   ]
  },
  {
   "cell_type": "code",
   "execution_count": 105,
   "metadata": {
    "deletable": false,
    "editable": false
   },
   "outputs": [
    {
     "data": {
      "text/html": [
       "<p><strong><pre style='display: inline;'>q6d</pre></strong> passed! 🌟</p>"
      ],
      "text/plain": [
       "q6d results: All test cases passed!"
      ]
     },
     "execution_count": 105,
     "metadata": {},
     "output_type": "execute_result"
    }
   ],
   "source": [
    "grader.check(\"q6d\")"
   ]
  },
  {
   "cell_type": "markdown",
   "metadata": {
    "deletable": false,
    "editable": false
   },
   "source": [
    "<br/><br/>\n",
    "\n",
    "---\n",
    "\n",
    "## Question 6e\n",
    "Given your findings from inspecting the query plans from all parts of this `Question 6`, assign the variable `q6e` to a list of all below statements that are true.\n",
    "\n",
    "A. Adding an index on a column used in an AND predicate will reduce the query time, but not the execution cost.<br/>\n",
    "B. Adding an index on a column used in an AND predicate will reduce the query cost, but not the execution time.<br/>\n",
    "C. Adding an index on a column used in an AND predicate will reduce the query cost and the execution time.<br/>\n",
    "D. Adding an index on a column used in an OR predicate will reduce the query time, but not the execution cost.<br/>\n",
    "E. Adding an index on a column used in an OR predicate will reduce the query cost, but not the execution time.<br/>\n",
    "F. Adding an index on a column used in an OR predicate will reduce the query cost and the execution time.<br/>\n",
    "G. Adding a multicolumn index on columns in an OR predicate will reduce the query time, but not the execution cost.<br/>\n",
    "H. Adding a multicolumn index on columns in an OR predicate will reduce the query cost, but not the execution time.<br/>\n",
    "I. Adding a multicolumn index on columns in an OR predicate will reduce the query cost and the execution time.\n",
    "\n",
    "**Note:** Your answer should be formatted as a list of single-character strings, e.g., `q6e = ['A', 'B']`\n"
   ]
  },
  {
   "cell_type": "code",
   "execution_count": 106,
   "metadata": {
    "tags": []
   },
   "outputs": [],
   "source": [
    "q6e = ['C','I']"
   ]
  },
  {
   "cell_type": "code",
   "execution_count": 107,
   "metadata": {
    "deletable": false,
    "editable": false
   },
   "outputs": [
    {
     "data": {
      "text/html": [
       "<p><strong><pre style='display: inline;'>q6e</pre></strong> passed! 💯</p>"
      ],
      "text/plain": [
       "q6e results: All test cases passed!"
      ]
     },
     "execution_count": 107,
     "metadata": {},
     "output_type": "execute_result"
    }
   ],
   "source": [
    "grader.check(\"q6e\")"
   ]
  },
  {
   "cell_type": "markdown",
   "metadata": {
    "deletable": false,
    "editable": false
   },
   "source": [
    "<!-- BEGIN QUESTION -->\n",
    "\n",
    "### Question 6ei Justification\n",
    "\n",
    "Explain your answer to `Question 6e` above based on your knowledge from lectures, and details from inspecting the query plans (your explanation should include why you didn't choose certain options). Your answer should be no longer than 3 sentences."
   ]
  },
  {
   "cell_type": "markdown",
   "metadata": {},
   "source": [
    "Opting for Option C was driven by the efficacy of the AND predicate and an index on g_batting, ensuring both conditions (g_batting = 10 and g_all = 10) are met while reducing execution time and cost by rapidly isolating and checking relevant rows. Options D, E, and F were disregarded due to the OR predicate’s requirement of only one condition to be satisfied, rendering an index ineffective as each row must still be scrutinized for both values since a result could be valid with either g_batting or g_all equaling 10. The choice of Option I was attributed to the multicolumn index's ability to swiftly locate and return a union of rows with either g_batting = 10 or g_all = 10, ensuring no duplicate entries"
   ]
  },
  {
   "cell_type": "markdown",
   "metadata": {
    "deletable": false,
    "editable": false
   },
   "source": [
    "<!-- END QUESTION -->\n",
    "\n",
    "<br/><br/><br/>\n",
    "\n",
    "<hr style=\"border: 5px solid #003262;\" />\n",
    "<hr style=\"border: 1px solid #fdb515;\" />\n",
    "\n",
    "# Question 7: Indexes, Part 3\n",
    "\n",
    "Continue the analysis on how indexes impact query performance. Now, use aggregators.\n",
    "\n",
    "Question 7:\n",
    "* Question 7a: Write two queries that use aggregators. Record query performance.\n",
    "* Question 7b: Add an index and rerun queries in Questions 7a. Record query performance.\n",
    "* Question 7c: Analyze query performance; compare and contrast."
   ]
  },
  {
   "cell_type": "markdown",
   "metadata": {},
   "source": [
    "Before continuing, make sure to drop all existing indexes from previous questions."
   ]
  },
  {
   "cell_type": "code",
   "execution_count": 108,
   "metadata": {},
   "outputs": [
    {
     "data": {
      "text/html": [
       "<span style=\"None\">Running query in &#x27;postgresql://jovyan@127.0.0.1:5432/baseball&#x27;</span>"
      ],
      "text/plain": [
       "Running query in 'postgresql://jovyan@127.0.0.1:5432/baseball'"
      ]
     },
     "metadata": {},
     "output_type": "display_data"
    },
    {
     "data": {
      "text/html": [
       "<span style=\"None\">Running query in &#x27;postgresql://jovyan@127.0.0.1:5432/baseball&#x27;</span>"
      ],
      "text/plain": [
       "Running query in 'postgresql://jovyan@127.0.0.1:5432/baseball'"
      ]
     },
     "metadata": {},
     "output_type": "display_data"
    },
    {
     "data": {
      "text/html": [
       "<span style=\"None\">Running query in &#x27;postgresql://jovyan@127.0.0.1:5432/baseball&#x27;</span>"
      ],
      "text/plain": [
       "Running query in 'postgresql://jovyan@127.0.0.1:5432/baseball'"
      ]
     },
     "metadata": {},
     "output_type": "display_data"
    },
    {
     "data": {
      "text/html": [
       "<table>\n",
       "    <thead>\n",
       "        <tr>\n",
       "        </tr>\n",
       "    </thead>\n",
       "    <tbody>\n",
       "    </tbody>\n",
       "</table>"
      ],
      "text/plain": [
       "++\n",
       "||\n",
       "++\n",
       "++"
      ]
     },
     "execution_count": 108,
     "metadata": {},
     "output_type": "execute_result"
    }
   ],
   "source": [
    "# you must run this cell!!!\n",
    "%sql DROP INDEX IF EXISTS g_batting_idx;\n",
    "%sql DROP INDEX IF EXISTS salary_idx;\n",
    "%sql DROP INDEX IF EXISTS g_batting_all_idx;"
   ]
  },
  {
   "cell_type": "markdown",
   "metadata": {},
   "source": [
    "---\n",
    "\n",
    "## Question 7a\n",
    "\n",
    "Write 2 queries: one that finds the minimum salary from the salary table `Salaries` and one that finds the average. Inspect the queries' query plans and record their execution times and costs."
   ]
  },
  {
   "cell_type": "markdown",
   "metadata": {
    "deletable": false,
    "editable": false
   },
   "source": [
    "Minimum salary:"
   ]
  },
  {
   "cell_type": "code",
   "execution_count": 109,
   "metadata": {
    "tags": []
   },
   "outputs": [
    {
     "data": {
      "text/html": [
       "<span style=\"None\">Running query in &#x27;postgresql://jovyan@127.0.0.1:5432/baseball&#x27;</span>"
      ],
      "text/plain": [
       "Running query in 'postgresql://jovyan@127.0.0.1:5432/baseball'"
      ]
     },
     "metadata": {},
     "output_type": "display_data"
    },
    {
     "data": {
      "text/html": [
       "<span style=\"color: green\">1 rows affected.</span>"
      ],
      "text/plain": [
       "1 rows affected."
      ]
     },
     "metadata": {},
     "output_type": "display_data"
    }
   ],
   "source": [
    "%%sql --save query_7a_min result_7a_min << \n",
    "SELECT MIN(salary)\n",
    "FROM salaries"
   ]
  },
  {
   "cell_type": "code",
   "execution_count": 110,
   "metadata": {
    "tags": []
   },
   "outputs": [
    {
     "data": {
      "text/html": [
       "<table>\n",
       "    <thead>\n",
       "        <tr>\n",
       "            <th>min</th>\n",
       "        </tr>\n",
       "    </thead>\n",
       "    <tbody>\n",
       "        <tr>\n",
       "            <td>0.0</td>\n",
       "        </tr>\n",
       "    </tbody>\n",
       "</table>"
      ],
      "text/plain": [
       "+-----+\n",
       "| min |\n",
       "+-----+\n",
       "| 0.0 |\n",
       "+-----+"
      ]
     },
     "metadata": {},
     "output_type": "display_data"
    },
    {
     "data": {
      "text/html": [
       "<span style=\"None\">Running query in &#x27;postgresql://jovyan@127.0.0.1:5432/baseball&#x27;</span>"
      ],
      "text/plain": [
       "Running query in 'postgresql://jovyan@127.0.0.1:5432/baseball'"
      ]
     },
     "metadata": {},
     "output_type": "display_data"
    },
    {
     "data": {
      "text/html": [
       "<span style=\"color: green\">4 rows affected.</span>"
      ],
      "text/plain": [
       "4 rows affected."
      ]
     },
     "metadata": {},
     "output_type": "display_data"
    },
    {
     "data": {
      "text/html": [
       "<table>\n",
       "    <thead>\n",
       "        <tr>\n",
       "            <th>QUERY PLAN</th>\n",
       "        </tr>\n",
       "    </thead>\n",
       "    <tbody>\n",
       "        <tr>\n",
       "            <td>Aggregate  (cost=525.35..525.36 rows=1 width=8) (actual time=6.769..6.770 rows=1 loops=1)</td>\n",
       "        </tr>\n",
       "        <tr>\n",
       "            <td>&nbsp;&nbsp;->  Seq Scan on salaries  (cost=0.00..459.28 rows=26428 width=8) (actual time=0.010..2.744 rows=26428 loops=1)</td>\n",
       "        </tr>\n",
       "        <tr>\n",
       "            <td>Planning Time: 0.092 ms</td>\n",
       "        </tr>\n",
       "        <tr>\n",
       "            <td>Execution Time: 6.798 ms</td>\n",
       "        </tr>\n",
       "    </tbody>\n",
       "</table>"
      ],
      "text/plain": [
       "+------------------------------------------------------------------------------------------------------------------+\n",
       "|                                                    QUERY PLAN                                                    |\n",
       "+------------------------------------------------------------------------------------------------------------------+\n",
       "|            Aggregate  (cost=525.35..525.36 rows=1 width=8) (actual time=6.769..6.770 rows=1 loops=1)             |\n",
       "|   ->  Seq Scan on salaries  (cost=0.00..459.28 rows=26428 width=8) (actual time=0.010..2.744 rows=26428 loops=1) |\n",
       "|                                             Planning Time: 0.092 ms                                              |\n",
       "|                                             Execution Time: 6.798 ms                                             |\n",
       "+------------------------------------------------------------------------------------------------------------------+"
      ]
     },
     "execution_count": 110,
     "metadata": {},
     "output_type": "execute_result"
    }
   ],
   "source": [
    "# Do not delete/edit this cell!\n",
    "# You must run this cell before running the autograder.\n",
    "query_7a_min = %sqlcmd snippets query_7a_min\n",
    "grading_util.save_results(\"result_7a_min\", query_7a_min, result_7a_min);\n",
    "\n",
    "display(result_7a_min)\n",
    "%sql EXPLAIN ANALYZE {{query_7a_min}} "
   ]
  },
  {
   "cell_type": "code",
   "execution_count": 111,
   "metadata": {
    "tags": []
   },
   "outputs": [],
   "source": [
    "result_7a_min_query_cost = 525.36 \n",
    "result_7a_min_query_timing = 6.798"
   ]
  },
  {
   "cell_type": "code",
   "execution_count": 112,
   "metadata": {
    "deletable": false,
    "editable": false
   },
   "outputs": [
    {
     "data": {
      "text/html": [
       "<p><strong><pre style='display: inline;'>q7a_min</pre></strong> passed! 💯</p>"
      ],
      "text/plain": [
       "q7a_min results: All test cases passed!"
      ]
     },
     "execution_count": 112,
     "metadata": {},
     "output_type": "execute_result"
    }
   ],
   "source": [
    "grader.check(\"q7a_min\")"
   ]
  },
  {
   "cell_type": "markdown",
   "metadata": {
    "deletable": false,
    "editable": false
   },
   "source": [
    "Average salary:"
   ]
  },
  {
   "cell_type": "code",
   "execution_count": 113,
   "metadata": {
    "tags": []
   },
   "outputs": [
    {
     "data": {
      "text/html": [
       "<span style=\"None\">Running query in &#x27;postgresql://jovyan@127.0.0.1:5432/baseball&#x27;</span>"
      ],
      "text/plain": [
       "Running query in 'postgresql://jovyan@127.0.0.1:5432/baseball'"
      ]
     },
     "metadata": {},
     "output_type": "display_data"
    },
    {
     "data": {
      "text/html": [
       "<span style=\"color: green\">1 rows affected.</span>"
      ],
      "text/plain": [
       "1 rows affected."
      ]
     },
     "metadata": {},
     "output_type": "display_data"
    }
   ],
   "source": [
    "%%sql --save query_7a_avg result_7a_avg <<\n",
    "SELECT AVG(salary)\n",
    "FROM salaries"
   ]
  },
  {
   "cell_type": "code",
   "execution_count": 114,
   "metadata": {
    "tags": []
   },
   "outputs": [
    {
     "data": {
      "text/html": [
       "<table>\n",
       "    <thead>\n",
       "        <tr>\n",
       "            <th>avg</th>\n",
       "        </tr>\n",
       "    </thead>\n",
       "    <tbody>\n",
       "        <tr>\n",
       "            <td>2085634.053125473</td>\n",
       "        </tr>\n",
       "    </tbody>\n",
       "</table>"
      ],
      "text/plain": [
       "+-------------------+\n",
       "|        avg        |\n",
       "+-------------------+\n",
       "| 2085634.053125473 |\n",
       "+-------------------+"
      ]
     },
     "metadata": {},
     "output_type": "display_data"
    },
    {
     "data": {
      "text/html": [
       "<span style=\"None\">Running query in &#x27;postgresql://jovyan@127.0.0.1:5432/baseball&#x27;</span>"
      ],
      "text/plain": [
       "Running query in 'postgresql://jovyan@127.0.0.1:5432/baseball'"
      ]
     },
     "metadata": {},
     "output_type": "display_data"
    },
    {
     "data": {
      "text/html": [
       "<span style=\"color: green\">4 rows affected.</span>"
      ],
      "text/plain": [
       "4 rows affected."
      ]
     },
     "metadata": {},
     "output_type": "display_data"
    },
    {
     "data": {
      "text/html": [
       "<table>\n",
       "    <thead>\n",
       "        <tr>\n",
       "            <th>QUERY PLAN</th>\n",
       "        </tr>\n",
       "    </thead>\n",
       "    <tbody>\n",
       "        <tr>\n",
       "            <td>Aggregate  (cost=525.35..525.36 rows=1 width=8) (actual time=4.002..4.003 rows=1 loops=1)</td>\n",
       "        </tr>\n",
       "        <tr>\n",
       "            <td>&nbsp;&nbsp;->  Seq Scan on salaries  (cost=0.00..459.28 rows=26428 width=8) (actual time=0.008..1.564 rows=26428 loops=1)</td>\n",
       "        </tr>\n",
       "        <tr>\n",
       "            <td>Planning Time: 0.056 ms</td>\n",
       "        </tr>\n",
       "        <tr>\n",
       "            <td>Execution Time: 4.026 ms</td>\n",
       "        </tr>\n",
       "    </tbody>\n",
       "</table>"
      ],
      "text/plain": [
       "+------------------------------------------------------------------------------------------------------------------+\n",
       "|                                                    QUERY PLAN                                                    |\n",
       "+------------------------------------------------------------------------------------------------------------------+\n",
       "|            Aggregate  (cost=525.35..525.36 rows=1 width=8) (actual time=4.002..4.003 rows=1 loops=1)             |\n",
       "|   ->  Seq Scan on salaries  (cost=0.00..459.28 rows=26428 width=8) (actual time=0.008..1.564 rows=26428 loops=1) |\n",
       "|                                             Planning Time: 0.056 ms                                              |\n",
       "|                                             Execution Time: 4.026 ms                                             |\n",
       "+------------------------------------------------------------------------------------------------------------------+"
      ]
     },
     "execution_count": 114,
     "metadata": {},
     "output_type": "execute_result"
    }
   ],
   "source": [
    "# Do not delete/edit this cell!\n",
    "# You must run this cell before running the autograder.\n",
    "query_7a_avg = %sqlcmd snippets query_7a_avg\n",
    "grading_util.save_results(\"result_7a_avg\", query_7a_avg, result_7a_avg);\n",
    "\n",
    "display(result_7a_avg)\n",
    "%sql EXPLAIN ANALYZE {{query_7a_avg}} "
   ]
  },
  {
   "cell_type": "code",
   "execution_count": 115,
   "metadata": {
    "tags": []
   },
   "outputs": [],
   "source": [
    "result_7a_avg_query_cost = 525.36\n",
    "result_7a_avg_query_timing = 4.026 "
   ]
  },
  {
   "cell_type": "code",
   "execution_count": 116,
   "metadata": {
    "deletable": false,
    "editable": false
   },
   "outputs": [
    {
     "data": {
      "text/html": [
       "<p><strong><pre style='display: inline;'>q7a_avg</pre></strong> passed! 🌈</p>"
      ],
      "text/plain": [
       "q7a_avg results: All test cases passed!"
      ]
     },
     "execution_count": 116,
     "metadata": {},
     "output_type": "execute_result"
    }
   ],
   "source": [
    "grader.check(\"q7a_avg\")"
   ]
  },
  {
   "cell_type": "markdown",
   "metadata": {
    "deletable": false,
    "editable": false
   },
   "source": [
    "<br><br>\n",
    "\n",
    "---\n",
    "## Question 7b\n",
    "Create an index on the `salary` column in the `Salaries` table and re-inspect the query plans from the previous part and record the respective execution time and cost."
   ]
  },
  {
   "cell_type": "code",
   "execution_count": 117,
   "metadata": {
    "tags": []
   },
   "outputs": [
    {
     "data": {
      "text/html": [
       "<span style=\"None\">Running query in &#x27;postgresql://jovyan@127.0.0.1:5432/baseball&#x27;</span>"
      ],
      "text/plain": [
       "Running query in 'postgresql://jovyan@127.0.0.1:5432/baseball'"
      ]
     },
     "metadata": {},
     "output_type": "display_data"
    },
    {
     "data": {
      "text/html": [
       "<table>\n",
       "    <thead>\n",
       "        <tr>\n",
       "        </tr>\n",
       "    </thead>\n",
       "    <tbody>\n",
       "    </tbody>\n",
       "</table>"
      ],
      "text/plain": [
       "++\n",
       "||\n",
       "++\n",
       "++"
      ]
     },
     "execution_count": 117,
     "metadata": {},
     "output_type": "execute_result"
    }
   ],
   "source": [
    "%%sql \n",
    "DROP INDEX IF EXISTS salary_idx;\n",
    "CREATE INDEX salary_idx ON salaries(salary)"
   ]
  },
  {
   "cell_type": "code",
   "execution_count": 118,
   "metadata": {
    "tags": []
   },
   "outputs": [
    {
     "data": {
      "text/html": [
       "<span style=\"None\">Running query in &#x27;postgresql://jovyan@127.0.0.1:5432/baseball&#x27;</span>"
      ],
      "text/plain": [
       "Running query in 'postgresql://jovyan@127.0.0.1:5432/baseball'"
      ]
     },
     "metadata": {},
     "output_type": "display_data"
    },
    {
     "data": {
      "text/html": [
       "<span style=\"color: green\">8 rows affected.</span>"
      ],
      "text/plain": [
       "8 rows affected."
      ]
     },
     "metadata": {},
     "output_type": "display_data"
    },
    {
     "data": {
      "text/html": [
       "<table>\n",
       "    <thead>\n",
       "        <tr>\n",
       "            <th>QUERY PLAN</th>\n",
       "        </tr>\n",
       "    </thead>\n",
       "    <tbody>\n",
       "        <tr>\n",
       "            <td>Result  (cost=0.32..0.33 rows=1 width=8) (actual time=0.063..0.064 rows=1 loops=1)</td>\n",
       "        </tr>\n",
       "        <tr>\n",
       "            <td>&nbsp;&nbsp;InitPlan 1 (returns $0)</td>\n",
       "        </tr>\n",
       "        <tr>\n",
       "            <td>&nbsp;&nbsp;&nbsp;&nbsp;->  Limit  (cost=0.29..0.32 rows=1 width=8) (actual time=0.060..0.060 rows=1 loops=1)</td>\n",
       "        </tr>\n",
       "        <tr>\n",
       "            <td>&nbsp;&nbsp;&nbsp;&nbsp;&nbsp;&nbsp;&nbsp;&nbsp;&nbsp;&nbsp;->  Index Only Scan using salary_idx on salaries  (cost=0.29..762.78 rows=26428 width=8) (actual time=0.058..0.058 rows=1 loops=1)</td>\n",
       "        </tr>\n",
       "        <tr>\n",
       "            <td>&nbsp;&nbsp;&nbsp;&nbsp;&nbsp;&nbsp;&nbsp;&nbsp;&nbsp;&nbsp;&nbsp;&nbsp;&nbsp;&nbsp;&nbsp;&nbsp;Index Cond: (salary IS NOT NULL)</td>\n",
       "        </tr>\n",
       "        <tr>\n",
       "            <td>&nbsp;&nbsp;&nbsp;&nbsp;&nbsp;&nbsp;&nbsp;&nbsp;&nbsp;&nbsp;&nbsp;&nbsp;&nbsp;&nbsp;&nbsp;&nbsp;Heap Fetches: 0</td>\n",
       "        </tr>\n",
       "        <tr>\n",
       "            <td>Planning Time: 0.362 ms</td>\n",
       "        </tr>\n",
       "        <tr>\n",
       "            <td>Execution Time: 0.086 ms</td>\n",
       "        </tr>\n",
       "    </tbody>\n",
       "</table>"
      ],
      "text/plain": [
       "+----------------------------------------------------------------------------------------------------------------------------------------------+\n",
       "|                                                                  QUERY PLAN                                                                  |\n",
       "+----------------------------------------------------------------------------------------------------------------------------------------------+\n",
       "|                              Result  (cost=0.32..0.33 rows=1 width=8) (actual time=0.063..0.064 rows=1 loops=1)                              |\n",
       "|                                                            InitPlan 1 (returns $0)                                                           |\n",
       "|                              ->  Limit  (cost=0.29..0.32 rows=1 width=8) (actual time=0.060..0.060 rows=1 loops=1)                           |\n",
       "|           ->  Index Only Scan using salary_idx on salaries  (cost=0.29..762.78 rows=26428 width=8) (actual time=0.058..0.058 rows=1 loops=1) |\n",
       "|                                                               Index Cond: (salary IS NOT NULL)                                               |\n",
       "|                                                                       Heap Fetches: 0                                                        |\n",
       "|                                                           Planning Time: 0.362 ms                                                            |\n",
       "|                                                           Execution Time: 0.086 ms                                                           |\n",
       "+----------------------------------------------------------------------------------------------------------------------------------------------+"
      ]
     },
     "execution_count": 118,
     "metadata": {},
     "output_type": "execute_result"
    }
   ],
   "source": [
    "# record the updated costs for \"min\" query\n",
    "%sql EXPLAIN ANALYZE {{query_7a_min}} "
   ]
  },
  {
   "cell_type": "code",
   "execution_count": 119,
   "metadata": {
    "tags": []
   },
   "outputs": [],
   "source": [
    "result_7b_min_query_cost = 0.33\n",
    "result_7b_min_query_timing = 0.086"
   ]
  },
  {
   "cell_type": "code",
   "execution_count": 120,
   "metadata": {
    "tags": []
   },
   "outputs": [
    {
     "data": {
      "text/html": [
       "<span style=\"None\">Running query in &#x27;postgresql://jovyan@127.0.0.1:5432/baseball&#x27;</span>"
      ],
      "text/plain": [
       "Running query in 'postgresql://jovyan@127.0.0.1:5432/baseball'"
      ]
     },
     "metadata": {},
     "output_type": "display_data"
    },
    {
     "data": {
      "text/html": [
       "<span style=\"color: green\">4 rows affected.</span>"
      ],
      "text/plain": [
       "4 rows affected."
      ]
     },
     "metadata": {},
     "output_type": "display_data"
    },
    {
     "data": {
      "text/html": [
       "<table>\n",
       "    <thead>\n",
       "        <tr>\n",
       "            <th>QUERY PLAN</th>\n",
       "        </tr>\n",
       "    </thead>\n",
       "    <tbody>\n",
       "        <tr>\n",
       "            <td>Aggregate  (cost=525.35..525.36 rows=1 width=8) (actual time=7.376..7.377 rows=1 loops=1)</td>\n",
       "        </tr>\n",
       "        <tr>\n",
       "            <td>&nbsp;&nbsp;->  Seq Scan on salaries  (cost=0.00..459.28 rows=26428 width=8) (actual time=0.013..2.797 rows=26428 loops=1)</td>\n",
       "        </tr>\n",
       "        <tr>\n",
       "            <td>Planning Time: 0.101 ms</td>\n",
       "        </tr>\n",
       "        <tr>\n",
       "            <td>Execution Time: 7.425 ms</td>\n",
       "        </tr>\n",
       "    </tbody>\n",
       "</table>"
      ],
      "text/plain": [
       "+------------------------------------------------------------------------------------------------------------------+\n",
       "|                                                    QUERY PLAN                                                    |\n",
       "+------------------------------------------------------------------------------------------------------------------+\n",
       "|            Aggregate  (cost=525.35..525.36 rows=1 width=8) (actual time=7.376..7.377 rows=1 loops=1)             |\n",
       "|   ->  Seq Scan on salaries  (cost=0.00..459.28 rows=26428 width=8) (actual time=0.013..2.797 rows=26428 loops=1) |\n",
       "|                                             Planning Time: 0.101 ms                                              |\n",
       "|                                             Execution Time: 7.425 ms                                             |\n",
       "+------------------------------------------------------------------------------------------------------------------+"
      ]
     },
     "execution_count": 120,
     "metadata": {},
     "output_type": "execute_result"
    }
   ],
   "source": [
    "# record the updated costs for \"avg\" query\n",
    "%sql EXPLAIN ANALYZE {{query_7a_avg}} "
   ]
  },
  {
   "cell_type": "code",
   "execution_count": 121,
   "metadata": {
    "tags": []
   },
   "outputs": [],
   "source": [
    "result_7b_avg_query_cost = 525.36\n",
    "result_7b_avg_query_timing = 7.425"
   ]
  },
  {
   "cell_type": "code",
   "execution_count": 122,
   "metadata": {
    "deletable": false,
    "editable": false
   },
   "outputs": [
    {
     "data": {
      "text/html": [
       "<p><strong><pre style='display: inline;'>q7b</pre></strong> passed! 🌈</p>"
      ],
      "text/plain": [
       "q7b results: All test cases passed!"
      ]
     },
     "execution_count": 122,
     "metadata": {},
     "output_type": "execute_result"
    }
   ],
   "source": [
    "grader.check(\"q7b\")"
   ]
  },
  {
   "cell_type": "markdown",
   "metadata": {
    "deletable": false,
    "editable": false
   },
   "source": [
    "<!-- BEGIN QUESTION -->\n",
    "\n",
    "<br><br>\n",
    "\n",
    "---\n",
    "\n",
    "## Question 7c\n",
    "Given your findings from `Question 7`, which of the following statements is true?\n",
    "<br> A. An index on the column being aggregated in a query will always provide a performance enhancement.\n",
    "<br> B. A query finding the MIN(salary) will always benefit from an index on salary, but a query finding MAX(salary) will not.\n",
    "<br> C. A query finding the COUNT(salary) will always benefit from an index on salary, but a query finding AVG(salary) will not.\n",
    "<br> D. Queries finding the MIN(salary) or MAX(salary) will always benefit from an index on salary, but queries finding AVG(salary) or COUNT(salary) will not.\n",
    "\n",
    "**Justify your answer.** Explain your answer based on your knowledge from lectures, and details of the query plans (your explanation should include why you didn't choose certain options). Your response should be no longer than 3 sentences.\n",
    " \n",
    "*Note:* Your answer should be formatted as follows: \"A because ... \" "
   ]
  },
  {
   "cell_type": "markdown",
   "metadata": {},
   "source": [
    "C because utilizing an index on salary invariably enhances the performance of MIN(salary) and MAX(salary) functions, as these merely need to identify and return the smallest and largest salary respectively, a task expedited by the index which precisely locates these values. Conversely, AVG(salary) and COUNT(salary) do not derive any advantage from an index on salary since they necessitate a traversal through each row to generate the required outcome. Achieving an average or a count is infeasible without examining every row."
   ]
  },
  {
   "cell_type": "markdown",
   "metadata": {
    "deletable": false,
    "editable": false
   },
   "source": [
    "<!-- END QUESTION -->\n",
    "\n",
    "<br/><br/><br/>\n",
    "\n",
    "<hr style=\"border: 5px solid #003262;\" />\n",
    "<hr style=\"border: 1px solid #fdb515;\" />\n",
    "\n",
    "# Question 8: Clustered Indexes\n",
    "In this question, we will inspect the impact that clustering our data on an index can have on a query's performance.\n",
    "* Question 8a: query\n",
    "* Question 8b: cluster index on primary key\n",
    "* Question 8c: cluster index on different key\n",
    "* Question 8d: observe and analyze."
   ]
  },
  {
   "cell_type": "markdown",
   "metadata": {},
   "source": [
    "Before continuing, make sure to drop all existing indexes from previous questions."
   ]
  },
  {
   "cell_type": "code",
   "execution_count": 123,
   "metadata": {},
   "outputs": [
    {
     "data": {
      "text/html": [
       "<span style=\"None\">Running query in &#x27;postgresql://jovyan@127.0.0.1:5432/baseball&#x27;</span>"
      ],
      "text/plain": [
       "Running query in 'postgresql://jovyan@127.0.0.1:5432/baseball'"
      ]
     },
     "metadata": {},
     "output_type": "display_data"
    },
    {
     "data": {
      "text/html": [
       "<span style=\"None\">Running query in &#x27;postgresql://jovyan@127.0.0.1:5432/baseball&#x27;</span>"
      ],
      "text/plain": [
       "Running query in 'postgresql://jovyan@127.0.0.1:5432/baseball'"
      ]
     },
     "metadata": {},
     "output_type": "display_data"
    },
    {
     "data": {
      "text/html": [
       "<span style=\"None\">Running query in &#x27;postgresql://jovyan@127.0.0.1:5432/baseball&#x27;</span>"
      ],
      "text/plain": [
       "Running query in 'postgresql://jovyan@127.0.0.1:5432/baseball'"
      ]
     },
     "metadata": {},
     "output_type": "display_data"
    },
    {
     "data": {
      "text/html": [
       "<table>\n",
       "    <thead>\n",
       "        <tr>\n",
       "        </tr>\n",
       "    </thead>\n",
       "    <tbody>\n",
       "    </tbody>\n",
       "</table>"
      ],
      "text/plain": [
       "++\n",
       "||\n",
       "++\n",
       "++"
      ]
     },
     "execution_count": 123,
     "metadata": {},
     "output_type": "execute_result"
    }
   ],
   "source": [
    "# you must run this cell!!!\n",
    "%sql DROP INDEX IF EXISTS g_batting_idx;\n",
    "%sql DROP INDEX IF EXISTS salary_idx;\n",
    "%sql DROP INDEX IF EXISTS g_batting_all_idx;"
   ]
  },
  {
   "cell_type": "markdown",
   "metadata": {
    "deletable": false,
    "editable": false
   },
   "source": [
    "---\n",
    "\n",
    "## Question 8a\n",
    "\n",
    "Write a query that finds the `playerid`, `yearid`, `teamid`, and `ab` for all players whose `ab` was above 500. Inspect the query plan and record the execution time and cost."
   ]
  },
  {
   "cell_type": "code",
   "execution_count": 124,
   "metadata": {
    "tags": []
   },
   "outputs": [
    {
     "data": {
      "text/html": [
       "<span style=\"None\">Running query in &#x27;postgresql://jovyan@127.0.0.1:5432/baseball&#x27;</span>"
      ],
      "text/plain": [
       "Running query in 'postgresql://jovyan@127.0.0.1:5432/baseball'"
      ]
     },
     "metadata": {},
     "output_type": "display_data"
    },
    {
     "data": {
      "text/html": [
       "<span style=\"color: green\">8839 rows affected.</span>"
      ],
      "text/plain": [
       "8839 rows affected."
      ]
     },
     "metadata": {},
     "output_type": "display_data"
    }
   ],
   "source": [
    "%%sql --save query_8a result_8a <<\n",
    "SELECT playerid, yearid, teamid, ab\n",
    "FROM batting\n",
    "WHERE ab > 500"
   ]
  },
  {
   "cell_type": "code",
   "execution_count": 125,
   "metadata": {
    "tags": []
   },
   "outputs": [
    {
     "data": {
      "text/html": [
       "<div>\n",
       "<style scoped>\n",
       "    .dataframe tbody tr th:only-of-type {\n",
       "        vertical-align: middle;\n",
       "    }\n",
       "\n",
       "    .dataframe tbody tr th {\n",
       "        vertical-align: top;\n",
       "    }\n",
       "\n",
       "    .dataframe thead th {\n",
       "        text-align: right;\n",
       "    }\n",
       "</style>\n",
       "<table border=\"1\" class=\"dataframe\">\n",
       "  <thead>\n",
       "    <tr style=\"text-align: right;\">\n",
       "      <th></th>\n",
       "      <th>playerid</th>\n",
       "      <th>yearid</th>\n",
       "      <th>teamid</th>\n",
       "      <th>ab</th>\n",
       "    </tr>\n",
       "  </thead>\n",
       "  <tbody>\n",
       "    <tr>\n",
       "      <th>0</th>\n",
       "      <td>dalryab01</td>\n",
       "      <td>1884</td>\n",
       "      <td>CHN</td>\n",
       "      <td>521</td>\n",
       "    </tr>\n",
       "    <tr>\n",
       "      <th>1</th>\n",
       "      <td>hornujo01</td>\n",
       "      <td>1884</td>\n",
       "      <td>BSN</td>\n",
       "      <td>518</td>\n",
       "    </tr>\n",
       "    <tr>\n",
       "      <th>2</th>\n",
       "      <td>ansonca01</td>\n",
       "      <td>1886</td>\n",
       "      <td>CHN</td>\n",
       "      <td>504</td>\n",
       "    </tr>\n",
       "  </tbody>\n",
       "</table>\n",
       "</div>"
      ],
      "text/plain": [
       "    playerid  yearid teamid   ab\n",
       "0  dalryab01    1884    CHN  521\n",
       "1  hornujo01    1884    BSN  518\n",
       "2  ansonca01    1886    CHN  504"
      ]
     },
     "execution_count": 125,
     "metadata": {},
     "output_type": "execute_result"
    }
   ],
   "source": [
    "# Do not delete/edit this cell!\n",
    "# You must run this cell before running the autograder.\n",
    "query_8a = %sqlcmd snippets query_8a\n",
    "grading_util.save_results(\"result_8a\", query_8a, result_8a);\n",
    "result_8a.DataFrame().head(3)"
   ]
  },
  {
   "cell_type": "code",
   "execution_count": 126,
   "metadata": {
    "deletable": false,
    "editable": false
   },
   "outputs": [
    {
     "data": {
      "text/html": [
       "<p><strong><pre style='display: inline;'>q8a</pre></strong> passed! 🎉</p>"
      ],
      "text/plain": [
       "q8a results: All test cases passed!"
      ]
     },
     "execution_count": 126,
     "metadata": {},
     "output_type": "execute_result"
    }
   ],
   "source": [
    "grader.check(\"q8a\")"
   ]
  },
  {
   "cell_type": "markdown",
   "metadata": {
    "deletable": false,
    "editable": false
   },
   "source": [
    "Inspect the query plan and record the execution time and cost."
   ]
  },
  {
   "cell_type": "code",
   "execution_count": 127,
   "metadata": {
    "deletable": false,
    "editable": false
   },
   "outputs": [
    {
     "data": {
      "text/html": [
       "<span style=\"None\">Running query in &#x27;postgresql://jovyan@127.0.0.1:5432/baseball&#x27;</span>"
      ],
      "text/plain": [
       "Running query in 'postgresql://jovyan@127.0.0.1:5432/baseball'"
      ]
     },
     "metadata": {},
     "output_type": "display_data"
    },
    {
     "data": {
      "text/html": [
       "<span style=\"color: green\">5 rows affected.</span>"
      ],
      "text/plain": [
       "5 rows affected."
      ]
     },
     "metadata": {},
     "output_type": "display_data"
    },
    {
     "data": {
      "text/html": [
       "<table>\n",
       "    <thead>\n",
       "        <tr>\n",
       "            <th>QUERY PLAN</th>\n",
       "        </tr>\n",
       "    </thead>\n",
       "    <tbody>\n",
       "        <tr>\n",
       "            <td>Seq Scan on batting  (cost=0.00..2884.05 rows=8824 width=21) (actual time=0.445..20.265 rows=8839 loops=1)</td>\n",
       "        </tr>\n",
       "        <tr>\n",
       "            <td>&nbsp;&nbsp;Filter: (ab > 500)</td>\n",
       "        </tr>\n",
       "        <tr>\n",
       "            <td>&nbsp;&nbsp;Rows Removed by Filter: 95485</td>\n",
       "        </tr>\n",
       "        <tr>\n",
       "            <td>Planning Time: 0.070 ms</td>\n",
       "        </tr>\n",
       "        <tr>\n",
       "            <td>Execution Time: 20.738 ms</td>\n",
       "        </tr>\n",
       "    </tbody>\n",
       "</table>"
      ],
      "text/plain": [
       "+------------------------------------------------------------------------------------------------------------+\n",
       "|                                                 QUERY PLAN                                                 |\n",
       "+------------------------------------------------------------------------------------------------------------+\n",
       "| Seq Scan on batting  (cost=0.00..2884.05 rows=8824 width=21) (actual time=0.445..20.265 rows=8839 loops=1) |\n",
       "|                                              Filter: (ab > 500)                                            |\n",
       "|                                        Rows Removed by Filter: 95485                                       |\n",
       "|                                          Planning Time: 0.070 ms                                           |\n",
       "|                                         Execution Time: 20.738 ms                                          |\n",
       "+------------------------------------------------------------------------------------------------------------+"
      ]
     },
     "execution_count": 127,
     "metadata": {},
     "output_type": "execute_result"
    }
   ],
   "source": [
    "%sql EXPLAIN ANALYZE {{query_8a}} "
   ]
  },
  {
   "cell_type": "code",
   "execution_count": 128,
   "metadata": {
    "tags": []
   },
   "outputs": [],
   "source": [
    "result_8a_cost = 2884.05\n",
    "result_8a_timing = 20.738"
   ]
  },
  {
   "cell_type": "code",
   "execution_count": 129,
   "metadata": {
    "deletable": false,
    "editable": false
   },
   "outputs": [
    {
     "data": {
      "text/html": [
       "<p><strong><pre style='display: inline;'>8a_cost</pre></strong> passed! 🍀</p>"
      ],
      "text/plain": [
       "8a_cost results: All test cases passed!"
      ]
     },
     "execution_count": 129,
     "metadata": {},
     "output_type": "execute_result"
    }
   ],
   "source": [
    "grader.check(\"8a_cost\")"
   ]
  },
  {
   "cell_type": "markdown",
   "metadata": {
    "deletable": false,
    "editable": false
   },
   "source": [
    "<br><br>\n",
    "\n",
    "---\n",
    "\n",
    "## Question 8b\n",
    "\n",
    "Cluster the `batting` table on its primary key (hint: use the psql meta-command `\\di` to find out what name of the primary key is). We are able to directly cluster on the primary key (without first creating a separate index) because Postgres automatically creates an index for it.\n",
    "\n",
    "Then, re-inspect the query plan for the query from `Question 8a` and record the execution time and cost."
   ]
  },
  {
   "cell_type": "code",
   "execution_count": 130,
   "metadata": {
    "tags": []
   },
   "outputs": [
    {
     "data": {
      "text/html": [
       "<span style=\"None\">Running query in &#x27;postgresql://jovyan@127.0.0.1:5432/baseball&#x27;</span>"
      ],
      "text/plain": [
       "Running query in 'postgresql://jovyan@127.0.0.1:5432/baseball'"
      ]
     },
     "metadata": {},
     "output_type": "display_data"
    },
    {
     "data": {
      "text/html": [
       "<table>\n",
       "    <thead>\n",
       "        <tr>\n",
       "        </tr>\n",
       "    </thead>\n",
       "    <tbody>\n",
       "    </tbody>\n",
       "</table>"
      ],
      "text/plain": [
       "++\n",
       "||\n",
       "++\n",
       "++"
      ]
     },
     "execution_count": 130,
     "metadata": {},
     "output_type": "execute_result"
    }
   ],
   "source": [
    "%%sql\n",
    "CLUSTER batting USING batting_pkey"
   ]
  },
  {
   "cell_type": "code",
   "execution_count": 131,
   "metadata": {
    "tags": []
   },
   "outputs": [
    {
     "data": {
      "text/html": [
       "<span style=\"None\">Running query in &#x27;postgresql://jovyan@127.0.0.1:5432/baseball&#x27;</span>"
      ],
      "text/plain": [
       "Running query in 'postgresql://jovyan@127.0.0.1:5432/baseball'"
      ]
     },
     "metadata": {},
     "output_type": "display_data"
    },
    {
     "data": {
      "text/html": [
       "<span style=\"color: green\">5 rows affected.</span>"
      ],
      "text/plain": [
       "5 rows affected."
      ]
     },
     "metadata": {},
     "output_type": "display_data"
    },
    {
     "data": {
      "text/html": [
       "<table>\n",
       "    <thead>\n",
       "        <tr>\n",
       "            <th>QUERY PLAN</th>\n",
       "        </tr>\n",
       "    </thead>\n",
       "    <tbody>\n",
       "        <tr>\n",
       "            <td>Seq Scan on batting  (cost=0.00..2878.05 rows=8824 width=21) (actual time=0.014..22.885 rows=8839 loops=1)</td>\n",
       "        </tr>\n",
       "        <tr>\n",
       "            <td>&nbsp;&nbsp;Filter: (ab > 500)</td>\n",
       "        </tr>\n",
       "        <tr>\n",
       "            <td>&nbsp;&nbsp;Rows Removed by Filter: 95485</td>\n",
       "        </tr>\n",
       "        <tr>\n",
       "            <td>Planning Time: 0.191 ms</td>\n",
       "        </tr>\n",
       "        <tr>\n",
       "            <td>Execution Time: 23.356 ms</td>\n",
       "        </tr>\n",
       "    </tbody>\n",
       "</table>"
      ],
      "text/plain": [
       "+------------------------------------------------------------------------------------------------------------+\n",
       "|                                                 QUERY PLAN                                                 |\n",
       "+------------------------------------------------------------------------------------------------------------+\n",
       "| Seq Scan on batting  (cost=0.00..2878.05 rows=8824 width=21) (actual time=0.014..22.885 rows=8839 loops=1) |\n",
       "|                                              Filter: (ab > 500)                                            |\n",
       "|                                        Rows Removed by Filter: 95485                                       |\n",
       "|                                          Planning Time: 0.191 ms                                           |\n",
       "|                                         Execution Time: 23.356 ms                                          |\n",
       "+------------------------------------------------------------------------------------------------------------+"
      ]
     },
     "execution_count": 131,
     "metadata": {},
     "output_type": "execute_result"
    }
   ],
   "source": [
    "# check the updated costs for query in Question 8a\n",
    "%sql EXPLAIN ANALYZE {{query_8a}} "
   ]
  },
  {
   "cell_type": "code",
   "execution_count": 132,
   "metadata": {
    "tags": []
   },
   "outputs": [],
   "source": [
    "result_8b_cost = 2878.05\n",
    "result_8b_timing = 23.356"
   ]
  },
  {
   "cell_type": "code",
   "execution_count": 133,
   "metadata": {
    "deletable": false,
    "editable": false
   },
   "outputs": [
    {
     "data": {
      "text/html": [
       "<p><strong><pre style='display: inline;'>q8b</pre></strong> passed! 💯</p>"
      ],
      "text/plain": [
       "q8b results: All test cases passed!"
      ]
     },
     "execution_count": 133,
     "metadata": {},
     "output_type": "execute_result"
    }
   ],
   "source": [
    "grader.check(\"q8b\")"
   ]
  },
  {
   "cell_type": "markdown",
   "metadata": {},
   "source": [
    "<br><br>\n",
    "\n",
    "---\n",
    "\n",
    "## Question 8c\n",
    "\n",
    "Now, let's try clustering the table based on another index. Create an index on `ab` column called `ab_idx` in the `batting` table AND cluster the `batting` table with this new index. Now, re-inspect the query plan and record the execution time and cost."
   ]
  },
  {
   "cell_type": "code",
   "execution_count": 134,
   "metadata": {
    "tags": []
   },
   "outputs": [
    {
     "data": {
      "text/html": [
       "<span style=\"None\">Running query in &#x27;postgresql://jovyan@127.0.0.1:5432/baseball&#x27;</span>"
      ],
      "text/plain": [
       "Running query in 'postgresql://jovyan@127.0.0.1:5432/baseball'"
      ]
     },
     "metadata": {},
     "output_type": "display_data"
    }
   ],
   "source": [
    "%%sql --save query_8c result_8c <<\n",
    "CREATE INDEX ab_idx ON batting(ab);\n",
    "CLUSTER batting USING ab_idx"
   ]
  },
  {
   "cell_type": "code",
   "execution_count": 135,
   "metadata": {
    "scrolled": true,
    "tags": []
   },
   "outputs": [
    {
     "data": {
      "text/html": [
       "<span style=\"None\">Running query in &#x27;postgresql://jovyan@127.0.0.1:5432/baseball&#x27;</span>"
      ],
      "text/plain": [
       "Running query in 'postgresql://jovyan@127.0.0.1:5432/baseball'"
      ]
     },
     "metadata": {},
     "output_type": "display_data"
    },
    {
     "data": {
      "text/html": [
       "<span style=\"color: green\">7 rows affected.</span>"
      ],
      "text/plain": [
       "7 rows affected."
      ]
     },
     "metadata": {},
     "output_type": "display_data"
    },
    {
     "data": {
      "text/html": [
       "<table>\n",
       "    <thead>\n",
       "        <tr>\n",
       "            <th>QUERY PLAN</th>\n",
       "        </tr>\n",
       "    </thead>\n",
       "    <tbody>\n",
       "        <tr>\n",
       "            <td>Bitmap Heap Scan on batting  (cost=100.68..1785.98 rows=8824 width=21) (actual time=0.366..2.137 rows=8839 loops=1)</td>\n",
       "        </tr>\n",
       "        <tr>\n",
       "            <td>&nbsp;&nbsp;Recheck Cond: (ab > 500)</td>\n",
       "        </tr>\n",
       "        <tr>\n",
       "            <td>&nbsp;&nbsp;Heap Blocks: exact=135</td>\n",
       "        </tr>\n",
       "        <tr>\n",
       "            <td>&nbsp;&nbsp;->  Bitmap Index Scan on ab_idx  (cost=0.00..98.47 rows=8824 width=0) (actual time=0.341..0.342 rows=8839 loops=1)</td>\n",
       "        </tr>\n",
       "        <tr>\n",
       "            <td>&nbsp;&nbsp;&nbsp;&nbsp;&nbsp;&nbsp;&nbsp;&nbsp;Index Cond: (ab > 500)</td>\n",
       "        </tr>\n",
       "        <tr>\n",
       "            <td>Planning Time: 0.236 ms</td>\n",
       "        </tr>\n",
       "        <tr>\n",
       "            <td>Execution Time: 2.483 ms</td>\n",
       "        </tr>\n",
       "    </tbody>\n",
       "</table>"
      ],
      "text/plain": [
       "+----------------------------------------------------------------------------------------------------------------------+\n",
       "|                                                      QUERY PLAN                                                      |\n",
       "+----------------------------------------------------------------------------------------------------------------------+\n",
       "| Bitmap Heap Scan on batting  (cost=100.68..1785.98 rows=8824 width=21) (actual time=0.366..2.137 rows=8839 loops=1)  |\n",
       "|                                                Recheck Cond: (ab > 500)                                              |\n",
       "|                                                 Heap Blocks: exact=135                                               |\n",
       "|   ->  Bitmap Index Scan on ab_idx  (cost=0.00..98.47 rows=8824 width=0) (actual time=0.341..0.342 rows=8839 loops=1) |\n",
       "|                                                    Index Cond: (ab > 500)                                            |\n",
       "|                                               Planning Time: 0.236 ms                                                |\n",
       "|                                               Execution Time: 2.483 ms                                               |\n",
       "+----------------------------------------------------------------------------------------------------------------------+"
      ]
     },
     "execution_count": 135,
     "metadata": {},
     "output_type": "execute_result"
    }
   ],
   "source": [
    "# Do not delete/edit this cell!\n",
    "# You must run this cell before running the autograder.\n",
    "query_8c = %sqlcmd snippets query_8c\n",
    "grading_util.save_results(\"result_8c\", query_8c, result_8c);\n",
    "\n",
    "# check the updated costs for query in Question 8a\n",
    "%sql EXPLAIN ANALYZE {{query_8a}} "
   ]
  },
  {
   "cell_type": "code",
   "execution_count": 136,
   "metadata": {
    "tags": []
   },
   "outputs": [],
   "source": [
    "result_8c_cost = 1785.98\n",
    "result_8c_timing = 2.483"
   ]
  },
  {
   "cell_type": "code",
   "execution_count": 137,
   "metadata": {
    "deletable": false,
    "editable": false
   },
   "outputs": [
    {
     "data": {
      "text/html": [
       "<p><strong><pre style='display: inline;'>q8c</pre></strong> passed! 💯</p>"
      ],
      "text/plain": [
       "q8c results: All test cases passed!"
      ]
     },
     "execution_count": 137,
     "metadata": {},
     "output_type": "execute_result"
    }
   ],
   "source": [
    "grader.check(\"q8c\")"
   ]
  },
  {
   "cell_type": "markdown",
   "metadata": {
    "deletable": false,
    "editable": false
   },
   "source": [
    "<br><br>\n",
    "\n",
    "---\n",
    "\n",
    "## Question 8d\n",
    "Given your findings from inspecting the query plans from Questions 8a, 8b, and 8c, assign the variable `q8d` to a list of all statements that are true.\n",
    "\n",
    "A. Clustering based on the `ab_idx` decreased the cost of the query.<br/>\n",
    "B. Clustering based on the `ab_idx` increased the cost of the query.<br/>\n",
    "C. Clustering based on the `ab_idx` increased the execution time of the query.<br/>\n",
    "D. Clustering based on the `ab_idx` decreased the execution time of the query.<br/>\n",
    "E. Clustering based on the `batting_pkey` decreased the cost of the query.<br/>\n",
    "F. Clustering based on the `batting_pkey` increased the cost of the query.<br/>\n",
    "G. Clustering based on the `batting_pkey` increased the execution time of the query.<br/>\n",
    "H. Clustering based on the `batting_pkey` decreased the execution time of the query.<br/>\n",
    "I. None of the above\n",
    "    \n",
    "**Note:** Your answer should be formatted as a list of single-character strings, e.g., `q8d = ['A', 'B']`.\n"
   ]
  },
  {
   "cell_type": "code",
   "execution_count": 138,
   "metadata": {
    "tags": []
   },
   "outputs": [],
   "source": [
    "q8d = ['A','D']"
   ]
  },
  {
   "cell_type": "code",
   "execution_count": 139,
   "metadata": {
    "deletable": false,
    "editable": false
   },
   "outputs": [
    {
     "data": {
      "text/html": [
       "<p><strong><pre style='display: inline;'>q8d</pre></strong> passed! 🚀</p>"
      ],
      "text/plain": [
       "q8d results: All test cases passed!"
      ]
     },
     "execution_count": 139,
     "metadata": {},
     "output_type": "execute_result"
    }
   ],
   "source": [
    "grader.check(\"q8d\")"
   ]
  },
  {
   "cell_type": "markdown",
   "metadata": {
    "deletable": false,
    "editable": false
   },
   "source": [
    "<br><br>\n",
    "\n",
    "---\n",
    "\n",
    "### Question 8di Justification\n",
    "\n",
    "Explain your answer to `Question 8d` above based on your knowledge from lectures, and details from inspecting the query plans (your explanation should include why you didn't choose certain options). Your answer should be no longer than 3 sentences."
   ]
  },
  {
   "cell_type": "markdown",
   "metadata": {},
   "source": [
    "When a table is clustered using an index, such as \"ab_idx\", it organizes the physical storage of the rows based on that index, enhancing data retrieval efficiency and thereby potentially reducing query costs and execution time, as per options A and D. This means that for queries utilizing this index, the database can access and return the requisite data more swiftly due to the minimized I/O costs and optimized data location. Particularly for queries that require scanning ranges of values or retrieving ordered datasets, a clustered index can significantly decrease the data that needs to be examined, contributing to reduced execution times and lower computational costs."
   ]
  },
  {
   "cell_type": "markdown",
   "metadata": {},
   "source": [
    "<br/><br/><br/>\n",
    "\n",
    "<hr style=\"border: 5px solid #003262;\" />\n",
    "<hr style=\"border: 1px solid #fdb515;\" />\n",
    "\n",
    "# Question 9: Cost of Index Management\n",
    "Until now, we have seen the positive potential impact that indexes can have on query performance, but remember in real world technologies/applications, we will be routinely receiving new data (and in large quantities) which would trigger regular updates to our tables. In this section, we will dive into the cost of managing the indexes that we create.\n",
    "\n",
    "Before starting this question, be sure to delete any indexes by running the below cell."
   ]
  },
  {
   "cell_type": "code",
   "execution_count": 140,
   "metadata": {},
   "outputs": [
    {
     "data": {
      "text/html": [
       "<span style=\"None\">Running query in &#x27;postgresql://jovyan@127.0.0.1:5432/baseball&#x27;</span>"
      ],
      "text/plain": [
       "Running query in 'postgresql://jovyan@127.0.0.1:5432/baseball'"
      ]
     },
     "metadata": {},
     "output_type": "display_data"
    },
    {
     "data": {
      "text/html": [
       "<span style=\"None\">Running query in &#x27;postgresql://jovyan@127.0.0.1:5432/baseball&#x27;</span>"
      ],
      "text/plain": [
       "Running query in 'postgresql://jovyan@127.0.0.1:5432/baseball'"
      ]
     },
     "metadata": {},
     "output_type": "display_data"
    },
    {
     "data": {
      "text/html": [
       "<span style=\"None\">Running query in &#x27;postgresql://jovyan@127.0.0.1:5432/baseball&#x27;</span>"
      ],
      "text/plain": [
       "Running query in 'postgresql://jovyan@127.0.0.1:5432/baseball'"
      ]
     },
     "metadata": {},
     "output_type": "display_data"
    },
    {
     "data": {
      "text/html": [
       "<span style=\"None\">Running query in &#x27;postgresql://jovyan@127.0.0.1:5432/baseball&#x27;</span>"
      ],
      "text/plain": [
       "Running query in 'postgresql://jovyan@127.0.0.1:5432/baseball'"
      ]
     },
     "metadata": {},
     "output_type": "display_data"
    },
    {
     "data": {
      "text/html": [
       "<table>\n",
       "    <thead>\n",
       "        <tr>\n",
       "        </tr>\n",
       "    </thead>\n",
       "    <tbody>\n",
       "    </tbody>\n",
       "</table>"
      ],
      "text/plain": [
       "++\n",
       "||\n",
       "++\n",
       "++"
      ]
     },
     "execution_count": 140,
     "metadata": {},
     "output_type": "execute_result"
    }
   ],
   "source": [
    "# you must run this cell!!!\n",
    "%sql DROP INDEX IF EXISTS g_batting_idx;\n",
    "%sql DROP INDEX IF EXISTS salary_idx;\n",
    "%sql DROP INDEX IF EXISTS g_batting_all_idx;\n",
    "%sql DROP INDEX IF EXISTS ab_idx;"
   ]
  },
  {
   "cell_type": "markdown",
   "metadata": {
    "deletable": false,
    "editable": false
   },
   "source": [
    "---\n",
    "\n",
    "## Question 9a\n",
    "\n",
    "Record the time it takes to insert 300,000 rows into the `salaries` table when no additional index is configured."
   ]
  },
  {
   "cell_type": "markdown",
   "metadata": {
    "deletable": false,
    "editable": false
   },
   "source": [
    "Run the following cell to setup a column to track which rows we added as part of these inserts."
   ]
  },
  {
   "cell_type": "code",
   "execution_count": 141,
   "metadata": {
    "deletable": false,
    "editable": false
   },
   "outputs": [
    {
     "data": {
      "text/html": [
       "<span style=\"None\">Running query in &#x27;postgresql://jovyan@127.0.0.1:5432/baseball&#x27;</span>"
      ],
      "text/plain": [
       "Running query in 'postgresql://jovyan@127.0.0.1:5432/baseball'"
      ]
     },
     "metadata": {},
     "output_type": "display_data"
    },
    {
     "data": {
      "text/html": [
       "<table>\n",
       "    <thead>\n",
       "        <tr>\n",
       "        </tr>\n",
       "    </thead>\n",
       "    <tbody>\n",
       "    </tbody>\n",
       "</table>"
      ],
      "text/plain": [
       "++\n",
       "||\n",
       "++\n",
       "++"
      ]
     },
     "execution_count": 141,
     "metadata": {},
     "output_type": "execute_result"
    }
   ],
   "source": [
    "%sql ALTER TABLE salaries ADD added boolean DEFAULT False;"
   ]
  },
  {
   "cell_type": "markdown",
   "metadata": {
    "deletable": false,
    "editable": false
   },
   "source": [
    "Next, run the provided update script and record the **wall time**.\n",
    "\n",
    "**NOTE:** Running the below cell multiple times may result in an error, unless you first delete the rows with the cell given at the end of this subpart."
   ]
  },
  {
   "cell_type": "code",
   "execution_count": 142,
   "metadata": {
    "deletable": false,
    "editable": false
   },
   "outputs": [
    {
     "data": {
      "text/html": [
       "<span style=\"None\">Running query in &#x27;postgresql://jovyan@127.0.0.1:5432/baseball&#x27;</span>"
      ],
      "text/plain": [
       "Running query in 'postgresql://jovyan@127.0.0.1:5432/baseball'"
      ]
     },
     "metadata": {},
     "output_type": "display_data"
    },
    {
     "name": "stdout",
     "output_type": "stream",
     "text": [
      "CPU times: user 22.4 ms, sys: 2.98 ms, total: 25.4 ms\n",
      "Wall time: 5.05 s\n"
     ]
    }
   ],
   "source": [
    "%%time\n",
    "%%sql\n",
    "DO $$\n",
    " DECLARE counter INTEGER := 1;\n",
    " BEGIN\n",
    "     FOR counter IN 100001..400000 LOOP\n",
    "     INSERT INTO salaries (yearid, teamid, lgid, playerid, salary, added)\n",
    "         VALUES (2021, 'ATL', 'NL', 'p' || counter, RANDOM() * 1000000, true);\n",
    "     END LOOP;\n",
    "END;\n",
    "$$;"
   ]
  },
  {
   "cell_type": "code",
   "execution_count": 143,
   "metadata": {
    "tags": []
   },
   "outputs": [],
   "source": [
    "result_9a_timing = 5.05"
   ]
  },
  {
   "cell_type": "code",
   "execution_count": 144,
   "metadata": {
    "deletable": false,
    "editable": false
   },
   "outputs": [
    {
     "data": {
      "text/html": [
       "<p><strong><pre style='display: inline;'>q9a</pre></strong> passed! 🌟</p>"
      ],
      "text/plain": [
       "q9a results: All test cases passed!"
      ]
     },
     "execution_count": 144,
     "metadata": {},
     "output_type": "execute_result"
    }
   ],
   "source": [
    "grader.check(\"q9a\")"
   ]
  },
  {
   "cell_type": "markdown",
   "metadata": {},
   "source": [
    "<br/><br/>\n",
    "\n",
    "**Before moving onto the next question**,  delete all the rows that were added to the table from the update script."
   ]
  },
  {
   "cell_type": "code",
   "execution_count": 145,
   "metadata": {},
   "outputs": [
    {
     "data": {
      "text/html": [
       "<span style=\"None\">Running query in &#x27;postgresql://jovyan@127.0.0.1:5432/baseball&#x27;</span>"
      ],
      "text/plain": [
       "Running query in 'postgresql://jovyan@127.0.0.1:5432/baseball'"
      ]
     },
     "metadata": {},
     "output_type": "display_data"
    },
    {
     "data": {
      "text/html": [
       "<span style=\"color: green\">300000 rows affected.</span>"
      ],
      "text/plain": [
       "300000 rows affected."
      ]
     },
     "metadata": {},
     "output_type": "display_data"
    },
    {
     "data": {
      "text/html": [
       "<table>\n",
       "    <thead>\n",
       "        <tr>\n",
       "        </tr>\n",
       "    </thead>\n",
       "    <tbody>\n",
       "    </tbody>\n",
       "</table>"
      ],
      "text/plain": [
       "++\n",
       "||\n",
       "++\n",
       "++"
      ]
     },
     "execution_count": 145,
     "metadata": {},
     "output_type": "execute_result"
    }
   ],
   "source": [
    "%%sql\n",
    "/* just run this cell */\n",
    "DELETE FROM salaries\n",
    "WHERE added = 'true';"
   ]
  },
  {
   "cell_type": "markdown",
   "metadata": {
    "deletable": false,
    "editable": false
   },
   "source": [
    "<br><br>\n",
    "\n",
    "---\n",
    "\n",
    "## Question 9b\n",
    "\n",
    "Now, create an index on the `salary` column and record the **wall time** after executing the update script. Make sure to first run the previous cell to rollback any changes from the previous part!"
   ]
  },
  {
   "cell_type": "code",
   "execution_count": 146,
   "metadata": {
    "tags": []
   },
   "outputs": [
    {
     "data": {
      "text/html": [
       "<span style=\"None\">Running query in &#x27;postgresql://jovyan@127.0.0.1:5432/baseball&#x27;</span>"
      ],
      "text/plain": [
       "Running query in 'postgresql://jovyan@127.0.0.1:5432/baseball'"
      ]
     },
     "metadata": {},
     "output_type": "display_data"
    },
    {
     "data": {
      "text/html": [
       "<table>\n",
       "    <thead>\n",
       "        <tr>\n",
       "        </tr>\n",
       "    </thead>\n",
       "    <tbody>\n",
       "    </tbody>\n",
       "</table>"
      ],
      "text/plain": [
       "++\n",
       "||\n",
       "++\n",
       "++"
      ]
     },
     "execution_count": 146,
     "metadata": {},
     "output_type": "execute_result"
    }
   ],
   "source": [
    "%%sql \n",
    "CREATE INDEX salary_idx ON salaries(salary)"
   ]
  },
  {
   "cell_type": "markdown",
   "metadata": {
    "deletable": false,
    "editable": false
   },
   "source": [
    "**NOTE:** Running the below cell multiple times may result in an error, unless you first delete the rows with the cell given at the end of last subpart."
   ]
  },
  {
   "cell_type": "code",
   "execution_count": 147,
   "metadata": {
    "deletable": false,
    "editable": false,
    "scrolled": true
   },
   "outputs": [
    {
     "data": {
      "text/html": [
       "<span style=\"None\">Running query in &#x27;postgresql://jovyan@127.0.0.1:5432/baseball&#x27;</span>"
      ],
      "text/plain": [
       "Running query in 'postgresql://jovyan@127.0.0.1:5432/baseball'"
      ]
     },
     "metadata": {},
     "output_type": "display_data"
    },
    {
     "name": "stdout",
     "output_type": "stream",
     "text": [
      "CPU times: user 22 ms, sys: 2.01 ms, total: 24 ms\n",
      "Wall time: 11 s\n"
     ]
    }
   ],
   "source": [
    "%%time\n",
    "%%sql\n",
    "DO $$\n",
    " DECLARE counter INTEGER := 1;\n",
    " BEGIN\n",
    "     FOR counter IN 100001..400000 LOOP\n",
    "     INSERT INTO salaries (yearid, teamid, lgid, playerid, salary, added)\n",
    "         VALUES (2021, 'ATL', 'NL', 'p' || counter, RANDOM() * 1000000, true);\n",
    "     END LOOP;\n",
    "END;\n",
    "$$;"
   ]
  },
  {
   "cell_type": "code",
   "execution_count": 149,
   "metadata": {
    "tags": []
   },
   "outputs": [],
   "source": [
    "result_9b_timing = 11"
   ]
  },
  {
   "cell_type": "code",
   "execution_count": 150,
   "metadata": {
    "deletable": false,
    "editable": false
   },
   "outputs": [
    {
     "data": {
      "text/html": [
       "<p><strong><pre style='display: inline;'>q9b</pre></strong> passed! 🚀</p>"
      ],
      "text/plain": [
       "q9b results: All test cases passed!"
      ]
     },
     "execution_count": 150,
     "metadata": {},
     "output_type": "execute_result"
    }
   ],
   "source": [
    "grader.check(\"q9b\")"
   ]
  },
  {
   "cell_type": "markdown",
   "metadata": {
    "deletable": false,
    "editable": false
   },
   "source": [
    "<!-- BEGIN QUESTION -->\n",
    "\n",
    "<br><br>\n",
    "\n",
    "---\n",
    "\n",
    "## Question 9c:\n",
    "What difference did you notice when you added an index into the salaries table and re-timed the update? Why do you think it happened? Your answer should be no longer than 3 sentences."
   ]
  },
  {
   "cell_type": "markdown",
   "metadata": {},
   "source": [
    "The wall time was longer, this might have occured because the indexes have to be updated/adjusted as the new values are added. Also, the index did not improve performance because no filtering occurs."
   ]
  },
  {
   "cell_type": "markdown",
   "metadata": {
    "deletable": false,
    "editable": false
   },
   "source": [
    "<!-- END QUESTION -->\n",
    "\n",
    "<!-- BEGIN QUESTION -->\n",
    "\n",
    "<br/><br/><br/>\n",
    "\n",
    "<hr style=\"border: 5px solid #003262;\" />\n",
    "<hr style=\"border: 1px solid #fdb515;\" />\n",
    "\n",
    "# Question 10: Project Takeaways\n",
    "\n",
    "In this project, we explored how the database system optimizes query execution and how users can futher tune the performance of their queries.\n",
    "\n",
    "Familiarizing yourself with these optimization and tuning methods will make you a better data engineer. In this question, we'll ask you to recall and summarize these concepts. Who knows? Maybe one day it will help you during an interview or on a project.\n",
    "\n",
    "In the following answer cell,\n",
    "1. Name 3 methods you learned in this project. The method can be either the optimization done by the database system, or the fine tuning done by the user.\n",
    "2. For each method, summarize how and why it can optimize query performance. Feel free to discuss any drawbacks, if applicable.\n",
    "\n",
    "Your answer should be no longer than ten sentences. Each method identification/discussion is 2 points.\n"
   ]
  },
  {
   "cell_type": "markdown",
   "metadata": {},
   "source": [
    "In this project, three standout methods I delved into regarding database system optimization and user-level query tuning included Indexing, Filtering with Predicate Pushdown, and the utilization of Materialized and Normal Views.\n",
    "\n",
    "Indexing: This technique revolves around adding an index to a table column to spiffy up query performance. When a column gets indexed, the database gets a quick-reference for where data is stored, making data retrieval, especially for filtered queries, much zippier by directly pointing to the locations of desired values, like we saw with g_batting. While it's a game-changer for read-heavy operations by reducing cost and execution time, the downside pops up when you're adding new data to an indexed table - that’s when things can get sluggish because the database needs to update the index with each addition.\n",
    "\n",
    "Filtering and Predicate Pushdown: This method is all about minimizing the data you're wrestling with from the get-go by applying filters early in the process. Predicate pushdown means applying filter conditions as early as possible, trimming down the amount of data being schlepped through the subsequent query stages. The key benefit here is it optimizes performance by nixing unneeded data early, ensuring the system isn’t wasting time and resources processing irrelevant data. But precision in determining accurate filter conditions is crucial to avoid unintentionally sidelining relevant data.\n",
    "\n",
    "Materialized Views and Normal Views: Here, Materialized Views store certain query results, facilitating quicker use in subsequent queries by bypassing repeated data processing and computation. However, they can be resource-intensive and a bit finicky with frequently-updated tables since you've got to refresh them manually. Normal Views, on the other hand, save the query but not its results, executing it afresh each time it’s referenced. While they aren’t as snappy as Materialized Views, they’re often a better fit for tables that get updated a lot since they always pull the newest data, and they're less demanding resource-wise to set up and maintain."
   ]
  },
  {
   "cell_type": "markdown",
   "metadata": {
    "deletable": false,
    "editable": false
   },
   "source": [
    "<!-- END QUESTION -->\n",
    "\n",
    "<hr style=\"border: 5px solid #003262;\" />\n",
    "<hr style=\"border: 1px solid #fdb515;\" />"
   ]
  },
  {
   "cell_type": "markdown",
   "metadata": {},
   "source": [
    "## Congratulations! You have finished Project 2.\n",
    "\n",
    "Run the following cell to zip and download the results of your queries. You will also need to run the export cell at the end of the notebook.\n",
    "\n",
    "**Please save your notebook before exporting (this is a good time to do it!)** Otherwise, we may not be able to register your written responses.\n",
    "\n",
    "**For submission on Gradescope, you will need to submit BOTH the `proj2.zip` file generated by the export cell and the `results.zip` file generated by the following cell.**\n",
    "\n",
    "**Common submission issues:** You MUST submit the generated zip files (not folders) to the autograder. However, Safari is known to automatically unzip files upon downloading. You can fix this by going into Safari preferences, and deselect the box with the text \"Open safe files after downloading\" under the \"General\" tab. If you experience issues with downloading via clicking on the link, you can also navigate to the project 2 directory within JupyterHub (remove `proj2.ipynb` from the url), and manually download the generated zip files. Please post on Ed if you encounter any other submission issues."
   ]
  },
  {
   "cell_type": "code",
   "execution_count": null,
   "metadata": {
    "scrolled": true
   },
   "outputs": [],
   "source": [
    "grading_util.prepare_submission_and_cleanup()  # builds results.zip"
   ]
  },
  {
   "cell_type": "code",
   "execution_count": null,
   "metadata": {},
   "outputs": [],
   "source": [
    "# Close SQL magic connection\n",
    "# You may disregard \"RunTimeError: Could not close connection\"\n",
    "# %sql --close postgresql://127.0.0.1:5432/baseball"
   ]
  },
  {
   "cell_type": "markdown",
   "metadata": {
    "deletable": false,
    "editable": false
   },
   "source": [
    "## Submission\n",
    "\n",
    "Make sure you have run all cells in your notebook in order before running the cell below, so that all images/graphs appear in the output. The cell below will generate a zip file for you to submit. **Please save before exporting!**"
   ]
  },
  {
   "cell_type": "code",
   "execution_count": null,
   "metadata": {
    "deletable": false,
    "editable": false
   },
   "outputs": [],
   "source": [
    "# Save your notebook first, then run this cell to export your submission.\n",
    "grader.export(run_tests=True, files=['results.zip'])"
   ]
  },
  {
   "cell_type": "markdown",
   "metadata": {},
   "source": [
    " "
   ]
  }
 ],
 "metadata": {
  "kernelspec": {
   "display_name": "Python 3 (ipykernel)",
   "language": "python",
   "name": "python3"
  },
  "language_info": {
   "codemirror_mode": {
    "name": "ipython",
    "version": 3
   },
   "file_extension": ".py",
   "mimetype": "text/x-python",
   "name": "python",
   "nbconvert_exporter": "python",
   "pygments_lexer": "ipython3",
   "version": "3.11.0"
  },
  "otter": {
   "OK_FORMAT": true,
   "tests": {
    "6a_cost": {
     "name": "6a_cost",
     "points": 1,
     "suites": [
      {
       "cases": [
        {
         "code": ">>> 0 <= result_6a_cost <= 10000 and 0 <= result_6a_timing <= 10000\nTrue",
         "hidden": false,
         "locked": false
        }
       ],
       "scored": true,
       "setup": "",
       "teardown": "",
       "type": "doctest"
      }
     ]
    },
    "6b_cost": {
     "name": "6b_cost",
     "points": 1,
     "suites": [
      {
       "cases": [
        {
         "code": ">>> 0 <= result_6b_cost <= 10000 and 0 <= result_6b_timing <= 10000\nTrue",
         "hidden": false,
         "locked": false
        }
       ],
       "scored": true,
       "setup": "",
       "teardown": "",
       "type": "doctest"
      }
     ]
    },
    "8a_cost": {
     "name": "8a_cost",
     "points": 1,
     "suites": [
      {
       "cases": [
        {
         "code": ">>> 0 <= result_8a_cost <= 10000 and 0 <= result_8a_timing <= 10000\nTrue",
         "hidden": false,
         "locked": false
        }
       ],
       "scored": true,
       "setup": "",
       "teardown": "",
       "type": "doctest"
      }
     ]
    },
    "q0": {
     "name": "q0",
     "points": 1,
     "suites": [
      {
       "cases": [
        {
         "code": ">>> 1193 <= sample_query_cost <= 1194 and 12 <= sample_query_timing <= 36\nTrue",
         "hidden": false,
         "locked": false
        }
       ],
       "scored": true,
       "setup": "",
       "teardown": "",
       "type": "doctest"
      }
     ]
    },
    "q1a": {
     "name": "q1a",
     "points": 1,
     "suites": [
      {
       "cases": [
        {
         "code": ">>> query_1a, result_1a_df = grading_util.load_results(\"result_1a\")\n>>> result_1a_df.sort_values(['playerid', 'yearid']).shape == (323, 4)\nTrue",
         "hidden": false,
         "locked": false
        }
       ],
       "scored": true,
       "setup": "",
       "teardown": "",
       "type": "doctest"
      }
     ]
    },
    "q1bi": {
     "name": "q1bi",
     "points": 1,
     "suites": [
      {
       "cases": [
        {
         "code": ">>> 900 <= your_query_cost <= 10000 and 0 <= your_query_timing <= 10000\nTrue",
         "hidden": false,
         "locked": false
        },
        {
         "code": ">>> 900 <= provided_query_cost <= 10000 and 0 <= provided_query_timing <= 10000\nTrue",
         "hidden": false,
         "locked": false
        }
       ],
       "scored": true,
       "setup": "",
       "teardown": "",
       "type": "doctest"
      }
     ]
    },
    "q1bii": {
     "name": "q1bii",
     "points": 2,
     "suites": [
      {
       "cases": [
        {
         "code": ">>> 0 < len(q1b_part2) < 7\nTrue",
         "hidden": false,
         "locked": false
        }
       ],
       "scored": true,
       "setup": "",
       "teardown": "",
       "type": "doctest"
      }
     ]
    },
    "q2a": {
     "name": "q2a",
     "points": 1,
     "suites": [
      {
       "cases": [
        {
         "code": ">>> query_2a, result_2a_df = grading_util.load_results(\"result_2a\")\n>>> result_2a_df.sort_values(['playerid', 'schoolid', 'yearid']).shape == (23, 5)\nTrue",
         "hidden": false,
         "locked": false
        }
       ],
       "scored": true,
       "setup": "",
       "teardown": "",
       "type": "doctest"
      }
     ]
    },
    "q2bi": {
     "name": "q2bi",
     "points": 1,
     "suites": [
      {
       "cases": [
        {
         "code": ">>> query_2b_view, result_2b_view_df = grading_util.load_results(\"result_2b_view\")\n>>> result_2b_view_df.shape == (13, 3)\nTrue",
         "hidden": false,
         "locked": false
        }
       ],
       "scored": true,
       "setup": "",
       "teardown": "",
       "type": "doctest"
      }
     ]
    },
    "q2bii": {
     "name": "q2bii",
     "points": 1,
     "suites": [
      {
       "cases": [
        {
         "code": ">>> query_2b_mat, result_2b_mat_df = grading_util.load_results(\"result_2b_mat\")\n>>> result_2b_mat_df.sort_values(['schoolid', 'yearid']).shape == (13, 3)\nTrue",
         "hidden": false,
         "locked": false
        }
       ],
       "scored": true,
       "setup": "",
       "teardown": "",
       "type": "doctest"
      }
     ]
    },
    "q2biii": {
     "name": "q2biii",
     "points": 1,
     "suites": [
      {
       "cases": [
        {
         "code": ">>> query_2b_no_view, result_2b_no_view_df = grading_util.load_results(\"result_2b_no_view\")\n>>> result_2b_no_view_df.shape == (13, 3)\nTrue",
         "hidden": false,
         "locked": false
        },
        {
         "code": ">>> query_2b_view, result_2b_view_df = grading_util.load_results(\"result_2b_view\")\n>>> query_2b_no_view, result_2b_no_view_df = grading_util.load_results(\"result_2b_no_view\")\n>>> np.sum(result_2b_view_df == result_2b_no_view_df).sum() == 39\nTrue",
         "hidden": false,
         "locked": false
        }
       ],
       "scored": true,
       "setup": "",
       "teardown": "",
       "type": "doctest"
      }
     ]
    },
    "q2c": {
     "name": "q2c",
     "points": 1,
     "suites": [
      {
       "cases": [
        {
         "code": ">>> 0 <= with_view_timing <= 10000 and 0 <= with_view_cost <= 10000\nTrue",
         "hidden": false,
         "locked": false
        },
        {
         "code": ">>> 0 <= without_view_timing <= 10000 and 0 <= without_view_cost <= 10000\nTrue",
         "hidden": false,
         "locked": false
        },
        {
         "code": ">>> 0 <= with_materialized_view_timing <= 10000 and 0 <= with_materialized_view_cost <= 10000\nTrue",
         "hidden": false,
         "locked": false
        }
       ],
       "scored": true,
       "setup": "",
       "teardown": "",
       "type": "doctest"
      }
     ]
    },
    "q2di": {
     "name": "q2di",
     "points": 2,
     "suites": [
      {
       "cases": [
        {
         "code": ">>> 0 < len(q2di) < 11\nTrue",
         "hidden": false,
         "locked": false
        }
       ],
       "scored": true,
       "setup": "",
       "teardown": "",
       "type": "doctest"
      }
     ]
    },
    "q3a": {
     "name": "q3a",
     "points": 1,
     "suites": [
      {
       "cases": [
        {
         "code": ">>> 0 <= query_view_cost <= 10000 and 0 <= query_view_timing <= 10000\nTrue",
         "hidden": false,
         "locked": false
        }
       ],
       "scored": true,
       "setup": "",
       "teardown": "",
       "type": "doctest"
      }
     ]
    },
    "q3b": {
     "name": "q3b",
     "points": 1,
     "suites": [
      {
       "cases": [
        {
         "code": ">>> 0 <= query_view_with_filter_cost <= 10000 and 0 <= query_view_with_filter_timing <= 10000\nTrue",
         "hidden": false,
         "locked": false
        }
       ],
       "scored": true,
       "setup": "",
       "teardown": "",
       "type": "doctest"
      }
     ]
    },
    "q4a": {
     "name": "q4a",
     "points": 1,
     "suites": [
      {
       "cases": [
        {
         "code": ">>> len(q4a) == 1\nTrue",
         "hidden": false,
         "locked": false
        },
        {
         "code": ">>> type(q4a) == str\nTrue",
         "hidden": false,
         "locked": false
        }
       ],
       "scored": true,
       "setup": "",
       "teardown": "",
       "type": "doctest"
      }
     ]
    },
    "q4b": {
     "name": "q4b",
     "points": 1,
     "suites": [
      {
       "cases": [
        {
         "code": ">>> len(q4b) == 1 \nTrue",
         "hidden": false,
         "locked": false
        },
        {
         "code": ">>> type(q4b) == str\nTrue",
         "hidden": false,
         "locked": false
        }
       ],
       "scored": true,
       "setup": "",
       "teardown": "",
       "type": "doctest"
      }
     ]
    },
    "q4c": {
     "name": "q4c",
     "points": 1,
     "suites": [
      {
       "cases": [
        {
         "code": ">>> len(q4c) == 1 \nTrue",
         "hidden": false,
         "locked": false
        },
        {
         "code": ">>> type(q4c) == str\nTrue",
         "hidden": false,
         "locked": false
        }
       ],
       "scored": true,
       "setup": "",
       "teardown": "",
       "type": "doctest"
      }
     ]
    },
    "q5a": {
     "name": "q5a",
     "points": 2,
     "suites": [
      {
       "cases": [
        {
         "code": ">>> query_5a, result_5a_df = grading_util.load_results(\"result_5a\")\n>>> result_5a_df.sort_values('playerid').shape == (134, 2)\nTrue",
         "hidden": false,
         "locked": false
        },
        {
         "code": ">>> 0 <= result_5a_cost <= 10000 and 0 <= result_5a_timing <= 10000\nTrue",
         "hidden": false,
         "locked": false
        }
       ],
       "scored": true,
       "setup": "",
       "teardown": "",
       "type": "doctest"
      }
     ]
    },
    "q5b": {
     "name": "q5b",
     "points": 1,
     "suites": [
      {
       "cases": [
        {
         "code": ">>> 0 <= result_5b_cost <= 10000 and 0 <= result_5b_timing <= 10000\nTrue",
         "hidden": false,
         "locked": false
        }
       ],
       "scored": true,
       "setup": "",
       "teardown": "",
       "type": "doctest"
      }
     ]
    },
    "q5c": {
     "name": "q5c",
     "points": 1,
     "suites": [
      {
       "cases": [
        {
         "code": ">>> 0 <= result_5c_cost <= 10000 and 0 <= result_5c_timing <= 10000\nTrue",
         "hidden": false,
         "locked": false
        }
       ],
       "scored": true,
       "setup": "",
       "teardown": "",
       "type": "doctest"
      }
     ]
    },
    "q5d": {
     "name": "q5d",
     "points": 2,
     "suites": [
      {
       "cases": [
        {
         "code": ">>> 0 < len(q5d) < 9\nTrue",
         "hidden": false,
         "locked": false
        }
       ],
       "scored": true,
       "setup": "",
       "teardown": "",
       "type": "doctest"
      }
     ]
    },
    "q6a": {
     "name": "q6a",
     "points": 1,
     "suites": [
      {
       "cases": [
        {
         "code": ">>> query_6a, result_6a_df = grading_util.load_results(\"result_6a\")\n>>> result_6a_df.sort_values(['playerid', 'yearid']).shape == (120, 3)\nTrue",
         "hidden": false,
         "locked": false
        }
       ],
       "scored": true,
       "setup": "",
       "teardown": "",
       "type": "doctest"
      }
     ]
    },
    "q6b": {
     "name": "q6b",
     "points": 1,
     "suites": [
      {
       "cases": [
        {
         "code": ">>> query_6b, result_6b_df = grading_util.load_results(\"result_6b\")\n>>> result_6b_df.sort_values(['playerid', 'yearid']).shape == (216, 3)\nTrue",
         "hidden": false,
         "locked": false
        }
       ],
       "scored": true,
       "setup": "",
       "teardown": "",
       "type": "doctest"
      }
     ]
    },
    "q6c": {
     "name": "q6c",
     "points": 1,
     "suites": [
      {
       "cases": [
        {
         "code": ">>> 0 <= result_6cand_index_cost <= 10000 and 0 <= result_6cand_index_timing <= 10000\nTrue",
         "hidden": false,
         "locked": false
        },
        {
         "code": ">>> 0 <= result_6cor_index_cost <= 10000 and 0 <= result_6cor_index_timing <= 10000\nTrue",
         "hidden": false,
         "locked": false
        }
       ],
       "scored": true,
       "setup": "",
       "teardown": "",
       "type": "doctest"
      }
     ]
    },
    "q6d": {
     "name": "q6d",
     "points": 1,
     "suites": [
      {
       "cases": [
        {
         "code": ">>> 0 <= result_6d_multiple_col_index_cost <= 10000 and 0 <= result_6d_multiple_col_index_timing <= 10000\nTrue",
         "hidden": false,
         "locked": false
        }
       ],
       "scored": true,
       "setup": "",
       "teardown": "",
       "type": "doctest"
      }
     ]
    },
    "q6e": {
     "name": "q6e",
     "points": 2,
     "suites": [
      {
       "cases": [
        {
         "code": ">>> 0 < len(q6e) < 10\nTrue",
         "hidden": false,
         "locked": false
        }
       ],
       "scored": true,
       "setup": "",
       "teardown": "",
       "type": "doctest"
      }
     ]
    },
    "q7a_avg": {
     "name": "q7a_avg",
     "points": 1,
     "suites": [
      {
       "cases": [
        {
         "code": ">>> 0 <= result_7a_avg_query_cost <= 10000 and 0 <= result_7a_avg_query_timing <= 10000\nTrue",
         "hidden": false,
         "locked": false
        }
       ],
       "scored": true,
       "setup": "",
       "teardown": "",
       "type": "doctest"
      }
     ]
    },
    "q7a_min": {
     "name": "q7a_min",
     "points": 1,
     "suites": [
      {
       "cases": [
        {
         "code": ">>> 0 <= result_7a_min_query_cost <= 10000 and 0 <= result_7a_min_query_timing <= 10000\nTrue",
         "hidden": false,
         "locked": false
        }
       ],
       "scored": true,
       "setup": "",
       "teardown": "",
       "type": "doctest"
      }
     ]
    },
    "q7b": {
     "name": "q7b",
     "points": 1,
     "suites": [
      {
       "cases": [
        {
         "code": ">>> 0 <= result_7b_min_query_cost <= 10000 and 0 <= result_7b_min_query_timing <= 10000\nTrue",
         "hidden": false,
         "locked": false
        },
        {
         "code": ">>> 0 <= result_7b_avg_query_cost <= 10000 and 0 <= result_7b_avg_query_timing <= 10000\nTrue",
         "hidden": false,
         "locked": false
        }
       ],
       "scored": true,
       "setup": "",
       "teardown": "",
       "type": "doctest"
      }
     ]
    },
    "q8a": {
     "name": "q8a",
     "points": 1,
     "suites": [
      {
       "cases": [
        {
         "code": ">>> query_8a, result_8a_df = grading_util.load_results(\"result_8a\")\n>>> result_8a_df.sort_values(['playerid', 'yearid', 'teamid']).iloc[:1000].shape == (1000, 4)\nTrue",
         "hidden": false,
         "locked": false
        }
       ],
       "scored": true,
       "setup": "",
       "teardown": "",
       "type": "doctest"
      }
     ]
    },
    "q8b": {
     "name": "q8b",
     "points": 1,
     "suites": [
      {
       "cases": [
        {
         "code": ">>> 0 <= result_8b_cost <= 10000 and 0 <= result_8b_timing <= 10000\nTrue",
         "hidden": false,
         "locked": false
        }
       ],
       "scored": true,
       "setup": "",
       "teardown": "",
       "type": "doctest"
      }
     ]
    },
    "q8c": {
     "name": "q8c",
     "points": 1,
     "suites": [
      {
       "cases": [
        {
         "code": ">>> 0 <= result_8c_cost <= 10000 and 0 <= result_8c_timing <= 10000\nTrue",
         "hidden": false,
         "locked": false
        }
       ],
       "scored": true,
       "setup": "",
       "teardown": "",
       "type": "doctest"
      }
     ]
    },
    "q8d": {
     "name": "q8d",
     "points": 2,
     "suites": [
      {
       "cases": [
        {
         "code": ">>> 0 < len(q8d) < 10\nTrue",
         "hidden": false,
         "locked": false
        }
       ],
       "scored": true,
       "setup": "",
       "teardown": "",
       "type": "doctest"
      }
     ]
    },
    "q9a": {
     "name": "q9a",
     "points": 1,
     "suites": [
      {
       "cases": [
        {
         "code": ">>> 0 <= result_9a_timing <= 10000\nTrue",
         "hidden": false,
         "locked": false
        }
       ],
       "scored": true,
       "setup": "",
       "teardown": "",
       "type": "doctest"
      }
     ]
    },
    "q9b": {
     "name": "q9b",
     "points": 1,
     "suites": [
      {
       "cases": [
        {
         "code": ">>> 0 <= result_9b_timing <= 10000\nTrue",
         "hidden": false,
         "locked": false
        }
       ],
       "scored": true,
       "setup": "",
       "teardown": "",
       "type": "doctest"
      }
     ]
    }
   }
  }
 },
 "nbformat": 4,
 "nbformat_minor": 4
}
